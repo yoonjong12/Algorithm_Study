{
 "cells": [
  {
   "cell_type": "markdown",
   "metadata": {},
   "source": [
    "# Merge\n",
    "\n",
    "<div><p>There are two sorted arrays <b>nums1</b> and <b>nums2</b> of size m and n respectively.</p>\n",
    "\n",
    "<p>Find the median of the two sorted arrays. The overall run time complexity should be O(log (m+n)).</p>\n",
    "\n",
    "<p>You may assume <strong>nums1</strong> and <strong>nums2</strong>&nbsp;cannot be both empty.</p>\n",
    "\n",
    "<p><b>Example 1:</b></p>\n",
    "\n",
    "<pre>nums1 = [1, 3]\n",
    "nums2 = [2]\n",
    "\n",
    "The median is 2.0\n",
    "</pre>\n",
    "\n",
    "<p><b>Example 2:</b></p>\n",
    "\n",
    "<pre>nums1 = [1, 2]\n",
    "nums2 = [3, 4]\n",
    "\n",
    "The median is (2 + 3)/2 = 2.5\n",
    "</pre>\n",
    "</div>"
   ]
  },
  {
   "cell_type": "code",
   "execution_count": 20,
   "metadata": {},
   "outputs": [
    {
     "name": "stdout",
     "output_type": "stream",
     "text": [
      "3 0\n",
      "3 [1]\n",
      "3 [1, 2]\n",
      "3 [1, 2, 4]\n",
      "3 [1, 2, 4, 5]\n",
      "[1, 2, 4, 5]\n"
     ]
    },
    {
     "data": {
      "text/plain": [
       "4.5"
      ]
     },
     "execution_count": 20,
     "metadata": {},
     "output_type": "execute_result"
    }
   ],
   "source": [
    "def merge(left, right):\n",
    "    count = 0\n",
    "    length = len(left) + len(right)\n",
    "    index, remain= divmod(length, 2)\n",
    "    stack = []\n",
    "    \n",
    "    while len(left) > 0 or len(right) > 0:\n",
    "            \n",
    "        if len(left) > 0 and len(right) > 0:\n",
    "            if left[0] <= right[0]:\n",
    "                stack.append(left[0])\n",
    "                left.pop(0)\n",
    "            else:\n",
    "                stack.append(right[0])\n",
    "                right.pop(0)\n",
    "                \n",
    "        elif len(left) > 0:\n",
    "            stack.append(left[0])\n",
    "            left.pop(0)\n",
    "            \n",
    "        elif len(right) > 0:\n",
    "            stack.append(right[0])\n",
    "            right.pop(0)\n",
    "        if count == index:\n",
    "            break\n",
    "        else:\n",
    "            count += 1    \n",
    "            \n",
    "    if remain:\n",
    "        median = stack[index]\n",
    "    else:\n",
    "        median = (stack[index-1] + stack[index])/2.0\n",
    "    return median\n",
    "\n",
    "num1 = [1,2,5]\n",
    "num2 = [4,5,7]\n",
    "Merge(num1,num2)"
   ]
  },
  {
   "cell_type": "markdown",
   "metadata": {},
   "source": [
    "<div class=\"guide-section-description\">\n",
    "      <h6 class=\"guide-section-title\">문제 설명</h6>\n",
    "      <div class=\"markdown solarized-dark\"><h2>방금그곡</h2>\n",
    "\n",
    "<p>라디오를 자주 듣는 네오는 라디오에서 방금 나왔던 음악이 무슨 음악인지 궁금해질 때가 많다. 그럴 때 네오는 다음 포털의 '방금그곡' 서비스를 이용하곤 한다. 방금그곡에서는 TV, 라디오 등에서 나온 음악에 관해 제목 등의 정보를 제공하는 서비스이다.</p>\n",
    "\n",
    "<p>네오는 자신이 기억한 멜로디를 가지고 방금그곡을 이용해 음악을 찾는다. 그런데 라디오 방송에서는 한 음악을 반복해서 재생할 때도 있어서 네오가 기억하고 있는 멜로디는 음악 끝부분과 처음 부분이 이어서 재생된 멜로디일 수도 있다. 반대로, 한 음악을 중간에 끊을 경우 원본 음악에는 네오가 기억한 멜로디가 들어있다 해도 그 곡이 네오가 들은 곡이 아닐 수도 있다. 그렇기 때문에 네오는 기억한 멜로디를 재생 시간과 제공된 악보를 직접 보면서 비교하려고 한다. 다음과 같은 가정을 할 때 네오가 찾으려는 음악의 제목을 구하여라.</p>\n",
    "\n",
    "<ul>\n",
    "<li>방금그곡 서비스에서는 음악 제목, 재생이 시작되고 끝난 시각, 악보를 제공한다.</li>\n",
    "<li>네오가 기억한 멜로디와 악보에 사용되는 음은 C, C#, D, D#, E, F, F#, G, G#, A, A#, B 12개이다.</li>\n",
    "<li>각 음은 1분에 1개씩 재생된다. 음악은 반드시 처음부터 재생되며 음악 길이보다 재생된 시간이 길 때는 음악이 끊김 없이 처음부터 반복해서 재생된다.  음악 길이보다 재생된 시간이 짧을 때는 처음부터 재생 시간만큼만 재생된다.</li>\n",
    "<li>음악이 00:00를 넘겨서까지 재생되는 일은 없다.</li>\n",
    "<li>조건이 일치하는 음악이 여러 개일 때에는 라디오에서 재생된 시간이 제일 긴 음악 제목을 반환한다. 재생된 시간도 같을 경우 먼저 입력된 음악 제목을 반환한다.</li>\n",
    "<li>조건이 일치하는 음악이 없을 때에는 <q>`(None)`</q>을 반환한다.</li>\n",
    "</ul>\n",
    "\n",
    "<h3>입력 형식</h3>\n",
    "\n",
    "<p>입력으로 네오가 기억한 멜로디를 담은 문자열 <code>m</code>과 방송된 곡의 정보를 담고 있는 배열 <code>musicinfos</code>가 주어진다.</p>\n",
    "\n",
    "<ul>\n",
    "<li><code>m</code>은 음 <code>1</code>개 이상 <code>1439</code>개 이하로 구성되어 있다.</li>\n",
    "<li><code>musicinfos</code>는 <code>100</code>개 이하의 곡 정보를 담고 있는 배열로, 각각의 곡 정보는 음악이 시작한 시각, 끝난 시각, 음악 제목, 악보 정보가 '<code>,</code>'로 구분된 문자열이다.\n",
    "\n",
    "<ul>\n",
    "<li>음악의 시작 시각과 끝난 시각은 24시간 <code>HH:MM</code> 형식이다.</li>\n",
    "<li>음악 제목은 '<code>,</code>' 이외의 출력 가능한 문자로 표현된 길이 <code>1</code> 이상 <code>64</code> 이하의 문자열이다.</li>\n",
    "<li>악보 정보는 음 <code>1</code>개 이상 <code>1439</code>개 이하로 구성되어 있다.</li>\n",
    "</ul></li>\n",
    "</ul>\n",
    "\n",
    "<h3>출력 형식</h3>\n",
    "\n",
    "<p>조건과 일치하는 음악 제목을 출력한다.</p>\n",
    "\n",
    "<h3>입출력 예시</h3>\n",
    "<table class=\"table\">\n",
    "        <thead><tr>\n",
    "<th>m</th>\n",
    "<th>musicinfos</th>\n",
    "<th>answer</th>\n",
    "</tr>\n",
    "</thead>\n",
    "        <tbody><tr>\n",
    "<td><q>ABCDEFG</q></td>\n",
    "<td>[<q>12:00,12:14,HELLO,CDEFGAB</q>, <q>13:00,13:05,WORLD,ABCDEF</q>]</td>\n",
    "<td><q>HELLO</q></td>\n",
    "</tr>\n",
    "<tr>\n",
    "<td><q>CC#BCC#BCC#BCC#B</q></td>\n",
    "<td>[<q>03:00,03:30,FOO,CC#B</q>, <q>04:00,04:08,BAR,CC#BCC#BCC#B</q>]</td>\n",
    "<td><q>FOO</q></td>\n",
    "</tr>\n",
    "<tr>\n",
    "<td><q>ABC</q></td>\n",
    "<td>[<q>12:00,12:14,HELLO,C#DEFGAB</q>, <q>13:00,13:05,WORLD,ABCDEF</q>]</td>\n",
    "<td><q>WORLD</q></td>\n",
    "</tr>\n",
    "</tbody>\n",
    "      </table>\n",
    "<h3>설명</h3>\n",
    "\n",
    "<p>첫 번째 예시에서 HELLO는 길이가 7분이지만 12:00부터 12:14까지 재생되었으므로 실제로 CDEFGABCDEFGAB로 재생되었고, 이 중에 기억한 멜로디인 ABCDEFG가 들어있다.<br>\n",
    "세 번째 예시에서 HELLO는 C#DEFGABC#DEFGAB로, WORLD는 ABCDE로 재생되었다. HELLO 안에 있는 ABC#은 기억한 멜로디인 ABC와 일치하지 않고, WORLD 안에 있는 ABC가 기억한 멜로디와 일치한다.</p>\n",
    "\n",
    "<p><a href=\"http://tech.kakao.com/2017/11/14/kakao-blind-recruitment-round-3/\" target=\"_blank\" rel=\"noopener\">해설 보러가기</a></p>\n",
    "</div>\n",
    "    </div>\n",
    "    "
   ]
  },
  {
   "cell_type": "code",
   "execution_count": 79,
   "metadata": {},
   "outputs": [
    {
     "data": {
      "text/plain": [
       "'FOO'"
      ]
     },
     "execution_count": 79,
     "metadata": {},
     "output_type": "execute_result"
    }
   ],
   "source": [
    "# 1. 먼저 노래가 나온 시간만큼 음을 이어서 완성시킨다. 이거 연결리스트로 해볼라했는데 못했다 젠장\n",
    "# 2. m이 1번에서 완성된 최종 노래에 존재 하는지 찾는다.\n",
    "# 2-1. 만족시켰으면 그 노래를 리턴한다.\n",
    "# 3. 모든 리스트에서 못찾았으면 `(None)` 리턴\n",
    "from itertools import cycle\n",
    "from datetime import datetime\n",
    "import re\n",
    "\n",
    "def getSharp(x):\n",
    "    # 문자열을 받아서 리스트로 리턴하는데 #도 인식해서 나눠 놓음\n",
    "    # ex) 'AC#B' -> ['A','C#','B']\n",
    "    comp = re.compile('(\\w#*)')\n",
    "    return comp.findall(x)\n",
    "\n",
    "# 1\n",
    "def getRealMusic(start, end, music):\n",
    "    FMT = '%H:%M'\n",
    "    time = datetime.strptime(end, FMT) - datetime.strptime(start, FMT)\n",
    "    minutes = time.seconds // 60\n",
    "    iters = cycle(music)\n",
    "    music = ''.join([next(iters) for _ in range(minutes)])\n",
    "    return minutes, music\n",
    "\n",
    "def solution(m, musicinfos):\n",
    "    # 후보 [ name, minutes ]\n",
    "    hubo = [None, 0]\n",
    "    for i in musicinfos:\n",
    "        start, end, name, melody = i.split(',')\n",
    "        melody = getSharp(melody)\n",
    "        minutes, melody = getRealMusic(start, end, melody)\n",
    "        # 2 \n",
    "        # m이 패턴에 알맞고, 맨 뒤에 #없나? \n",
    "        comp = re.compile(f'{m}(?!#)')\n",
    "        if comp.search(melody) is not None:\n",
    "            # 추가 조건 : 후보가 여러개면 더 길게 재생된 음악 리턴\n",
    "            if minutes > hubo[1]:\n",
    "                hubo = [name,minutes]\n",
    "    \n",
    "    if hubo[0] is not None:\n",
    "        return hubo[0]\n",
    "    else:\n",
    "        # 3\n",
    "        return '(None)'"
   ]
  },
  {
   "cell_type": "markdown",
   "metadata": {},
   "source": [
    "<div><p>Given a string <strong>s</strong>, find the longest palindromic substring in <strong>s</strong>. You may assume that the maximum length of <strong>s</strong> is 1000.</p>\n",
    "\n",
    "<p><strong>Example 1:</strong></p>\n",
    "\n",
    "<pre><strong>Input:</strong> \"babad\"\n",
    "<strong>Output:</strong> \"bab\"\n",
    "<strong>Note:</strong> \"aba\" is also a valid answer.\n",
    "</pre>\n",
    "\n",
    "<p><strong>Example 2:</strong></p>\n",
    "\n",
    "<pre><strong>Input:</strong> \"cbbd\"\n",
    "<strong>Output:</strong> \"bb\"\n",
    "</pre>\n",
    "</div>"
   ]
  },
  {
   "cell_type": "code",
   "execution_count": 31,
   "metadata": {},
   "outputs": [
    {
     "name": "stdout",
     "output_type": "stream",
     "text": [
      "##\n",
      "ab 0 2\n",
      "##\n"
     ]
    },
    {
     "data": {
      "text/plain": [
       "'a'"
      ]
     },
     "execution_count": 31,
     "metadata": {},
     "output_type": "execute_result"
    }
   ],
   "source": [
    "# 1. 길이 2 미만이면 바로 그대로 리턴\n",
    "# 2. length는 최장 길이, start와 end는 각각 최장 substring의 시작과 끝\n",
    "# 3. index는 s를 순회하는 인덱스 번호, temp는 인덱스에 최장길이를 더한 값\n",
    "# 3-1. temp가 필요한 이유는 최장길이 이하의 substring은 볼 필요가 없기 때문\n",
    "# 4. 회문이면 최장길이를 그만큼으로 설정하고 start와 end를 업데이트\n",
    "def solution_YJ(s):\n",
    "    if len(s) < 2:\n",
    "        return s\n",
    "\n",
    "    length = 2\n",
    "    start, end = 0, 1\n",
    "    for i in range(len(s)):\n",
    "        index = i\n",
    "        temp = index + length\n",
    "\n",
    "        while True:\n",
    "            if temp > len(s):\n",
    "                break\n",
    "\n",
    "            if s[index:temp] == s[index:temp][::-1] and len(s[index:temp]) > 1:\n",
    "                length = len(s[index:temp])\n",
    "                if end-start < temp-index:\n",
    "                    start, end = index, temp\n",
    "            temp += 1\n",
    "\n",
    "    return s[start:end]"
   ]
  },
  {
   "cell_type": "code",
   "execution_count": 101,
   "metadata": {},
   "outputs": [
    {
     "name": "stdout",
     "output_type": "stream",
     "text": [
      "####\n",
      "index 0\n",
      "long 0\n",
      "a 0 1\n",
      " -1 1\n",
      "####\n",
      "index 1\n",
      "long 1\n",
      "ab 0 2\n",
      " -1 2\n",
      "####\n",
      "index 2\n",
      "long 1\n",
      "bc 1 3\n",
      "abc 0 3\n",
      "####\n",
      "index 3\n",
      "long 1\n",
      "cd 2 4\n",
      "bcd 1 4\n",
      "####\n",
      "index 4\n",
      "long 1\n",
      "dc 3 5\n",
      "cdc 2 5\n",
      "####\n",
      "index 5\n",
      "long 3\n",
      "cdcb 2 6\n",
      "bcdcb 1 6\n",
      "####\n",
      "index 6\n",
      "long 5\n",
      "bcdcba 1 7\n",
      "abcdcba 0 7\n",
      "####\n",
      "index 7\n",
      "long 7\n",
      "abcdcbae 0 8\n",
      " -1 8\n",
      "####\n",
      "index 8\n",
      "long 7\n",
      "bcdcbaef 1 9\n",
      "abcdcbaef 0 9\n",
      "####\n",
      "index 9\n",
      "long 7\n",
      "cdcbaeff 2 10\n",
      "bcdcbaeff 1 10\n",
      "####\n",
      "index 10\n",
      "long 7\n",
      "dcbaeffg 3 11\n",
      "cdcbaeffg 2 11\n",
      "####\n",
      "index 11\n",
      "long 7\n",
      "cbaeffgh 4 12\n",
      "dcbaeffgh 3 12\n"
     ]
    },
    {
     "data": {
      "text/plain": [
       "'abcdcba'"
      ]
     },
     "execution_count": 101,
     "metadata": {},
     "output_type": "execute_result"
    }
   ],
   "source": [
    "# 가장 충격적이었던 다른 사람의 해법\n",
    "\n",
    "def sol(s):\n",
    "    if len(s) <= 1:\n",
    "        return s\n",
    "    i,l=0,0\n",
    "    for j in range(len(s)):\n",
    "        print('####')\n",
    "        print('index', j)\n",
    "        print('long',l)\n",
    "        print(s[j-l: j+1], j-l, j+1)\n",
    "        print(s[j-l-1: j+1], j-l-1, j+1)\n",
    "        \n",
    "        \n",
    "        if s[j-l: j+1] == s[j-l: j+1][::-1]:\n",
    "            i, l = j-l, l+1\n",
    "            # print(s[i: i+l])\n",
    "        elif j-l > 0 and s[j-l-1: j+1] == s[j-l-1: j+1][::-1]:\n",
    "            i, l = j-l-1, l+2\n",
    "            # print(s[i: i+l])\n",
    "    return s[i: i+l]\n",
    "sol('abcdcbaeffgh')"
   ]
  }
 ],
 "metadata": {
  "kernelspec": {
   "display_name": "Python 3",
   "language": "python",
   "name": "python3"
  },
  "language_info": {
   "codemirror_mode": {
    "name": "ipython",
    "version": 3
   },
   "file_extension": ".py",
   "mimetype": "text/x-python",
   "name": "python",
   "nbconvert_exporter": "python",
   "pygments_lexer": "ipython3",
   "version": "3.6.10"
  },
  "varInspector": {
   "cols": {
    "lenName": 16,
    "lenType": 16,
    "lenVar": 40
   },
   "kernels_config": {
    "python": {
     "delete_cmd_postfix": "",
     "delete_cmd_prefix": "del ",
     "library": "var_list.py",
     "varRefreshCmd": "print(var_dic_list())"
    },
    "r": {
     "delete_cmd_postfix": ") ",
     "delete_cmd_prefix": "rm(",
     "library": "var_list.r",
     "varRefreshCmd": "cat(var_dic_list()) "
    }
   },
   "types_to_exclude": [
    "module",
    "function",
    "builtin_function_or_method",
    "instance",
    "_Feature"
   ],
   "window_display": false
  }
 },
 "nbformat": 4,
 "nbformat_minor": 2
}
