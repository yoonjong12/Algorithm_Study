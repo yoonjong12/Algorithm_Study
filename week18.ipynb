{
 "cells": [
  {
   "cell_type": "markdown",
   "metadata": {},
   "source": [
    "# Snapshot array\n",
    "<div><p>Implement a SnapshotArray that supports the following interface:</p>\n",
    "\n",
    "<ul>\n",
    "\t<li><code>SnapshotArray(int length)</code> initializes an array-like data structure with the given length.&nbsp; <strong>Initially, each element equals 0</strong>.</li>\n",
    "\t<li><code>void set(index, val)</code> sets the element at the given <code>index</code> to be equal to <code>val</code>.</li>\n",
    "\t<li><code>int snap()</code>&nbsp;takes a snapshot of the array and returns the <code>snap_id</code>: the total number of times we called <code>snap()</code> minus <code>1</code>.</li>\n",
    "\t<li><code>int get(index, snap_id)</code>&nbsp;returns the value at the given <code>index</code>, at the time we took the snapshot with the given <code>snap_id</code></li>\n",
    "</ul>\n",
    "\n",
    "<p>&nbsp;</p>\n",
    "<p><strong>Example 1:</strong></p>\n",
    "\n",
    "<pre><strong>Input:</strong> [\"SnapshotArray\",\"set\",\"snap\",\"set\",\"get\"]\n",
    "[[3],[0,5],[],[0,6],[0,0]]\n",
    "<strong>Output:</strong> [null,null,0,null,5]\n",
    "<strong>Explanation: </strong>\n",
    "SnapshotArray snapshotArr = new SnapshotArray(3); // set the length to be 3\n",
    "snapshotArr.set(0,5);  // Set array[0] = 5\n",
    "snapshotArr.snap();  // Take a snapshot, return snap_id = 0\n",
    "snapshotArr.set(0,6);\n",
    "snapshotArr.get(0,0);  // Get the value of array[0] with snap_id = 0, return 5</pre>\n",
    "\n",
    "<p>&nbsp;</p>\n",
    "<p><strong>Constraints:</strong></p>\n",
    "\n",
    "<ul>\n",
    "\t<li><code>1 &lt;= length&nbsp;&lt;= 50000</code></li>\n",
    "\t<li>At most <code>50000</code>&nbsp;calls will be made to <code>set</code>, <code>snap</code>, and <code>get</code>.</li>\n",
    "\t<li><code>0 &lt;= index&nbsp;&lt;&nbsp;length</code></li>\n",
    "\t<li><code>0 &lt;=&nbsp;snap_id &lt;&nbsp;</code>(the total number of times we call <code>snap()</code>)</li>\n",
    "\t<li><code>0 &lt;=&nbsp;val &lt;= 10^9</code></li>\n",
    "</ul>\n",
    "</div>"
   ]
  },
  {
   "cell_type": "code",
   "execution_count": 68,
   "metadata": {
    "ExecuteTime": {
     "end_time": "2020-05-25T07:13:39.319974Z",
     "start_time": "2020-05-25T07:13:39.281832Z"
    }
   },
   "outputs": [
    {
     "name": "stdout",
     "output_type": "stream",
     "text": [
      "s 0 0 1\n",
      "0 1\n",
      "s 1 1 1\n",
      "2 1\n",
      "1 1 0\n"
     ]
    },
    {
     "data": {
      "text/plain": [
       "0"
      ]
     },
     "execution_count": 68,
     "metadata": {},
     "output_type": "execute_result"
    }
   ],
   "source": [
    "class SnapshotArray:\n",
    "    def __init__(self, length: int):\n",
    "        self.array = {i: {0: 0} for i in range(length)}\n",
    "        self.snap_id = 0\n",
    "\n",
    "    def set(self, index: int, val: int) -> None:\n",
    "        self.array[index][self.snap_id] = val\n",
    "\n",
    "    def snap(self) -> int:\n",
    "        self.snap_id += 1\n",
    "        print(self.array, self.snap_id)\n",
    "        return self.snap_id - 1\n",
    "\n",
    "    def get(self, index: int, snap_id: int) -> int:\n",
    "        if index in self.array and snap_id in self.array[index]:\n",
    "            return self.array[index][snap_id]\n",
    "        else:\n",
    "            index_keys = list(self.array[index].keys())\n",
    "            latest_snap_id = SnapshotArray.search_binary(\n",
    "                index_keys, snap_id)\n",
    "            return self.array[index][index_keys[latest_snap_id]]\n",
    "\n",
    "    @staticmethod\n",
    "    def search_binary(array, condition):\n",
    "        start = 0\n",
    "        end = len(array)-1\n",
    "        result = 0\n",
    "\n",
    "        while start <= end:\n",
    "            mid = (start + end) // 2 \n",
    "            print('s', start, mid, end)\n",
    "            print(array[mid], condition)\n",
    "            if array[mid] < condition:\n",
    "                start = mid + 1\n",
    "                result = mid\n",
    "            else:\n",
    "                end = mid -1\n",
    "\n",
    "        print(start, mid, end)\n",
    "        return result\n",
    "                "
   ]
  },
  {
   "cell_type": "markdown",
   "metadata": {},
   "source": [
    "<section id=\"description\">\n",
    "\t\t\t\t<div class=\"headline\">\n",
    "\t\t\t\t<h2>미세먼지 안녕!</h2>\n",
    "\t\t\t\t</div>\n",
    "\t\t\t\t<div style=\"font-size:medium; line-height:30px;\" id=\"problem_description\">\n",
    "\t\t\t\t<p>미세먼지를 제거하기 위해 구사과는 공기청정기를 설치하려고 한다. 공기청정기의 성능을 테스트하기 위해 구사과는 집을&nbsp;크기가&nbsp;R×C인 격자판으로 나타냈고, 1×1 크기의 칸으로 나눴다. 구사과는 뛰어난&nbsp;코딩 실력을 이용해 각 칸 (r, c)에 있는 미세먼지의 양을 실시간으로 모니터링하는 시스템을 개발했다. (r, c)는 r행 c열을 의미한다.</p>\n",
    "\n",
    "<p style=\"text-align: center;\"><img alt=\"\" src=\"https://upload.acmicpc.net/75d322ad-5a89-4301-b3a7-403fce0ff966/-/preview/\" style=\"width: 335px; height: 300px;\"></p>\n",
    "\n",
    "<p>공기청정기는 항상 1번&nbsp;열에 설치되어 있고, 크기는 두 행을 차지한다. 공기청정기가 설치되어 있지 않은 칸에는 미세먼지가 있고, (r, c)에 있는 미세먼지의 양은 A<sub>r,c</sub>이다.</p>\n",
    "\n",
    "<p>1초 동안 아래 적힌 일이 순서대로 일어난다.</p>\n",
    "\n",
    "<ol>\n",
    "\t<li>미세먼지가 확산된다. 확산은 미세먼지가 있는 모든 칸에서 동시에 일어난다.\n",
    "\t<ul>\n",
    "\t\t<li>(r, c)에 있는 미세먼지는 인접한 네 방향으로 확산된다.</li>\n",
    "\t\t<li>인접한 방향에 공기청정기가 있거나, 칸이 없으면 그 방향으로는 확산이 일어나지 않는다.</li>\n",
    "\t\t<li>확산되는 양은 A<sub>r,c</sub>/5이고 소수점은 버린다.</li>\n",
    "\t\t<li>(r, c)에 남은 미세먼지의 양은 A<sub>r,c</sub> - (A<sub>r,c</sub>/5)×(확산된 방향의 개수) 이다.</li>\n",
    "\t</ul>\n",
    "\t</li>\n",
    "\t<li>공기청정기가 작동한다.\n",
    "\t<ul>\n",
    "\t\t<li>공기청정기에서는&nbsp;바람이 나온다.</li>\n",
    "\t\t<li>위쪽 공기청정기의&nbsp;바람은 반시계방향으로 순환하고, 아래쪽 공기청정기의 바람은 시계방향으로 순환한다.</li>\n",
    "\t\t<li>바람이 불면 미세먼지가 바람의 방향대로 모두 한 칸씩 이동한다.</li>\n",
    "\t\t<li>공기청정기에서 부는 바람은 미세먼지가 없는 바람이고, 공기청정기로 들어간 미세먼지는 모두 정화된다.</li>\n",
    "\t</ul>\n",
    "\t</li>\n",
    "</ol>\n",
    "\n",
    "<p>다음은 확산의 예시이다.</p>\n",
    "\n",
    "<p style=\"text-align: center;\"><img alt=\"\" src=\"https://upload.acmicpc.net/7b0d9d57-1296-44cd-8951-4135d27f9446/-/preview/\" style=\"width: 268px; height: 100px;\"></p>\n",
    "\n",
    "<p style=\"text-align: center;\">왼쪽과 오른쪽에 칸이 없기 때문에, 두 방향으로만 확산이 일어났다.</p>\n",
    "\n",
    "<p style=\"text-align: center;\"><img alt=\"\" src=\"https://upload.acmicpc.net/cebebfa9-0056-45f1-b705-75b035888085/-/preview/\" style=\"width: 268px; height: 100px;\"></p>\n",
    "\n",
    "<p style=\"text-align: center;\">인접한 네 방향으로&nbsp;모두 확산이 일어난다.</p>\n",
    "\n",
    "<p style=\"text-align: center;\"><img alt=\"\" src=\"https://upload.acmicpc.net/1ed0d2e9-9767-4b94-bbde-0e1d6a2d52ff/-/preview/\" style=\"width: 268px; height: 100px;\"></p>\n",
    "\n",
    "<p style=\"text-align: center;\">공기청정기가 있는 칸으로는 확산이 일어나지 않는다.</p>\n",
    "\n",
    "<p>공기청정기의 바람은 다음과 같은 방향으로 순환한다.</p>\n",
    "\n",
    "<p style=\"text-align: center;\"><img alt=\"\" src=\"https://upload.acmicpc.net/94466937-96c7-4f25-9804-530ebd554a59/-/preview/\" style=\"width: 332px; height: 300px;\"></p>\n",
    "\n",
    "<p>방의 정보가 주어졌을 때, T초가 지난 후 구사과의 방에 남아있는 미세먼지의 양을 구해보자.</p>\n",
    "\n",
    "\t\t\t\t</div>\n",
    "\t\t\t\t</section>"
   ]
  },
  {
   "cell_type": "code",
   "execution_count": 78,
   "metadata": {
    "ExecuteTime": {
     "end_time": "2020-05-29T15:27:50.560751Z",
     "start_time": "2020-05-29T15:27:50.482551Z"
    }
   },
   "outputs": [
    {
     "data": {
      "text/plain": [
       "[[0, 0, 0, 0, 0, 0, 1, 8],\n",
       " [0, 0, 1, 0, 3, 0, 5, 6],\n",
       " [-1, 1, 2, 1, 0, 4, 10, 5]]"
      ]
     },
     "execution_count": 78,
     "metadata": {},
     "output_type": "execute_result"
    }
   ],
   "source": [
    "'''\n",
    "대기오염 파트\n",
    "'''\n",
    "def is_valid_pos(x, y):\n",
    "    if x < 0 or x >= len(board): return False\n",
    "    if y < 0 or y >= len(board[0]): return False\n",
    "    if board[x][y] == -1: return False\n",
    "    return True\n",
    "\n",
    "\n",
    "def move_dust():\n",
    "    temp = [[y // 5 for y in x] for x in board] # 전파될 먼지량\n",
    "    \n",
    "    for r in range(len(board)):\n",
    "        for c in range(len(board[0])):\n",
    "            if board[r][c] == -1:\n",
    "                continue\n",
    "                \n",
    "            # 동, 서, 남, 북 체크\n",
    "            EWSN = [[0, 1], [0, -1], [1, 0], [-1, 0]]\n",
    "            for v, h in EWSN:\n",
    "                if is_valid_pos(r+v, c+h):\n",
    "                    board[r+v][c+h] += temp[r][c]\n",
    "                    board[r][c] -= temp[r][c]\n",
    "\n",
    "board = [\n",
    "[0, 0, 0, 0, 0, 0, 0, 9],\n",
    "[0, 0, 0, 0, 3, 0, 0, 8],\n",
    "[-1, 0, 5, 0, 0, 0, 22, 0]\n",
    "]\n",
    "move_dust()\n",
    "board"
   ]
  },
  {
   "cell_type": "code",
   "execution_count": null,
   "metadata": {
    "ExecuteTime": {
     "start_time": "2020-05-31T04:21:21.029Z"
    },
    "scrolled": false
   },
   "outputs": [],
   "source": [
    "'''\n",
    "공기청정 파트\n",
    "'''\n",
    "def decline_row(start_pos, length):\n",
    "    temp = []\n",
    "    x, y = start_pos\n",
    "    for _ in range(length):\n",
    "        temp.append([x, y])\n",
    "        x -= 1\n",
    "    return temp \n",
    "\n",
    "def decline_col(start_pos, length):\n",
    "    temp = []\n",
    "    x, y = start_pos\n",
    "    for _ in range(length):\n",
    "        temp.append([x, y])\n",
    "        y -= 1\n",
    "    return temp \n",
    "\n",
    "def increase_row(start_pos, length):\n",
    "    temp = []\n",
    "    x, y = start_pos\n",
    "    for _ in range(length):\n",
    "        temp.append([x, y])\n",
    "        x += 1\n",
    "    return temp\n",
    "\n",
    "def increase_col(start_pos, length):|\n",
    "    temp = []\n",
    "    x, y = start_pos\n",
    "    for _ in range(length):\n",
    "        temp.append([x, y])\n",
    "        y += 1\n",
    "    return temp\n",
    "\n",
    "def rotate_sector(board, flag, h_len, w_len):\n",
    "    if flag: # True = Top\n",
    "        indices = decline_row([h_len-1,0], h_len) + increase_col([0,1], w_len) \\\n",
    "                + increase_row([1, w_len], h_len) + decline_col([h_len, w_len-1], w_len-1)\n",
    "\n",
    "        values = [board[x][y] for x, y in indices][1:] + [0]\n",
    "    else:\n",
    "        indices = increase_row([1,0], h_len) + increase_col([h_len,1], w_len-1) \\\n",
    "        + decline_row([h_len, w_len], h_len+1) + decline_col([0, w_len-1], w_len-1)\n",
    "        values = [board[x][y] for x, y in indices][1:] + [0]\n",
    "        \n",
    "    return indices, values    \n",
    "\n",
    "board = [\n",
    "[2, 2, 1, 0, 0, 6, 0, 9],\n",
    "[1, 0, 0, 0, 3, 0, 0, 8],\n",
    "[-1, 1, 5, 0, 0, 0, 22, 0]\n",
    "]\n",
    "\n",
    "h_len = len(board) - 1\n",
    "w_len = len(board[0]) - 1\n",
    "print(h_len, w_len)\n",
    "rotate_sector(board, False, h_len, w_len)"
   ]
  },
  {
   "cell_type": "code",
   "execution_count": 154,
   "metadata": {
    "ExecuteTime": {
     "end_time": "2020-05-29T16:14:32.247494Z",
     "start_time": "2020-05-29T16:14:32.185007Z"
    }
   },
   "outputs": [
    {
     "data": {
      "text/plain": [
       "93"
      ]
     },
     "execution_count": 154,
     "metadata": {},
     "output_type": "execute_result"
    }
   ],
   "source": [
    "'''\n",
    "Solution\n",
    "'''\n",
    "\n",
    "\n",
    "def solution(T,board):\n",
    "    cleaner_pos = [i[0] for i in board].index(-1) + 1     \n",
    "    top = board[:cleaner_pos]\n",
    "    bottom = board[cleaner_pos:]\n",
    "    top_h, top_w = len(top) - 1, len(top[0]) - 1\n",
    "    bottom_h, bottom_w = len(bottom) - 1, len(bottom[0]) - 1\n",
    "        \n",
    "    for _ in range(T):\n",
    "        move_dust() # 대기 오염\n",
    "\n",
    "        # Top \n",
    "        indices, values = rotate_sector(top, True, top_h, top_w)\n",
    "        for i, v in zip(indices, values):\n",
    "            top[i[0]][i[1]] = v\n",
    "        \n",
    "#         print('\\n###\\n')\n",
    "#         for i in bottom:\n",
    "#             print(i)\n",
    "#         print()\n",
    "\n",
    "        # Bottom\n",
    "        indices, values = rotate_sector(bottom, False, bottom_h, bottom_w)\n",
    "        for i, v in zip(indices, values):\n",
    "            bottom[i[0]][i[1]] = v\n",
    "\n",
    "#         for i in bottom:\n",
    "#             print(i)\n",
    "        \n",
    "        board = top + bottom\n",
    "    \n",
    "    return sum(sum(board,[]))\n",
    "        \n",
    "del board\n",
    "board = [\n",
    "    [2, 0, 0, 0, 0, 0, 0, 9],\n",
    "    [1, 0, 0, 0, 3, 0, 0, 8],\n",
    "    [-1, 1, 5, 0, 0, 0, 22, 0], \n",
    "    [-1, 1, 3, 1, 0, 0, 22, 0], \n",
    "    [2, 0, 0, 0, 0, 0, 0, 9],\n",
    "    [1, 0, 0, 0, 3, 0, 0, 8]]\n",
    "\n",
    "solution(3, board)"
   ]
  }
 ],
 "metadata": {
  "kernelspec": {
   "display_name": "Python 3",
   "language": "python",
   "name": "python3"
  },
  "language_info": {
   "codemirror_mode": {
    "name": "ipython",
    "version": 3
   },
   "file_extension": ".py",
   "mimetype": "text/x-python",
   "name": "python",
   "nbconvert_exporter": "python",
   "pygments_lexer": "ipython3",
   "version": "3.6.10"
  },
  "varInspector": {
   "cols": {
    "lenName": 16,
    "lenType": 16,
    "lenVar": 40
   },
   "kernels_config": {
    "python": {
     "delete_cmd_postfix": "",
     "delete_cmd_prefix": "del ",
     "library": "var_list.py",
     "varRefreshCmd": "print(var_dic_list())"
    },
    "r": {
     "delete_cmd_postfix": ") ",
     "delete_cmd_prefix": "rm(",
     "library": "var_list.r",
     "varRefreshCmd": "cat(var_dic_list()) "
    }
   },
   "types_to_exclude": [
    "module",
    "function",
    "builtin_function_or_method",
    "instance",
    "_Feature"
   ],
   "window_display": false
  }
 },
 "nbformat": 4,
 "nbformat_minor": 4
}
