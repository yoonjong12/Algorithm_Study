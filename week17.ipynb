{
 "cells": [
  {
   "cell_type": "markdown",
   "metadata": {},
   "source": [
    "# Four divisors\n",
    "<div><p>Given an integer array <code>nums</code>, return the sum of divisors of the integers in that array that have exactly four divisors.</p>\n",
    "\n",
    "<p>If there is no such integer in the array, return <code>0</code>.</p>\n",
    "\n",
    "<p>&nbsp;</p>\n",
    "<p><strong>Example 1:</strong></p>\n",
    "\n",
    "<pre><strong>Input:</strong> nums = [21,4,7]\n",
    "<strong>Output:</strong> 32\n",
    "<b>Explanation:</b>\n",
    "21 has 4 divisors: 1, 3, 7, 21\n",
    "4 has 3 divisors: 1, 2, 4\n",
    "7 has 2 divisors: 1, 7\n",
    "The answer is the sum of divisors of 21 only.\n",
    "</pre>\n",
    "\n",
    "<p>&nbsp;</p>\n",
    "<p><strong>Constraints:</strong></p>\n",
    "\n",
    "<ul>\n",
    "\t<li><code>1 &lt;= nums.length &lt;= 10^4</code></li>\n",
    "\t<li><code>1 &lt;= nums[i] &lt;= 10^5</code></li>\n",
    "</ul>\n",
    "</div>"
   ]
  },
  {
   "cell_type": "code",
   "execution_count": null,
   "metadata": {
    "ExecuteTime": {
     "end_time": "2020-05-17T12:47:05.826819Z",
     "start_time": "2020-05-17T12:47:05.738340Z"
    },
    "scrolled": true
   },
   "outputs": [],
   "source": [
    "class Solution:\n",
    "    def sumFourDivisors(self, nums):\n",
    "        result = []\n",
    "\n",
    "        for n in nums:\n",
    "            temp = self.get_divisors_num(n)\n",
    "\n",
    "            if temp:\n",
    "                result.append(temp)\n",
    "\n",
    "        return sum(result)\n",
    "\n",
    "    def get_divisors_num(self, n):\n",
    "        cnt = 0  # 약수 개수\n",
    "        i = 1  # 인덱스\n",
    "        div = set()  # 약수 집합\n",
    "\n",
    "        while i**2 <= n:\n",
    "            if cnt > 4:\n",
    "                return 0\n",
    "\n",
    "            # i가 약수인가?\n",
    "            if not n % i:\n",
    "                div.add(i)\n",
    "                div.add(n//i)\n",
    "                cnt += 2\n",
    "\n",
    "            # 약수가 될 수 있는 최대값까지 도달했는가?\n",
    "            if i**2 == n:\n",
    "                print(i)\n",
    "                div.add(i)\n",
    "                cnt += 1\n",
    "\n",
    "            i += 1\n",
    "\n",
    "        if cnt == 4:\n",
    "            return sum(div)"
   ]
  },
  {
   "cell_type": "markdown",
   "metadata": {
    "ExecuteTime": {
     "end_time": "2020-05-19T01:12:26.773044Z",
     "start_time": "2020-05-19T01:12:26.762834Z"
    }
   },
   "source": [
    "# 954. Array of Doubled Pairs\n",
    "\n",
    "<div class=\"content__u3I1 question-content__JfgR\"><div><p>Given an array of integers <code>A</code>&nbsp;with even length, return <code>true</code> if and only if it is possible to reorder it such that <code>A[2 * i + 1] = 2 * A[2 * i]</code> for every <code>0 &lt;=&nbsp;i &lt; len(A) / 2</code>.</p>\n",
    "\n",
    "<p>&nbsp;</p>\n",
    "\n",
    "<div>\n",
    "<div>\n",
    "<div>\n",
    "<ol>\n",
    "</ol>\n",
    "</div>\n",
    "</div>\n",
    "</div>\n",
    "\n",
    "<div>\n",
    "<p><strong>Example 1:</strong></p>\n",
    "\n",
    "<pre><strong>Input: </strong><span id=\"example-input-1-1\">[3,1,3,6]</span>\n",
    "<strong>Output: </strong><span id=\"example-output-1\">false</span>\n",
    "</pre>\n",
    "\n",
    "<div>\n",
    "<p><strong>Example 2:</strong></p>\n",
    "\n",
    "<pre><strong>Input: </strong><span id=\"example-input-2-1\">[2,1,2,6]</span>\n",
    "<strong>Output: </strong><span id=\"example-output-2\">false</span>\n",
    "</pre>\n",
    "\n",
    "<div>\n",
    "<p><strong>Example 3:</strong></p>\n",
    "\n",
    "<pre><strong>Input: </strong><span id=\"example-input-3-1\">[4,-2,2,-4]</span>\n",
    "<strong>Output: </strong><span id=\"example-output-3\">true</span>\n",
    "<strong>Explanation: </strong><span id=\"example-output-3\">We can take two groups, [-2,-4] and [2,4] to form [-2,-4,2,4] or [2,4,-2,-4].</span>\n",
    "</pre>\n",
    "\n",
    "<div>\n",
    "<p><strong>Example 4:</strong></p>\n",
    "\n",
    "<pre><strong>Input: </strong><span id=\"example-input-4-1\">[1,2,4,16,8,4]</span>\n",
    "<strong>Output: </strong><span id=\"example-output-4\">false</span>\n",
    "</pre>\n",
    "\n",
    "<p>&nbsp;</p>\n",
    "\n",
    "<p><strong>Note:</strong></p>\n",
    "\n",
    "<ol>\n",
    "\t<li><code>0 &lt;= A.length &lt;= 30000</code></li>\n",
    "\t<li><code>A.length</code> is even</li>\n",
    "\t<li><code>-100000 &lt;= A[i] &lt;= 100000</code></li>\n",
    "</ol>\n",
    "</div>\n",
    "</div>\n",
    "</div>\n",
    "</div>\n",
    "</div></div>"
   ]
  },
  {
   "cell_type": "code",
   "execution_count": null,
   "metadata": {
    "ExecuteTime": {
     "end_time": "2020-05-31T02:43:21.566341Z",
     "start_time": "2020-05-31T02:43:21.523460Z"
    }
   },
   "outputs": [],
   "source": [
    "'''\n",
    "# Greedy 풀이\n",
    "\n",
    "# 문제 포인트\n",
    "인덱스가 나를 헷갈리게 하지만, 중요한 것! \n",
    "현재 값 x와 2 * x가 1대1로 매핑되는가? 이것만 체크하면 된다!\n",
    "\n",
    "* collections.Counter\n",
    "컨테이너에 동일한 값의 자료가 몇개인지를 파악하는데 사용하는 모듈.\n",
    "collections.Counter()의 결과값(return)은 딕셔너리 형태로 출력된다.\n",
    "\n",
    "1. value counts한 count객체를 선언한다\n",
    "2. 절대값을 기준으로 정렬한다. 이유) sort시켜서 작은 값 x를 기준으로 2x를 찾기 때문이다\n",
    "3. 리스트 A를 순회하면서 현재 x가 0인지 체크 -> 매칭모두 되어서 없음\n",
    "4. 2*x가 0인가?-> x가 매치되어야하는데 2*x 없다 ㅠ\n",
    "5. \n",
    "'''\n",
    "class Solution(object):\n",
    "    def canReorderDoubled(self, A):\n",
    "        count = collections.Counter(A)\n",
    "        print(sorted(A, key = abs))\n",
    "#         for x in sorted(A, key = abs):\n",
    "        for x in A:\n",
    "            print('\\n####\\n')\n",
    "            print(count)\n",
    "            \n",
    "            if count[x] == 0: continue\n",
    "            if count[2*x] == 0: return False\n",
    "            count[x] -= 1\n",
    "            count[2*x] -= 1\n",
    "\n",
    "        return True\n",
    "\n",
    "# A = [4,-2,2,-4]\n",
    "A = [1,2,3,2,4,6]\n",
    "\n",
    "import collections\n",
    "s = Solution()\n",
    "count = collections.Counter(A)\n",
    "print(count)\n",
    "\n",
    "s.canReorderDoubled(A)"
   ]
  }
 ],
 "metadata": {
  "kernelspec": {
   "display_name": "Python 3",
   "language": "python",
   "name": "python3"
  },
  "language_info": {
   "codemirror_mode": {
    "name": "ipython",
    "version": 3
   },
   "file_extension": ".py",
   "mimetype": "text/x-python",
   "name": "python",
   "nbconvert_exporter": "python",
   "pygments_lexer": "ipython3",
   "version": "3.6.10"
  },
  "varInspector": {
   "cols": {
    "lenName": 16,
    "lenType": 16,
    "lenVar": 40
   },
   "kernels_config": {
    "python": {
     "delete_cmd_postfix": "",
     "delete_cmd_prefix": "del ",
     "library": "var_list.py",
     "varRefreshCmd": "print(var_dic_list())"
    },
    "r": {
     "delete_cmd_postfix": ") ",
     "delete_cmd_prefix": "rm(",
     "library": "var_list.r",
     "varRefreshCmd": "cat(var_dic_list()) "
    }
   },
   "types_to_exclude": [
    "module",
    "function",
    "builtin_function_or_method",
    "instance",
    "_Feature"
   ],
   "window_display": false
  }
 },
 "nbformat": 4,
 "nbformat_minor": 4
}
