{
 "cells": [
  {
   "cell_type": "markdown",
   "metadata": {},
   "source": [
    "# Validate Binary Tree Nodes\n",
    "\n",
    "<div class=\"content__u3I1 question-content__JfgR\"><div><p>You have&nbsp;<code>n</code> binary tree nodes&nbsp;numbered from <code>0</code>&nbsp;to <code>n - 1</code> where node&nbsp;<code>i</code>&nbsp;has two children&nbsp;<code>leftChild[i]</code>&nbsp;and&nbsp;<code>rightChild[i]</code>, return&nbsp;<code>true</code>&nbsp;if and only if <strong>all</strong> the given nodes form <strong>exactly one</strong> valid binary tree.</p>\n",
    "\n",
    "<p>If node&nbsp;<code>i</code>&nbsp;has no left child then&nbsp;<code>leftChild[i]</code>&nbsp;will equal&nbsp;<code>-1</code>, similarly for the right child.</p>\n",
    "\n",
    "<p>Note that the nodes have no values and that we only use the node numbers in this problem.</p>\n",
    "\n",
    "<p>&nbsp;</p>\n",
    "<p><strong>Example 1:</strong></p>\n",
    "\n",
    "<p><strong><img alt=\"\" src=\"https://assets.leetcode.com/uploads/2019/08/23/1503_ex1.png\" style=\"width: 195px; height: 287px;\"></strong></p>\n",
    "\n",
    "<pre><strong>Input:</strong> n = 4, leftChild = [1,-1,3,-1], rightChild = [2,-1,-1,-1]\n",
    "<strong>Output:</strong> true\n",
    "</pre>\n",
    "\n",
    "<p><strong>Example 2:</strong></p>\n",
    "\n",
    "<p><strong><img alt=\"\" src=\"https://assets.leetcode.com/uploads/2019/08/23/1503_ex2.png\" style=\"width: 183px; height: 272px;\"></strong></p>\n",
    "\n",
    "<pre><strong>Input:</strong> n = 4, leftChild = [1,-1,3,-1], rightChild = [2,3,-1,-1]\n",
    "<strong>Output:</strong> false\n",
    "</pre>\n",
    "\n",
    "<p><strong>Example 3:</strong></p>\n",
    "\n",
    "<p><strong><img alt=\"\" src=\"https://assets.leetcode.com/uploads/2019/08/23/1503_ex3.png\" style=\"width: 82px; height: 174px;\"></strong></p>\n",
    "\n",
    "<pre><strong>Input:</strong> n = 2, leftChild = [1,0], rightChild = [-1,-1]\n",
    "<strong>Output:</strong> false\n",
    "</pre>\n",
    "\n",
    "<p><strong>Example 4:</strong></p>\n",
    "\n",
    "<p><strong><img alt=\"\" src=\"https://assets.leetcode.com/uploads/2019/08/23/1503_ex4.png\" style=\"width: 470px; height: 191px;\"></strong></p>\n",
    "\n",
    "<pre><strong>Input:</strong> n = 6, leftChild = [1,-1,-1,4,-1,-1], rightChild = [2,-1,-1,5,-1,-1]\n",
    "<strong>Output:</strong> false\n",
    "</pre>\n",
    "\n",
    "<p>&nbsp;</p>\n",
    "<p><strong>Constraints:</strong></p>\n",
    "\n",
    "<ul>\n",
    "\t<li><code>1 &lt;= n &lt;= 10^4</code></li>\n",
    "\t<li><code>leftChild.length == rightChild.length == n</code></li>\n",
    "\t<li><code>-1 &lt;= leftChild[i], rightChild[i] &lt;= n - 1</code></li>\n",
    "</ul>\n",
    "</div></div>"
   ]
  },
  {
   "cell_type": "code",
   "execution_count": 56,
   "metadata": {
    "ExecuteTime": {
     "end_time": "2020-06-27T17:06:40.706539Z",
     "start_time": "2020-06-27T17:06:40.657612Z"
    }
   },
   "outputs": [
    {
     "name": "stdout",
     "output_type": "stream",
     "text": [
      "0 1 -1\n",
      "add 1\n",
      "1 2 -1\n",
      "add 2\n",
      "2 0 -1\n",
      "add 0\n",
      "False 2\n",
      "3 -1 -1\n",
      "False 3\n"
     ]
    }
   ],
   "source": [
    "class Solution(object):\n",
    "    def validateBinaryTreeNodes(self, n, leftChild, rightChild):\n",
    "        '''\n",
    "        Idea: 루트를 제외한 모든 노드는 하나의 자식을 가진다 -> 자식set 크기가 n-1이어야 한다. \n",
    "\n",
    "        1. leftchild와 rightchild를 zip으로 순회하며 노드 순서대로 자식 쌍을 뽑는다.\n",
    "        2. 왼쪽과 오른쪽 자식이 자식set과 중복되는지 체크한다.\n",
    "        3. 혼자 떨어진 노드 하나가 있는지 체크한다. (부모도, 자식도 없음)\n",
    "        4. 자식set의 크기가 n-1인지 여부를 반환한다.\n",
    "        '''\n",
    "        children_set = set()\n",
    "\n",
    "        for current_parent, (left, right) in enumerate(zip(leftChild, rightChild)):\n",
    "            print(current_parent, left, right)\n",
    "\n",
    "            if left != -1:\n",
    "                if left in children_set:\n",
    "                    return False\n",
    "                else:\n",
    "                    children_set.add(left)\n",
    "\n",
    "            if right != -1:\n",
    "                if right in children_set:\n",
    "                    return False\n",
    "                else:\n",
    "                    children_set.add(right)\n",
    "\n",
    "            # 0이 아니면서 부모도 아닌 것이 자식도 없음\n",
    "            if current_parent and current_parent not in children_set and left == -1 and right == -1:\n",
    "                return False\n",
    "\n",
    "        return len(children_set) == n - 1"
   ]
  },
  {
   "cell_type": "markdown",
   "metadata": {},
   "source": [
    "# Course Schedule 2\n",
    "\n",
    "<div><p>There are a total of <em>n</em> courses you have to take, labeled from <code>0</code> to <code>n-1</code>.</p>\n",
    "\n",
    "<p>Some courses may have prerequisites, for example to take course 0 you have to first take course 1, which is expressed as a pair: <code>[0,1]</code></p>\n",
    "\n",
    "<p>Given the total number of courses and a list of prerequisite <strong>pairs</strong>, return the ordering of courses you should take to finish all courses.</p>\n",
    "\n",
    "<p>There may be multiple correct orders, you just need to return one of them. If it is impossible to finish all courses, return an empty array.</p>\n",
    "\n",
    "<p><strong>Example 1:</strong></p>\n",
    "\n",
    "<pre><strong>Input:</strong> 2, [[1,0]] \n",
    "<strong>Output: </strong><code>[0,1]</code>\n",
    "<strong>Explanation:</strong>&nbsp;There are a total of 2 courses to take. To take course 1 you should have finished   \n",
    "&nbsp;            course 0. So the correct course order is <code>[0,1] .</code></pre>\n",
    "\n",
    "<p><strong>Example 2:</strong></p>\n",
    "\n",
    "<pre><strong>Input:</strong> 4, [[1,0],[2,0],[3,1],[3,2]]\n",
    "<strong>Output: </strong><code>[0,1,2,3] or [0,2,1,3]</code>\n",
    "<strong>Explanation:</strong>&nbsp;There are a total of 4 courses to take. To take course 3 you should have finished both     \n",
    "             courses 1 and 2. Both courses 1 and 2 should be taken after you finished course 0. \n",
    "&nbsp;            So one correct course order is <code>[0,1,2,3]</code>. Another correct ordering is <code>[0,2,1,3] .</code></pre>\n",
    "\n",
    "<p><strong>Note:</strong></p>\n",
    "\n",
    "<ol>\n",
    "\t<li>The input prerequisites is a graph represented by <strong>a list of edges</strong>, not adjacency matrices. Read more about <a href=\"https://www.khanacademy.org/computing/computer-science/algorithms/graph-representation/a/representing-graphs\" target=\"_blank\">how a graph is represented</a>.</li>\n",
    "\t<li>You may assume that there are no duplicate edges in the input prerequisites.</li>\n",
    "</ol>\n",
    "</div>"
   ]
  },
  {
   "cell_type": "code",
   "execution_count": null,
   "metadata": {},
   "outputs": [],
   "source": [
    "class Solution(object):\n",
    "    def findOrder(self, numCourses, prerequisites):\n",
    "            \n",
    "        dic = [[] for _ in range(numCourses)]\n",
    "        for post, pre in prerequisites:\n",
    "            dic[post].append(pre)\n",
    "        visit = [0]*numCourses\n",
    "        result = []\n",
    "                \n",
    "        print('pre', prerequisites)\n",
    "        print('dic', dic)\n",
    "\n",
    "        visited = [0] * numCourses\n",
    "        result = []\n",
    "        \n",
    "        def search_dfs(subject):\n",
    "            if visited[subject] == 1:\n",
    "                return True\n",
    "            if visited[subject] == -1:\n",
    "                return False\n",
    "            \n",
    "            visited[subject] = -1\n",
    "            \n",
    "            for i in dic[subject]:\n",
    "                if not search_dfs(i):\n",
    "                    return False\n",
    "                \n",
    "            visited[subject] = 1\n",
    "            result.append(subject)\n",
    "            return True\n",
    "        \n",
    "        for i in range(numCourses):\n",
    "            if not search_dfs(i):\n",
    "                return []\n",
    "            \n",
    "        return result"
   ]
  },
  {
   "cell_type": "markdown",
   "metadata": {},
   "source": [
    "# Fraction to recurring decimal\n",
    "<div><p>Given two integers representing the numerator and denominator of a fraction, return the fraction in string format.</p>\n",
    "\n",
    "<p>If the fractional part is repeating, enclose the repeating part in parentheses.</p>\n",
    "\n",
    "<p><strong>Example 1:</strong></p>\n",
    "\n",
    "<pre><strong>Input:</strong> numerator = 1, denominator = 2\n",
    "<strong>Output:</strong> \"0.5\"\n",
    "</pre>\n",
    "\n",
    "<p><strong>Example 2:</strong></p>\n",
    "\n",
    "<pre><strong>Input:</strong> numerator = 2, denominator = 1\n",
    "<strong>Output:</strong> \"2\"</pre>\n",
    "\n",
    "<p><strong>Example 3:</strong></p>\n",
    "\n",
    "<pre><strong>Input:</strong> numerator = 2, denominator = 3\n",
    "<strong>Output: </strong>\"0.(6)\"\n",
    "</pre>\n",
    "\n",
    "</div>"
   ]
  },
  {
   "cell_type": "code",
   "execution_count": 20,
   "metadata": {
    "ExecuteTime": {
     "end_time": "2020-06-24T13:46:28.175832Z",
     "start_time": "2020-06-24T13:46:28.113740Z"
    }
   },
   "outputs": [
    {
     "name": "stdout",
     "output_type": "stream",
     "text": [
      "3333 277 9 {None} [277]\n",
      "90 7 6 {None, 3333} [277, 7]\n",
      "60 5 0 {None, 90, 3333} [277, 7, 5]\n"
     ]
    },
    {
     "data": {
      "text/plain": [
       "'2.7775'"
      ]
     },
     "execution_count": 20,
     "metadata": {},
     "output_type": "execute_result"
    }
   ],
   "source": [
    "'''\n",
    "나누기 계산을 반복하면서, 계산마다\n",
    "dictonary = {분자 : [몫, 나머지]} 업데이트를 해주자 분모는 항상 똑같으니까 신경쓰지않는다.\n",
    "history = 몫 순서 (0.12 -> 12)\n",
    "\n",
    "1.분자가 사전에 존재하는지 탐색한다. 있으면 결국 반복한다는 소리니까\n",
    "그 이전까지의 몫인 history를 소괄호에 담아서 리턴한다. 없으면 계산 시작\n",
    "2. {분자 : [몫, 나머지]}를 업데이트\n",
    "3. 나머지 * 10을 해주고 분자로 지정한다\n",
    "4. 1번 과정 반복\n",
    "5. 리턴하고 입력 값 2개의 곱이 마이너스면 결과에 마이너스 붙이기\n",
    "'''\n",
    "import sys\n",
    "sys.setrecursionlimit(10**8)\n",
    "class Solution:\n",
    "    @staticmethod\n",
    "    def is_repeat(history, n_dict, numerator, denominator):\n",
    "        n, remain = divmod(abs(numerator), abs(denominator))\n",
    "        history.append(n)\n",
    "\n",
    "        print(numerator, n, remain, n_dict, history)\n",
    "\n",
    "        if not remain:\n",
    "    #         print('유한')\n",
    "            temp = ''.join(map(str, history))\n",
    "            if len(temp) > 1:\n",
    "                temp = temp[0] + '.' + temp[1:]\n",
    "            return temp\n",
    "        if numerator in n_dict:\n",
    "            if not n:\n",
    "                start_point = history.index(n) + 1\n",
    "            else:\n",
    "                print('ret', history.index(n))\n",
    "                start_point = history.index(n)\n",
    "            print(start_point)\n",
    "            front = history[:start_point]\n",
    "            pattern = history[start_point:-1]\n",
    "\n",
    "            return ''.join(map(str, front)) + '.(' + ''.join(map(str, pattern)) + ')'\n",
    "\n",
    "        n_dict.update({numerator})  \n",
    "        numerator = remain * 10\n",
    "\n",
    "        return Solution.is_repeat(history, n_dict, numerator, denominator)\n",
    "\n",
    "    def fractionToDecimal(self, numerator: int, denominator: int) -> str:\n",
    "        n_dict = {None}\n",
    "        history = []\n",
    "\n",
    "        remain = Solution.is_repeat(history, n_dict, numerator, denominator)\n",
    "\n",
    "        return remain\n",
    "s = Solution()\n",
    "s.fractionToDecimal(3333,12)"
   ]
  },
  {
   "cell_type": "markdown",
   "metadata": {},
   "source": [
    "# 76. Minimum Window Substring\n",
    "\n",
    "<div><p>Given a string S and a string T, find the minimum window in S which will contain all the characters in T in complexity O(n).</p>\n",
    "\n",
    "<p><strong>Example:</strong></p>\n",
    "\n",
    "<pre><strong>Input: S</strong> = \"ADOBECODEBANC\", <strong>T</strong> = \"ABC\"\n",
    "<strong>Output:</strong> \"BANC\"\n",
    "</pre>\n",
    "\n",
    "<p><strong>Note:</strong></p>\n",
    "\n",
    "<ul>\n",
    "\t<li>If there is no such window in S that covers all characters in T, return the empty string <code>\"\"</code>.</li>\n",
    "\t<li>If there is such window, you are guaranteed that there will always be only one unique minimum window in S.</li>\n",
    "</ul>\n",
    "</div>"
   ]
  },
  {
   "cell_type": "code",
   "execution_count": 46,
   "metadata": {
    "ExecuteTime": {
     "end_time": "2020-06-27T19:40:40.432096Z",
     "start_time": "2020-06-27T19:40:40.396286Z"
    }
   },
   "outputs": [
    {
     "data": {
      "text/plain": [
       "'BANC'"
      ]
     },
     "execution_count": 46,
     "metadata": {},
     "output_type": "execute_result"
    }
   ],
   "source": [
    "'''\n",
    "Idea: t문자열의 단어 필요개수를 만족하는 한 윈도우를 최대한 좁히면서 s를 순회하자\n",
    "1. s < t 기저사례 처리\n",
    "2. Counter로 t문자열 내 필요 단어 개수 확인\n",
    "3. s끝까지 end 인덱스가 이동하면서 단어 조건을 만족한 만큼 Counter에서 개수감소\n",
    "4. 만약 모든 단어 조건이 만족된다면 start를 옮겨서 윈도우를 좁힌다\n",
    "5. 좁힌 만큼 해당 start인덱스의 단어 개수는 증가한다\n",
    "6. 최종 result 리턴\n",
    "'''\n",
    "import collections\n",
    "class Solution(object):\n",
    "    def minWindow(self, s, t):\n",
    "        result = \"\"\n",
    "        start, end = 0, 0        \n",
    "\n",
    "        if len(s) < len(t):\n",
    "            return \"\"\n",
    "\n",
    "        counter = collections.Counter(t)\n",
    "        while end < len(s):\n",
    "            counter[s[end]] -= 1\n",
    "            \n",
    "            while all(x <= 0 for x in counter.values()):  # 모든 단어 조건 만족?\n",
    "                if not result or len(result) > end - start + 1:\n",
    "                    result = s[start:end+1]\n",
    "                counter[s[start]] += 1         \n",
    "                \n",
    "                start += 1\n",
    "                \n",
    "            end += 1\n",
    "\n",
    "        return result\n",
    "so = Solution()\n",
    "s = \"ADOBECODEBANC\"\n",
    "t = 'ABC'\n",
    "so.minWindow(s, t)"
   ]
  }
 ],
 "metadata": {
  "kernelspec": {
   "display_name": "Python 3",
   "language": "python",
   "name": "python3"
  },
  "language_info": {
   "codemirror_mode": {
    "name": "ipython",
    "version": 3
   },
   "file_extension": ".py",
   "mimetype": "text/x-python",
   "name": "python",
   "nbconvert_exporter": "python",
   "pygments_lexer": "ipython3",
   "version": "3.6.10"
  },
  "varInspector": {
   "cols": {
    "lenName": 16,
    "lenType": 16,
    "lenVar": 40
   },
   "kernels_config": {
    "python": {
     "delete_cmd_postfix": "",
     "delete_cmd_prefix": "del ",
     "library": "var_list.py",
     "varRefreshCmd": "print(var_dic_list())"
    },
    "r": {
     "delete_cmd_postfix": ") ",
     "delete_cmd_prefix": "rm(",
     "library": "var_list.r",
     "varRefreshCmd": "cat(var_dic_list()) "
    }
   },
   "types_to_exclude": [
    "module",
    "function",
    "builtin_function_or_method",
    "instance",
    "_Feature"
   ],
   "window_display": false
  }
 },
 "nbformat": 4,
 "nbformat_minor": 4
}
