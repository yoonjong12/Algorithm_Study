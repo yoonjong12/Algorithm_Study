{
 "cells": [
  {
   "attachments": {
    "image.png": {
     "image/png": "[encoded data removed]"
    }
   },
   "cell_type": "markdown",
   "metadata": {},
   "source": [
    "## 1. 록 페스티벌\n",
    "커다란 공연장을 빌려서 록 페스티벌을 개최하려고 합니다. 이 페스티벌은 여러 날 동안 진행되며, 하루에 한 팀의 밴드가 공연장에서 콘서트를 하게 됩니다. 전체 밴드를 몇 팀 섭외할 지는 아직 결정하지 않았지만, 페스티벌의 간판 스타인 L개의 팀은 이미 섭외가 끝난 상태입니다. 따라서 페스티벌은 최소 L일 이상 진행하게 됩니다.\n",
    "\n",
    "이번에 사용할 공연장은 하루 빌리는 데 드는 비용이 매일 매일 다릅니다. 때문에 공연 일정을 잘 정해서 공연장 대여 비용을 줄이려고 합니다. 앞으로 N일간의 공연장 대여 비용을 알고 있다고 합시다. 이 중 L일 이상을 연속해서 대여하되, 공연장을 하루 빌리는 데 드는 평균 비용을 최소화하려면 어떻게 공연장을 빌려야 할까요?\n",
    "\n",
    "예를 들어 앞으로 6일간 공연장을 빌리는 데 드는 비용이 각 {3, 1, 2, 3, 1, 2}라고 합시다. 이미 세 팀을 섭외했다고 하면, 3일 대신 4일 동안 공연을 진행해서 평균 비용을 더 저렴하게 할 수 있습니다. 3일 동안의 평균 대여 비용을 최소화하는 방법은 2일째부터 4일째까지 공연장을 대여하는 것인데, 이 때 하루 평균 (1+2+3)/3 = 2의 비용이 듭니다. 반면 2일째부터 5일째까지 공연장을 대여하면 평균 비용이 (1+2+3+1)/4 = 7/4밖에 되지 않습니다.\n",
    "\n",
    "#### 입력\n",
    "입력의 첫 줄에는 테스트 케이스의 수 C (C ≤ 100)가 주어집니다. 각 테스트 케이스의 첫 줄에는 공연장을 대여할 수 있는 날들의 수 N (1 ≤ N ≤ 1000)과 이미 섭외한 공연 팀의 수 L (1 ≤ L ≤ 1000, L ≤ N)이 주어집니다. 그 다음 줄에는 N개의 숫자로 공연장 대여 비용이 날짜별로 주어집니다. 모든 비용은 100 이하의 자연수입니다.\n",
    "\n",
    "#### 출력\n",
    "입력에 주어지는 각 테스트 케이스마다 한 줄에 최소의 평균 대여 비용을 출력합니다. 10-7 이하의 절대/상대 오차가 있는 답은 정답 처리됩니다.\n",
    "\n",
    "#### 예제 입력\n",
    "2<br>\n",
    "6 3<br>\n",
    "1 2 3 1 2 3 <br>\n",
    "6 2 <br>\n",
    "1 2 3 1 2 3<br>\n",
    "#### 예제 출력\n",
    "1.75000000000<br>\n",
    "1.50000000000<br>\n",
    "\n",
    "## 제출확인\n",
    "![image.png](attachment:image.png)"
   ]
  },
  {
   "cell_type": "code",
   "execution_count": null,
   "metadata": {},
   "outputs": [],
   "source": [
    "def mean(x):\n",
    "    return sum(x)/len(x)\n",
    "def addValue(average, value, new_size):\n",
    "    return average + ( (value - average) / new_size )\n",
    "\n",
    "for _ in range(int(input())):\n",
    "    N, L = list(map(int, input().split()))\n",
    "    x = list(map(int, input().split()))\n",
    "    minValue = 100\n",
    "\n",
    "    for i in range(N-L+1):\n",
    "        days = x[i:i+L]\n",
    "        size = len(days)\n",
    "        average = mean(days)\n",
    "        if average < minValue : minValue = average\n",
    "        for j in x[i+L:]:\n",
    "            size += 1\n",
    "            average = addValue(average, j, size)\n",
    "            if average < minValue : minValue = average\n",
    "    print(format(minValue,\".11f\"))"
   ]
  },
  {
   "cell_type": "markdown",
   "metadata": {},
   "source": [
    "## 2. 소풍\n",
    "\n",
    "안드로메다 유치원 익스프레스반에서는 다음 주에 율동공원으로 소풍을 갑니다. 원석 선생님은 소풍 때 학생들을 두 명씩 짝을 지어 행동하게 하려고 합니다. 그런데 서로 친구가 아닌 학생들끼리 짝을 지어 주면 서로 싸우거나 같이 돌아다니지 않기 때문에, 항상 서로 친구인 학생들끼리만 짝을 지어 줘야 합니다.\n",
    "\n",
    "각 학생들의 쌍에 대해 이들이 서로 친구인지 여부가 주어질 때, 학생들을 짝지어줄 수 있는 방법의 수를 계산하는 프로그램을 작성하세요. 짝이 되는 학생들이 일부만 다르더라도 다른 방법이라고 봅니다. 예를 들어 다음 두 가지 방법은 서로 다른 방법입니다.\n",
    "\n",
    "(태연,제시카) (써니,티파니) (효연,유리) <br>\n",
    "(태연,제시카) (써니,유리) (효연,티파니)\n",
    " \n",
    "#### 입력\n",
    "\n",
    "입력의 첫 줄에는 테스트 케이스의 수 C (C <= 50) 가 주어집니다. 각 테스트 케이스의 첫 줄에는 학생의 수 n (2 <= n <= 10) 과 친구 쌍의 수 m (0 <= m <= n*(n-1)/2) 이 주어집니다. 그 다음 줄에 m 개의 정수 쌍으로 서로 친구인 두 학생의 번호가 주어집니다. 번호는 모두 0 부터 n-1 사이의 정수이고, 같은 쌍은 입력에 두 번 주어지지 않습니다. 학생들의 수는 짝수입니다.\n",
    "\n",
    "#### 출력\n",
    "각 테스트 케이스마다 한 줄에 모든 학생을 친구끼리만 짝지어줄 수 있는 방법의 수를 출력합니다.\n",
    "\n",
    "#### 예제 입력\n",
    "3 <br>\n",
    "2 1 <br>\n",
    "0 1 <br>\n",
    "4 6 <br>\n",
    "0 1 1 2 2 3 3 0 0 2 1 3 <br>\n",
    "6 10 <br>\n",
    "0 1 0 2 1 2 1 3 1 4 2 3 2 4 3 4 3 5 4 5 <br>\n",
    "#### 예제 출력\n",
    "1 <br>\n",
    "3<br>\n",
    "4<br>"
   ]
  },
  {
   "cell_type": "code",
   "execution_count": null,
   "metadata": {},
   "outputs": [],
   "source": [
    "# 2개씩 묶기\n",
    "def group(x):\n",
    "    return [sorted([i,j]) for i,j in zip(x[::2],x[1::2])]\n",
    "# 토큰과 리스트 중복 비교\n",
    "def check(x, li):\n",
    "    for i in li:\n",
    "    # 만약 start토큰과 중복되면길이의 차이가 발생함\n",
    "        if len([j for j in x if j not in i]) == len(x):\n",
    "            # 토큰에 한 짝 추가\n",
    "            x += i\n",
    "            # whitelist에서도 중복방지를 위해 삭제\n",
    "            li.remove(i)\n",
    "    return x, li\n",
    "\n",
    "count_li = []\n",
    "for _ in range(int(input())):\n",
    "    n, m = list(map(int, input().split()))\n",
    "    total_list = sorted(group(input().split()),key=lambda x:x[0])\n",
    "    start_tokens = [i for i in total_list if i[0] == '0']\n",
    "    count = 0\n",
    "\n",
    "    for start in start_tokens:\n",
    "        whitelist = total_list[len(start_tokens):]\n",
    "\n",
    "        # 조합이 여러개일 수 있음\n",
    "        for _ in range(m):\n",
    "            # 검사\n",
    "            start, whitelist = check(start, whitelist)\n",
    "            # 조합이 완성되면 1카운트 추가\n",
    "            if len(start) == n:\n",
    "                count += 1\n",
    "            # 다시 첫 스타트로 복귀\n",
    "            start = start[:2]\n",
    "    count_li.append(count)\n",
    "\n",
    "for i in count_li:\n",
    "    print(i)"
   ]
  }
 ],
 "metadata": {
  "kernelspec": {
   "display_name": "Python 3",
   "language": "python",
   "name": "python3"
  },
  "language_info": {
   "codemirror_mode": {
    "name": "ipython",
    "version": 3
   },
   "file_extension": ".py",
   "mimetype": "text/x-python",
   "name": "python",
   "nbconvert_exporter": "python",
   "pygments_lexer": "ipython3",
   "version": "3.7.3"
  }
 },
 "nbformat": 4,
 "nbformat_minor": 4
}
