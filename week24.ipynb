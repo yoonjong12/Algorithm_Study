{
 "cells": [
  {
   "cell_type": "markdown",
   "metadata": {},
   "source": [
    "# 네트워크\n",
    "\n",
    "<div class=\"guide-section-description\">\n",
    "      <h6 class=\"guide-section-title\">문제 설명</h6>\n",
    "      <div class=\"markdown solarized-dark\"><p>네트워크란 컴퓨터 상호 간에 정보를 교환할 수 있도록 연결된 형태를 의미합니다. 예를 들어, 컴퓨터 A와 컴퓨터 B가 직접적으로 연결되어있고, 컴퓨터 B와 컴퓨터 C가 직접적으로 연결되어 있을 때 컴퓨터 A와 컴퓨터 C도 간접적으로 연결되어 정보를 교환할 수 있습니다. 따라서 컴퓨터 A, B, C는 모두 같은 네트워크 상에 있다고 할 수 있습니다.</p>\n",
    "\n",
    "<p>컴퓨터의 개수 n, 연결에 대한 정보가 담긴 2차원 배열 computers가 매개변수로 주어질 때, 네트워크의 개수를 return 하도록 solution 함수를 작성하시오.</p>\n",
    "\n",
    "<h5>제한사항</h5>\n",
    "\n",
    "<ul>\n",
    "<li>컴퓨터의 개수 n은 1 이상 200 이하인 자연수입니다.</li>\n",
    "<li>각 컴퓨터는 0부터 <code>n-1</code>인 정수로 표현합니다.</li>\n",
    "<li>i번 컴퓨터와 j번 컴퓨터가 연결되어 있으면 computers[i][j]를 1로 표현합니다.</li>\n",
    "<li>computer[i][i]는 항상 1입니다.</li>\n",
    "</ul>\n",
    "\n",
    "<h5>입출력 예</h5>\n",
    "<table class=\"table\">\n",
    "        <thead><tr>\n",
    "<th>n</th>\n",
    "<th>computers</th>\n",
    "<th>return</th>\n",
    "</tr>\n",
    "</thead>\n",
    "        <tbody><tr>\n",
    "<td>3</td>\n",
    "<td>[[1, 1, 0], [1, 1, 0], [0, 0, 1]]</td>\n",
    "<td>2</td>\n",
    "</tr>\n",
    "<tr>\n",
    "<td>3</td>\n",
    "<td>[[1, 1, 0], [1, 1, 1], [0, 1, 1]]</td>\n",
    "<td>1</td>\n",
    "</tr>\n",
    "</tbody>\n",
    "      </table>\n",
    "<h5>입출력 예 설명</h5>\n",
    "\n",
    "<p>예제 #1<br>\n",
    "아래와 같이 2개의 네트워크가 있습니다.<br>\n",
    "  <img src=\"https://grepp-programmers.s3.amazonaws.com/files/ybm/5b61d6ca97/cc1e7816-b6d7-4649-98e0-e95ea2007fd7.png\" title=\"\" alt=\"image0.png\"></p>\n",
    "\n",
    "<p>예제 #2<br>\n",
    "아래와 같이 1개의 네트워크가 있습니다.<br>\n",
    "  <img src=\"https://grepp-programmers.s3.amazonaws.com/files/ybm/7554746da2/edb61632-59f4-4799-9154-de9ca98c9e55.png\" title=\"\" alt=\"image1.png\"></p>\n",
    "</div>\n",
    "    </div>"
   ]
  },
  {
   "cell_type": "code",
   "execution_count": 61,
   "metadata": {
    "ExecuteTime": {
     "end_time": "2020-08-03T13:42:26.113563Z",
     "start_time": "2020-08-03T13:42:26.077446Z"
    }
   },
   "outputs": [
    {
     "data": {
      "text/plain": [
       "1"
      ]
     },
     "execution_count": 61,
     "metadata": {},
     "output_type": "execute_result"
    }
   ],
   "source": [
    "'''\n",
    "1. 리턴할 count와 방문기록 visted를 False로 초기화\n",
    "2. 모든 노드를 순회하면서 방문한적이 없으면 dfs재귀로 돌림\n",
    "    2-1. 현재 노드를 visited로 바꾸고, 다른 노드들과 연결되어있는지 확인\n",
    "    2-2. 끊겨있는 노드에 dfs로 재귀\n",
    "3. 재귀와 동시에 새로운 네트워크라는 뜻이니까 count += 1\n",
    "'''\n",
    "\n",
    "def solution(n, computers):\n",
    "    def dfs(v, n):\n",
    "        visited[v] = True\n",
    "        \n",
    "        for i in range(n):\n",
    "            if computers[v][i] and not visited[i]:\n",
    "                dfs(i, n)\n",
    "    \n",
    "    count = 0\n",
    "    visited = [False] * n\n",
    "    \n",
    "    for i in range(n):\n",
    "        if not visited[i]:\n",
    "            dfs(i, n)\n",
    "            count += 1\n",
    "    \n",
    "    return count\n",
    "\n",
    "solution(n, computers)"
   ]
  },
  {
   "cell_type": "markdown",
   "metadata": {},
   "source": [
    "# 웜홀\n",
    "\n",
    "<div class=\"col-md-12\">\n",
    "\t\t\t\t<section id=\"description\">\n",
    "\t\t\t\t<div class=\"headline\">\n",
    "\t\t\t\t<h2>문제</h2>\n",
    "\t\t\t\t</div>\n",
    "\t\t\t\t<div style=\"font-size:medium; line-height:30px;\" id=\"problem_description\">\n",
    "\t\t\t\t<p>때는 2020년, 백준이는 월드나라의 한 국민이다. 월드나라에는 N개의 지점이 있고 N개의 지점 사이에는 M개의 도로와 W개의 웜홀이 있다. (단 도로는 방향이 없으며 웜홀은 방향이 있다.) 웜홀은 시작 위치에서 도착 위치로 가는 하나의 경로인데, 특이하게도 도착을 하게 되면 시작을 하였을 때보다 시간이 뒤로 가게 된다. 웜홀 내에서는 시계가 거꾸로 간다고 생각하여도 좋다.</p>\n",
    "\n",
    "<p>시간 여행을 매우 좋아하는 백준이는 한 가지 궁금증에 빠졌다.&nbsp;한&nbsp;지점에서 출발을 하여서 시간여행을 하기 시작하여 다시 출발을 하였던 위치로 돌아왔을 때, 출발을 하였을 때보다 시간이 되돌아가 있는 경우가 있는지 없는지 궁금해졌다. 여러분은 백준이를 도와 이런 일이 가능한지 불가능한지 구하는 프로그램을 작성하여라.</p>\n",
    "\n",
    "<div class=\"col-md-12\">\n",
    "\t\t\t\t\t<section id=\"input\">\n",
    "\t\t\t\t\t<div class=\"headline\">\n",
    "\t\t\t\t\t<h2>입력</h2>\n",
    "\t\t\t\t\t</div>\n",
    "\t\t\t\t\t<div style=\"font-size:medium; line-height:30px;\" id=\"problem_input\">\n",
    "\t\t\t\t\t<p>첫 번째 줄에는 테스트케이스의 개수 TC(1 ≤ TC ≤ 5)가 주어진다. 그리고 두 번째 줄부터 TC개의 테스트케이스가 차례로 주어지는데 각 테스트케이스의 첫 번째 줄에는 지점의 수 N(1 ≤ N ≤ 500), 도로의 개수 M(1 ≤ M ≤ 2500), 웜홀의 개수 W(1 ≤ W ≤ 200)이 주어진다. 그리고 두 번째 줄부터 M+1개의 줄에 도로의 정보가 주어지는데 각 도로의 정보는 S, E, T 세 정수로 주어진다. S와 E는 연결된 지점의 번호, T는 이 도로를 통해 이동하는데 걸리는 시간을 의미한다. 그리고 M+2~M+W+1번째 줄까지 웜홀의 정보가 S, E, T 세 정수로 주어지는데 S는 시작 지점, E는 도착 지점, T는 줄어드는 시간을 의미한다. T는 10,000보다 작거나 같은 자연수 또는 0이다.</p>\n",
    "\n",
    "<p>두 지점을 연결하는 도로가 한 개보다 많을 수도 있다. 지점의 번호는 1부터 N까지 자연수로 중복 없이 매겨져 있다.</p>\n",
    "\n",
    "                        \n",
    "## 출력\n",
    "                        \n",
    "TC개의 줄에 걸쳐서 만약에 시간이 줄어들면서 출발 위치로 돌아오는 것이 가능하면 YES, 불가능하면 NO를 출력한다.\n",
    "\n"
   ]
  },
  {
   "cell_type": "code",
   "execution_count": 6,
   "metadata": {
    "ExecuteTime": {
     "end_time": "2020-08-05T13:49:48.766634Z",
     "start_time": "2020-08-05T13:49:48.717817Z"
    }
   },
   "outputs": [
    {
     "name": "stdout",
     "output_type": "stream",
     "text": [
      "NO\n",
      "YES\n"
     ]
    }
   ],
   "source": [
    "import sys\n",
    "input = sys.stdin.readline\n",
    "\n",
    "\n",
    "def bellman_ford(): \n",
    "    for i in range(1, N + 1):  \n",
    "        for start in range(1, N + 1):  \n",
    "            for dest, cost in adj[start]:\n",
    "                cur_cost = dist[start] + cost\n",
    "                if dist[start] != sys.maxsize and dist[dest] > cur_cost:\n",
    "                    dist[dest] = cur_cost\n",
    "                    if i == N:\n",
    "                        return False\n",
    "                    \n",
    "    return True\n",
    "\n",
    "T = int(input())\n",
    "\n",
    "for _ in range(T):\n",
    "    N, M, W = map(int, input().split())\n",
    " \n",
    "    dist = [sys.maxsize for _ in range(N + 1)]\n",
    "    adj = [[] for _ in range(N + 1)]\n",
    " \n",
    "    for _ in range(M):  # 도로 정보\n",
    "        S, E, T = map(int, input().split())\n",
    " \n",
    "        # 양방향 그래프이므로 S, E 각각 추가\n",
    "        adj[S].append((E, T))\n",
    "        adj[E].append((S, T))\n",
    "    \n",
    "    for _ in range(W):  # 웜홀 정보\n",
    "        S, E, T = map(int, input().split())\n",
    " \n",
    "        adj[S].append((E, -T)) \n",
    "    \n",
    "    result = bellman_ford()\n",
    "    \n",
    "    if result:\n",
    "        print('NO')\n",
    "    else:\n",
    "        print('YES')"
   ]
  }
 ],
 "metadata": {
  "kernelspec": {
   "display_name": "Python 3",
   "language": "python",
   "name": "python3"
  },
  "language_info": {
   "codemirror_mode": {
    "name": "ipython",
    "version": 3
   },
   "file_extension": ".py",
   "mimetype": "text/x-python",
   "name": "python",
   "nbconvert_exporter": "python",
   "pygments_lexer": "ipython3",
   "version": "3.6.10"
  },
  "varInspector": {
   "cols": {
    "lenName": 16,
    "lenType": 16,
    "lenVar": 40
   },
   "kernels_config": {
    "python": {
     "delete_cmd_postfix": "",
     "delete_cmd_prefix": "del ",
     "library": "var_list.py",
     "varRefreshCmd": "print(var_dic_list())"
    },
    "r": {
     "delete_cmd_postfix": ") ",
     "delete_cmd_prefix": "rm(",
     "library": "var_list.r",
     "varRefreshCmd": "cat(var_dic_list()) "
    }
   },
   "types_to_exclude": [
    "module",
    "function",
    "builtin_function_or_method",
    "instance",
    "_Feature"
   ],
   "window_display": false
  }
 },
 "nbformat": 4,
 "nbformat_minor": 4
}
