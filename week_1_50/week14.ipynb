{
 "cells": [
  {
   "cell_type": "markdown",
   "metadata": {},
   "source": [
    "# 예산\n",
    "\n",
    "\n",
    "<div class=\"guide-section-description\">\n",
    "      <h6 class=\"guide-section-title\">문제 설명</h6>\n",
    "      <div class=\"markdown solarized-dark\"><p>국가의 역할 중 하나는 여러 지방의 예산요청을 심사하여 국가의 예산을 분배하는 것입니다. 국가예산의 총액은 미리 정해져 있어서 모든 예산요청을 배정해 주기는 어려울 수도 있습니다. 그래서 정해진 총액 이하에서 <strong>가능한 한 최대의</strong> 총 예산을 다음과 같은 방법으로 배정합니다.</p>\n",
    "<div class=\"highlight\"><pre class=\"codehilite\"><code>1. 모든 요청이 배정될 수 있는 경우에는 요청한 금액을 그대로 배정합니다.\n",
    "2. 모든 요청이 배정될 수 없는 경우에는 특정한 정수 상한액을 계산하여 그 이상인 예산요청에는 모두 상한액을 배정합니다. \n",
    "   상한액 이하의 예산요청에 대해서는 요청한 금액을 그대로 배정합니다. \n",
    "</code></pre></div>\n",
    "<p>예를 들어, 전체 국가예산이 485이고 4개 지방의 예산요청이 각각 120, 110, 140, 150일 때, 상한액을 127로 잡으면 위의 요청들에 대해서 각각 120, 110, 127, 127을 배정하고 그 합이 484로 가능한 최대가 됩니다.<br>\n",
    "각 지방에서 요청하는 예산이 담긴 배열 budgets과 총 예산 M이 매개변수로 주어질 때, 위의 조건을 모두 만족하는 상한액을 return 하도록 solution 함수를 작성해주세요.</p>\n",
    "\n",
    "<h5>제한 사항</h5>\n",
    "\n",
    "<ul>\n",
    "<li>지방의 수는 3 이상 100,000 이하인 자연수입니다.</li>\n",
    "<li>각 지방에서 요청하는 예산은 1 이상 100,000 이하인 자연수입니다.</li>\n",
    "<li>총 예산은 <code>지방의 수</code> 이상 1,000,000,000 이하인 자연수입니다.</li>\n",
    "</ul>\n",
    "\n",
    "<h5>입출력 예</h5>\n",
    "<table class=\"table\">\n",
    "        <thead><tr>\n",
    "<th>budgets</th>\n",
    "<th>M</th>\n",
    "<th>return</th>\n",
    "</tr>\n",
    "</thead>\n",
    "        <tbody><tr>\n",
    "<td>[120, 110, 140, 150]</td>\n",
    "<td>485</td>\n",
    "<td>127</td>\n",
    "</tr>\n",
    "</tbody>\n",
    "      </table>\n",
    "<p><a href=\"https://www.digitalculture.or.kr/koi/selectOlymPiadDissentList.do\" target=\"_blank\" rel=\"noopener\">출처</a></p>\n",
    "\n",
    "<hr>\n",
    "\n",
    "<p>※ 공지 - 2019년 3월 15일, 테스트케이스가 강화되었습니다. </p>\n",
    "\n",
    "<p>이번 업데이트로 인해 지방의 수가 최대 10,000개에서 100,000개로 늘어났으며, 이에 따라 테스트케이스가 수정되었습니다.</p>\n",
    "\n",
    "<p>이로 인해 이전에 통과하던 코드가 더 이상 통과하지 않을 수 있습니다.</p>\n",
    "</div>\n",
    "    </div>"
   ]
  },
  {
   "cell_type": "code",
   "execution_count": 1,
   "metadata": {},
   "outputs": [
    {
     "data": {
      "text/plain": [
       "127"
      ]
     },
     "execution_count": 1,
     "metadata": {},
     "output_type": "execute_result"
    }
   ],
   "source": [
    "def solution(budgets, M):\n",
    "    budgets.sort()\n",
    "    min_bud = 0\n",
    "    max_bud = max(budgets)\n",
    "    result = 0\n",
    "    \n",
    "    while min_bud <= max_bud:        \n",
    "        mid_bud = (min_bud+max_bud) // 2\n",
    "        budget_sum = sum([i if i <= mid_bud else mid_bud for i in budgets])\n",
    "\n",
    "        if budget_sum <= M:\n",
    "            min_bud = mid_bud + 1\n",
    "            result = mid_bud # 이 때만 mid_bud 업데이트 해줌 else에서는 다시 mid_bud가 무조건 업데이트 되어야 함\n",
    "        else:\n",
    "            max_bud = mid_bud -1 \n",
    "            \n",
    "    return result\n",
    "\n",
    "budgets = [120, 110, 140, 150]\n",
    "M = 485\n",
    "solution(budgets, M)"
   ]
  },
  {
   "cell_type": "markdown",
   "metadata": {},
   "source": [
    "#  Compare Version Numbers\n",
    "\n",
    "<div><p>Compare two version numbers <em>version1</em> and <em>version2</em>.<br>\n",
    "If <code><em>version1</em> &gt; <em>version2</em></code> return <code>1;</code>&nbsp;if <code><em>version1</em> &lt; <em>version2</em></code> return <code>-1;</code>otherwise return <code>0</code>.</p>\n",
    "\n",
    "<p>You may assume that the version strings are non-empty and contain only digits and the <code>.</code> character.</p>\n",
    "<p>The <code>.</code> character does not represent a decimal point and is used to separate number sequences.</p>\n",
    "<p>For instance, <code>2.5</code> is not \"two and a half\" or \"half way to version three\", it is the fifth second-level revision of the second first-level revision.</p>\n",
    "<p>You may assume the default revision number for each level of a version number to be <code>0</code>. For example, version number <code>3.4</code> has a revision number of <code>3</code> and <code>4</code> for its first and second level revision number. Its third and fourth level revision number are both <code>0</code>.</p>\n",
    "\n",
    "<p>&nbsp;</p>\n",
    "\n",
    "<p><strong>Example 1:</strong></p>\n",
    "<pre><strong>Input:</strong> <code><em>version1</em></code> = \"0.1\", <code><em>version2</em></code> = \"1.1\"\n",
    "<strong>Output:</strong> -1</pre>\n",
    "\n",
    "<p><strong>Example 2:</strong></p>\n",
    "<pre><strong>Input: </strong><code><em>version1</em></code> = \"1.0.1\", <code><em>version2</em></code> = \"1\"\n",
    "<strong>Output:</strong> 1</pre>\n",
    "\n",
    "<p><strong>Example 3:</strong></p>\n",
    "<pre><strong>Input:</strong> <code><em>version1</em></code> = \"7.5.2.4\", <code><em>version2</em></code> = \"7.5.3\"\n",
    "<strong>Output:</strong> -1</pre>\n",
    "\n",
    "<p><strong>Example 4:</strong></p>\n",
    "<pre><strong>Input:</strong> <code><em>version1</em></code> = \"1.01\", <code><em>version2</em></code> = \"1.001\"\n",
    "<strong>Output:</strong> 0\n",
    "<strong>Explanation:</strong> Ignoring leading zeroes, both “01” and “001\" represent the same number “1”</pre>\n",
    "\n",
    "<p><strong>Example 5:</strong></p>\n",
    "<pre><strong>Input:</strong> <code><em>version1</em></code> = \"1.0\", <code><em>version2</em></code> = \"1.0.0\"\n",
    "<strong>Output:</strong> 0\n",
    "<strong>Explanation:</strong> The first version number does not have a third level revision number, which means its third level revision number is default to \"0\"</pre>\n",
    "\n",
    "<p>&nbsp;</p>\n",
    "\n",
    "<p><strong>Note:</strong></p>\n",
    "<ol>\n",
    "<li>Version strings are composed of numeric strings separated by dots <code>.</code> and this numeric strings <strong>may</strong> have leading zeroes. </li>\n",
    "<li>Version strings do not start or end with dots, and they will not be two consecutive dots.</li>\n",
    "</ol></div>"
   ]
  },
  {
   "cell_type": "code",
   "execution_count": 56,
   "metadata": {},
   "outputs": [
    {
     "data": {
      "text/plain": [
       "'0'"
      ]
     },
     "execution_count": 56,
     "metadata": {},
     "output_type": "execute_result"
    }
   ],
   "source": [
    "from collections import deque\n",
    "import re\n",
    "\n",
    "class Solution:\n",
    "    def getSplit(self, x):\n",
    "        return [re.sub('0+','0',i) for i in x.split('.')]\n",
    "\n",
    "    def compareVersion(self, version1: str, version2: str) -> int:\n",
    "        \n",
    "        version1 = deque(self.getSplit(version1))\n",
    "        version2 = deque(self.getSplit(version2))\n",
    "        \n",
    "        while version1 and version2:\n",
    "            temp1 = int(version1.popleft())\n",
    "            temp2 = int(version2.popleft())\n",
    "            \n",
    "            if temp1 > temp2:\n",
    "                return 1\n",
    "            elif temp1 < temp2:\n",
    "                return -1\n",
    "\n",
    "        if version1 and set(version1) != {'0'}:\n",
    "            return 1\n",
    "        elif version2 and set(version2) != {'0'}:\n",
    "            return -1\n",
    "        else:\n",
    "            return 0"
   ]
  }
 ],
 "metadata": {
  "kernelspec": {
   "display_name": "Python 3",
   "language": "python",
   "name": "python3"
  },
  "language_info": {
   "codemirror_mode": {
    "name": "ipython",
    "version": 3
   },
   "file_extension": ".py",
   "mimetype": "text/x-python",
   "name": "python",
   "nbconvert_exporter": "python",
   "pygments_lexer": "ipython3",
   "version": "3.7.3"
  },
  "varInspector": {
   "cols": {
    "lenName": 16,
    "lenType": 16,
    "lenVar": 40
   },
   "kernels_config": {
    "python": {
     "delete_cmd_postfix": "",
     "delete_cmd_prefix": "del ",
     "library": "var_list.py",
     "varRefreshCmd": "print(var_dic_list())"
    },
    "r": {
     "delete_cmd_postfix": ") ",
     "delete_cmd_prefix": "rm(",
     "library": "var_list.r",
     "varRefreshCmd": "cat(var_dic_list()) "
    }
   },
   "types_to_exclude": [
    "module",
    "function",
    "builtin_function_or_method",
    "instance",
    "_Feature"
   ],
   "window_display": false
  }
 },
 "nbformat": 4,
 "nbformat_minor": 4
}
