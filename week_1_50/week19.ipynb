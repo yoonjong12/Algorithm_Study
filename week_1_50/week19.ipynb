{
 "cells": [
  {
   "cell_type": "markdown",
   "metadata": {},
   "source": [
    "# 단속카메라\n",
    "\n",
    "<div class=\"guide-section-description\">\n",
    "      <h6 class=\"guide-section-title\">문제 설명</h6>\n",
    "      <div class=\"markdown solarized-dark\"><p>고속도로를 이동하는 모든 차량이 고속도로를 이용하면서 단속용 카메라를 한 번은 만나도록 카메라를 설치하려고 합니다.</p>\n",
    "\n",
    "<p>고속도로를 이동하는 차량의 경로 routes가 매개변수로 주어질 때, 모든 차량이 한 번은 단속용 카메라를 만나도록 하려면 최소 몇 대의 카메라를 설치해야 하는지를 return 하도록 solution 함수를 완성하세요.</p>\n",
    "\n",
    "<p><strong>제한사항</strong></p>\n",
    "\n",
    "<ul>\n",
    "<li>차량의 대수는 1대 이상 10,000대 이하입니다.</li>\n",
    "<li>routes에는 차량의 이동 경로가 포함되어 있으며 routes[i][0]에는 i번째 차량이 고속도로에 진입한 지점, routes[i][1]에는 i번째 차량이 고속도로에서 나간 지점이 적혀 있습니다.</li>\n",
    "<li>차량의 진입/진출 지점에 카메라가 설치되어 있어도 카메라를 만난것으로 간주합니다.</li>\n",
    "<li>차량의 진입 지점, 진출 지점은 -30,000 이상 30,000 이하입니다.</li>\n",
    "</ul>\n",
    "\n",
    "<p><strong>입출력 예</strong></p>\n",
    "<table class=\"table\">\n",
    "        <thead><tr>\n",
    "<th>routes</th>\n",
    "<th>return</th>\n",
    "</tr>\n",
    "</thead>\n",
    "        <tbody><tr>\n",
    "<td>[[-20,15], [-14,-5], [-18,-13], [-5,-3]]</td>\n",
    "<td>2</td>\n",
    "</tr>\n",
    "</tbody>\n",
    "      </table>\n",
    "<p><strong>입출력 예 설명</strong></p>\n",
    "\n",
    "<p>-5 지점에 카메라를 설치하면 두 번째, 네 번째 차량이 카메라를 만납니다.</p>\n",
    "\n",
    "<p>-15 지점에 카메라를 설치하면 첫 번째, 세 번째 차량이 카메라를 만납니다.</p>\n",
    "</div>\n",
    "    </div>"
   ]
  },
  {
   "cell_type": "code",
   "execution_count": 20,
   "metadata": {
    "ExecuteTime": {
     "end_time": "2020-06-08T02:25:13.131795Z",
     "start_time": "2020-06-08T02:25:13.100240Z"
    }
   },
   "outputs": [
    {
     "name": "stdout",
     "output_type": "stream",
     "text": [
      "[[-18, -13], [-14, -5], [-5, -3], [-20, 15]]\n",
      "add!  -13\n",
      "add!  -3\n"
     ]
    },
    {
     "data": {
      "text/plain": [
       "2"
      ]
     },
     "execution_count": 20,
     "metadata": {},
     "output_type": "execute_result"
    }
   ],
   "source": [
    "'''\n",
    "Idea: 각 구간을 시간 순으로 지나가면서 끊기는 구간마다 카메라 추가\n",
    "\n",
    "1. 종료 시점을 기준으로 sort (시작 지점으로 푸는 방법 없을까?)\n",
    "2. routes를 순회하면서 기준 종료 시점이 현재 시점보다 큰 경우\n",
    "   즉, 두 구간 사이가 끊긴 경우 카메라를 추가하고, 기준 종료시점을\n",
    "   이번 구간의 종료 시점으로 대체\n",
    "3. 카메라 대수 리턴\n",
    "   \n",
    "  -----\n",
    "      ↑       ---\n",
    "   std_end  cur_start\n",
    "'''\n",
    "\n",
    "\n",
    "def solution(routes):\n",
    "    routes = sorted(routes, key=lambda x: x[1])\n",
    "    standard_end = -30000\n",
    "    count = 1\n",
    "\n",
    "    for current_start, current_end in routes:\n",
    "        if standard_end >= current_start:\n",
    "            continue\n",
    "\n",
    "        standard_end = current_end\n",
    "        count += 1\n",
    "    return count"
   ]
  },
  {
   "cell_type": "markdown",
   "metadata": {},
   "source": [
    "# 845. Longest Mountain in Array\n",
    "\n",
    "<div><p>Let's call any (contiguous) subarray B (of A)&nbsp;a <em>mountain</em> if the following properties hold:</p>\n",
    "\n",
    "<ul>\n",
    "\t<li><code>B.length &gt;= 3</code></li>\n",
    "\t<li>There exists some <code>0 &lt; i&nbsp;&lt; B.length - 1</code> such that <code>B[0] &lt; B[1] &lt; ... B[i-1] &lt; B[i] &gt; B[i+1] &gt; ... &gt; B[B.length - 1]</code></li>\n",
    "</ul>\n",
    "\n",
    "<p>(Note that B could be any subarray of A, including the entire array A.)</p>\n",
    "\n",
    "<p>Given an array <code>A</code>&nbsp;of integers,&nbsp;return the length of the longest&nbsp;<em>mountain</em>.&nbsp;</p>\n",
    "\n",
    "<p>Return <code>0</code> if there is no mountain.</p>\n",
    "\n",
    "<p><strong>Example 1:</strong></p>\n",
    "\n",
    "<pre><strong>Input: </strong>[2,1,4,7,3,2,5]\n",
    "<strong>Output: </strong>5\n",
    "<strong>Explanation: </strong>The largest mountain is [1,4,7,3,2] which has length 5.\n",
    "</pre>\n",
    "\n",
    "<p><strong>Example 2:</strong></p>\n",
    "\n",
    "<pre><strong>Input: </strong>[2,2,2]\n",
    "<strong>Output: </strong>0\n",
    "<strong>Explanation: </strong>There is no mountain.\n",
    "</pre>\n",
    "\n",
    "<p><strong>Note:</strong></p>\n",
    "\n",
    "<ol>\n",
    "\t<li><code>0 &lt;= A.length &lt;= 10000</code></li>\n",
    "\t<li><code>0 &lt;= A[i] &lt;= 10000</code></li>\n",
    "</ol>\n",
    "\n",
    "<p><strong>Follow up:</strong></p>\n",
    "\n",
    "<ul>\n",
    "\t<li>Can you solve it using only one pass?</li>\n",
    "\t<li>Can you solve it in <code>O(1)</code> space?</li>\n",
    "</ul>\n",
    "</div>"
   ]
  },
  {
   "cell_type": "code",
   "execution_count": null,
   "metadata": {},
   "outputs": [],
   "source": [
    "'''\n",
    "Idea: 꼭대기부터 양쪽으로 범위를 넓혀가며 최대 너비를 구하자\n",
    "\n",
    "1. A를 순회하며 꼭대기를 찾는다 (왼쪽 < 꼭대기 & 꼭대기 > 오른쪽)\n",
    "2. 왼쪽과 오른쪽이 끝에 닿지 않으면서, 값이 내려가는지 검사하며 한 칸 씩 늘림\n",
    "3. 조사가 끝나면 현재 max값과 비교하여 대체\n",
    "'''\n",
    "\n",
    "class Solution:\n",
    "    def longestMountain(self, A):\n",
    "            result = 0\n",
    "            for i in range(1,len(A)-1):\n",
    "                # 꼭대기\n",
    "                if A[i] > A[i-1] and A[i] > A[i+1]:\n",
    "                    left = i-1  # 왼쪽 측정 인덱스\n",
    "                    right = i+1  # 오른쪽 측정 인덱스\n",
    "                    left_length = 1  # 왼쪽 산맥 길이\n",
    "                    right_length = 1  # 오른쪽 산맥 길이\n",
    "                    \n",
    "                    # 왼쪽 끝에 안닿으면서 이전 값이 더 작은가?\n",
    "                    while left >= 1 and A[left] > A[left-1]:\n",
    "                        left -= 1\n",
    "                        left_length += 1\n",
    "                        \n",
    "                    # 오른쪽 끝에 안닿으면서 이후 값이 더 작은가?\n",
    "                    while right < len(A)-1 and A[right] > A[right+1]:\n",
    "                        right += 1\n",
    "                        right_length += 1\n",
    "                        \n",
    "                    width = left_length + right_length + 1\n",
    "                    result = max(result, width)\n",
    "                    \n",
    "            return result if result else 0"
   ]
  },
  {
   "cell_type": "markdown",
   "metadata": {},
   "source": [
    "# 134. Gas Station\n",
    "\n",
    "<div><p>There are <em>N</em> gas stations along a circular route, where the amount of gas at station <em>i</em> is <code>gas[i]</code>.</p>\n",
    "\n",
    "<p>You have a car with an unlimited gas tank and it costs <code>cost[i]</code> of gas to travel from station <em>i</em> to its next station (<em>i</em>+1). You begin the journey with an empty tank at one of the gas stations.</p>\n",
    "\n",
    "<p>Return the starting gas station's index if you can travel around the circuit once in the clockwise direction, otherwise return -1.</p>\n",
    "\n",
    "<p><strong>Note:</strong></p>\n",
    "\n",
    "<ul>\n",
    "\t<li>If there exists a&nbsp;solution, it is guaranteed to be unique.</li>\n",
    "\t<li>Both input arrays are non-empty and have the same length.</li>\n",
    "\t<li>Each element in the input arrays is a non-negative integer.</li>\n",
    "</ul>\n",
    "\n",
    "<p><strong>Example 1:</strong></p>\n",
    "\n",
    "<pre><strong>Input:</strong> \n",
    "gas  = [1,2,3,4,5]\n",
    "cost = [3,4,5,1,2]\n",
    "\n",
    "<strong>Output:</strong> 3\n",
    "\n",
    "<strong>Explanation:\n",
    "</strong>Start at station 3 (index 3) and fill up with 4 unit of gas. Your tank = 0 + 4 = 4\n",
    "Travel to station 4. Your tank = 4 - 1 + 5 = 8\n",
    "Travel to station 0. Your tank = 8 - 2 + 1 = 7\n",
    "Travel to station 1. Your tank = 7 - 3 + 2 = 6\n",
    "Travel to station 2. Your tank = 6 - 4 + 3 = 5\n",
    "Travel to station 3. The cost is 5. Your gas is just enough to travel back to station 3.\n",
    "Therefore, return 3 as the starting index.\n",
    "</pre>\n",
    "\n",
    "<p><strong>Example 2:</strong></p>\n",
    "\n",
    "<pre><strong>Input:</strong> \n",
    "gas  = [2,3,4]\n",
    "cost = [3,4,3]\n",
    "\n",
    "<strong>Output:</strong> -1\n",
    "\n",
    "<strong>Explanation:\n",
    "</strong>You can't start at station 0 or 1, as there is not enough gas to travel to the next station.\n",
    "Let's start at station 2 and fill up with 4 unit of gas. Your tank = 0 + 4 = 4\n",
    "Travel to station 0. Your tank = 4 - 3 + 2 = 3\n",
    "Travel to station 1. Your tank = 3 - 3 + 3 = 3\n",
    "You cannot travel back to station 2, as it requires 4 unit of gas but you only have 3.\n",
    "Therefore, you can't travel around the circuit once no matter where you start.\n",
    "</pre>\n",
    "</div>"
   ]
  },
  {
   "cell_type": "code",
   "execution_count": 90,
   "metadata": {
    "ExecuteTime": {
     "end_time": "2020-06-11T04:43:00.462025Z",
     "start_time": "2020-06-11T04:43:00.420566Z"
    },
    "scrolled": true
   },
   "outputs": [
    {
     "data": {
      "text/plain": [
       "3"
      ]
     },
     "execution_count": 90,
     "metadata": {},
     "output_type": "execute_result"
    }
   ],
   "source": [
    "'''\n",
    "Idea: 모든 출발 가능한 지점을 탐색하면서 한 바퀴씩 돌아보자\n",
    "\n",
    "1. gas-cost cycle리스트를 만든다\n",
    "2. 양수인 지점을 모두 탐색해본다.\n",
    "\n",
    "* 전체 리스트 길이만큼 순회를 할 때, 이미 불가능하다고 판단된 element는 패스\n",
    "'''\n",
    "from itertools import islice, cycle\n",
    "\n",
    "def canCompleteCircuit(gas, cost):\n",
    "    length = len(gas)\n",
    "    index = 0\n",
    "    \n",
    "    # 주어진 도로를 순회\n",
    "    while index <= length:\n",
    "        # 이동 거리\n",
    "        jump = 1\n",
    "        # 남은 기름량\n",
    "        remain = 0        \n",
    "        \n",
    "        # islice( [1,2,3,4,5], 2, 5) -> [3,4,5,1,2]\n",
    "        for count, value in enumerate(islice(cycle([g-c for g, c in  zip(gas, cost)]), index, index+length)):\n",
    "            # 주유\n",
    "            remain += value\n",
    "            \n",
    "            # 더 나아갈 수 없는가?\n",
    "            if count+1 != length and remain == 0 or remain < 0:\n",
    "                index += jump\n",
    "                break\n",
    "            jump += 1\n",
    "    \n",
    "        else:\n",
    "            # 무사히 한바퀴 돌았다\n",
    "            return index\n",
    "        \n",
    "    else:\n",
    "        # 노답\n",
    "        return -1\n",
    "    \n",
    "gas = [1,2,3,4,5]\n",
    "cost = [3,4,5,1,2]\n",
    "canCompleteCircuit(gas, cost)"
   ]
  }
 ],
 "metadata": {
  "kernelspec": {
   "display_name": "Python 3",
   "language": "python",
   "name": "python3"
  },
  "language_info": {
   "codemirror_mode": {
    "name": "ipython",
    "version": 3
   },
   "file_extension": ".py",
   "mimetype": "text/x-python",
   "name": "python",
   "nbconvert_exporter": "python",
   "pygments_lexer": "ipython3",
   "version": "3.7.3"
  },
  "varInspector": {
   "cols": {
    "lenName": 16,
    "lenType": 16,
    "lenVar": 40
   },
   "kernels_config": {
    "python": {
     "delete_cmd_postfix": "",
     "delete_cmd_prefix": "del ",
     "library": "var_list.py",
     "varRefreshCmd": "print(var_dic_list())"
    },
    "r": {
     "delete_cmd_postfix": ") ",
     "delete_cmd_prefix": "rm(",
     "library": "var_list.r",
     "varRefreshCmd": "cat(var_dic_list()) "
    }
   },
   "types_to_exclude": [
    "module",
    "function",
    "builtin_function_or_method",
    "instance",
    "_Feature"
   ],
   "window_display": false
  }
 },
 "nbformat": 4,
 "nbformat_minor": 4
}
