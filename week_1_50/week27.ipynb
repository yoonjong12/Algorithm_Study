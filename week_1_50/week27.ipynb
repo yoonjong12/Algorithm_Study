{
 "cells": [
  {
   "cell_type": "markdown",
   "metadata": {},
   "source": [
    "# Course Schedule\n",
    "<div><p>There are a total of <code>numCourses</code> courses you have to take, labeled from <code>0</code> to <code>numCourses-1</code>.</p>\n",
    "\n",
    "<p>Some courses may have prerequisites, for example to take course 0 you have to first take course 1, which is expressed as a pair: <code>[0,1]</code></p>\n",
    "\n",
    "<p>Given the total number of courses and a list of prerequisite <b>pairs</b>, is it possible for you to finish all courses?</p>\n",
    "\n",
    "<p>&nbsp;</p>\n",
    "<p><strong>Example 1:</strong></p>\n",
    "\n",
    "<pre><strong>Input:</strong> numCourses = 2, prerequisites = [[1,0]]\n",
    "<strong>Output:</strong> true\n",
    "<strong>Explanation:</strong>&nbsp;There are a total of 2 courses to take. \n",
    "&nbsp;            To take course 1 you should have finished course 0. So it is possible.\n",
    "</pre>\n",
    "\n",
    "<p><strong>Example 2:</strong></p>\n",
    "\n",
    "<pre><strong>Input:</strong> numCourses = 2, prerequisites = [[1,0],[0,1]]\n",
    "<strong>Output:</strong> false\n",
    "<strong>Explanation:</strong>&nbsp;There are a total of 2 courses to take. \n",
    "&nbsp;            To take course 1 you should have finished course 0, and to take course 0 you should\n",
    "&nbsp;            also have finished course 1. So it is impossible.\n",
    "</pre>\n",
    "\n",
    "<p>&nbsp;</p>\n",
    "<p><strong>Constraints:</strong></p>\n",
    "\n",
    "<ul>\n",
    "\t<li>The input prerequisites is a graph represented by <b>a list of edges</b>, not adjacency matrices. Read more about <a href=\"https://www.khanacademy.org/computing/computer-science/algorithms/graph-representation/a/representing-graphs\" target=\"_blank\">how a graph is represented</a>.</li>\n",
    "\t<li>You may assume that there are no duplicate edges in the input prerequisites.</li>\n",
    "\t<li><code>1 &lt;=&nbsp;numCourses &lt;= 10^5</code></li>\n",
    "</ul>\n",
    "</div>"
   ]
  },
  {
   "cell_type": "markdown",
   "metadata": {},
   "source": [
    "For one of prerequisites [x, y], we set a directed edge y->x as y is a prerequisite of x.\n",
    "Then we can form a directed graph. If there is a cycle in the graph, then the schedule is not possible.\n",
    "Otherwise, the graph is a a directed acyclic graph (DAG) and the schedule is possible.\n",
    "We can use DFS to check cycle in a digraph. (We can also use this paradigm to get a topological order).\n",
    "To detect a cycle in a digraph, we need 3 visit states.\n",
    "\n",
    " 0: not visit yet\n",
    "-1: visited and is one ancestor of current visiting path. If we met a node with -1 state, we detect a cycle.\n",
    " 1: other visited node\n",
    "So when we dfs(node x), we first mark its state as -1, then visit all of its downstream nodes, if not detected a cycle, we can securely mark it as 1 as it cannot be the ancestor in state -1 as we have visited all its downstream paths.\n",
    "And during the dfs, we don't have to visited a state 1 node because we have checked that already.\n",
    "\n",
    "def canFinish(numCourses, prerequisites):\n",
    "\tvis = [0] * numCourses\n",
    "\tdigraph = collections.defaultdict(set)\n",
    "\tfor dst, src in prerequisites:\n",
    "\t\tdigraph[src].add(dst)\n",
    "\n",
    "\tdef dfs(x):\n",
    "\t\tvis[x] = -1\n",
    "\t\tfor y in digraph[x]:\n",
    "\t\t\tif vis[y] == -1 or (vis[y] == 0 and not dfs(y)):\n",
    "\t\t\t\treturn False\n",
    "\t\tvis[x] = 1\n",
    "\t\treturn True\n",
    "\t\n",
    "\tfor i in range(numCourses):\n",
    "\t\tif vis[i] == 0 and not dfs(i): return False\n",
    "\treturn True"
   ]
  },
  {
   "cell_type": "code",
   "execution_count": null,
   "metadata": {},
   "outputs": [],
   "source": [
    "'''\n",
    "DAG로 풀어야 한다. DAG의 특징은 cycle이 없다는 점. cycle을 발견하면 False리턴하면 된다.\n",
    "노드 개수만큼의 방문 기록 visited 리스트 초기화. -1이면 방문했음, 0이면 미방문, 1이면 방문+검증완료  \n",
    "'''\n",
    "class Solution:\n",
    "    def canFinish(self,numCourses, prerequisites):\n",
    "        def dfs(node):\n",
    "            if visited[node] < 0:\n",
    "                return False\n",
    "\n",
    "            visited[node] = -1\n",
    "            for y in adj[node]:\n",
    "                if not dfs(y):\n",
    "                    return False\n",
    "                \n",
    "            visited[node] = 1\n",
    "            return True\n",
    "        \n",
    "        visited = [False] * numCourses\n",
    "        adj = collections.defaultdict(list)\n",
    "\n",
    "        for start, end in prerequisites:\n",
    "            adj[start].append(end)\n",
    "\n",
    "        for i in range(numCourses):\n",
    "            if not visited[i]:\n",
    "                result = dfs(i)\n",
    "\n",
    "        return result"
   ]
  },
  {
   "cell_type": "markdown",
   "metadata": {},
   "source": [
    "# 록 페스티벌\n",
    "\n",
    "커다란 공연장을 빌려서 록 페스티벌을 개최하려고 합니다. 이 페스티벌은 여러 날 동안 진행되며, 하루에 한 팀의 밴드가 공연장에서 콘서트를 하게 됩니다. 전체 밴드를 몇 팀 섭외할 지는 아직 결정하지 않았지만, 페스티벌의 간판 스타인 L개의 팀은 이미 섭외가 끝난 상태입니다. 따라서 페스티벌은 최소 L일 이상 진행하게 됩니다.\n",
    "\n",
    "이번에 사용할 공연장은 하루 빌리는 데 드는 비용이 매일 매일 다릅니다. 때문에 공연 일정을 잘 정해서 공연장 대여 비용을 줄이려고 합니다. 앞으로 N일간의 공연장 대여 비용을 알고 있다고 합시다. 이 중 L일 이상을 연속해서 대여하되, 공연장을 하루 빌리는 데 드는 평균 비용을 최소화하려면 어떻게 공연장을 빌려야 할까요?\n",
    "\n",
    "예를 들어 앞으로 6일간 공연장을 빌리는 데 드는 비용이 각 {3, 1, 2, 3, 1, 2}라고 합시다. 이미 세 팀을 섭외했다고 하면, 3일 대신 4일 동안 공연을 진행해서 평균 비용을 더 저렴하게 할 수 있습니다. 3일 동안의 평균 대여 비용을 최소화하는 방법은 2일째부터 4일째까지 공연장을 대여하는 것인데, 이 때 하루 평균 (1+2+3)/3 = 2의 비용이 듭니다. 반면 2일째부터 5일째까지 공연장을 대여하면 평균 비용이 (1+2+3+1)/4 = 7/4밖에 되지 않습니다.\n",
    "\n",
    "#### 입력\n",
    "입력의 첫 줄에는 테스트 케이스의 수 C (C ≤ 100)가 주어집니다. 각 테스트 케이스의 첫 줄에는 공연장을 대여할 수 있는 날들의 수 N (1 ≤ N ≤ 1000)과 이미 섭외한 공연 팀의 수 L (1 ≤ L ≤ 1000, L ≤ N)이 주어집니다. 그 다음 줄에는 N개의 숫자로 공연장 대여 비용이 날짜별로 주어집니다. 모든 비용은 100 이하의 자연수입니다.\n",
    "\n",
    "#### 출력\n",
    "입력에 주어지는 각 테스트 케이스마다 한 줄에 최소의 평균 대여 비용을 출력합니다. 10-7 이하의 절대/상대 오차가 있는 답은 정답 처리됩니다.\n",
    "\n",
    "#### 예제 입력\n",
    "2<br>\n",
    "6 3<br>\n",
    "1 2 3 1 2 3 <br>\n",
    "6 2 <br>\n",
    "1 2 3 1 2 3<br>\n",
    "#### 예제 출력\n",
    "1.75000000000<br>\n",
    "1.50000000000<br>"
   ]
  },
  {
   "cell_type": "code",
   "execution_count": 2,
   "metadata": {
    "ExecuteTime": {
     "end_time": "2020-10-08T02:01:51.946570Z",
     "start_time": "2020-10-08T02:01:51.908469Z"
    }
   },
   "outputs": [
    {
     "name": "stdout",
     "output_type": "stream",
     "text": [
      "1.75000000000\n",
      "1.50000000000\n"
     ]
    }
   ],
   "source": [
    "def test_data():\n",
    "    yield '2'\n",
    "    \n",
    "    yield '6 3'\n",
    "    yield '1 2 3 1 2 3'\n",
    "    \n",
    "    yield '6 2'\n",
    "    yield '1 2 3 1 2 3'\n",
    "\n",
    "    \n",
    "def input():\n",
    "    return next(G)\n",
    "G = test_data()\n",
    "\n",
    "import sys\n",
    "# input = sys.stdin.readline\n",
    "\n",
    "def get_smaller_avg(min_avg, cur_sum, cur_length):\n",
    "    cur_avg = cur_sum / cur_length\n",
    "    min_avg = cur_avg if min_avg > cur_avg else min_avg\n",
    "    \n",
    "    return min_avg\n",
    "\n",
    "for _ in range(int(input())):  # test case num C\n",
    "    N, L = list(map(int, input().split()))\n",
    "    x = list(map(int, input().split()))\n",
    "    min_cost = 100  # 비용\n",
    "    for start_idx in range(N-L+1):  # 초기 L개의 조합\n",
    "        \n",
    "        next_start = start_idx + L\n",
    "        cur_sum = sum(x[start_idx: next_start])\n",
    "        min_cost = get_smaller_avg(min_cost, cur_sum, L)  \n",
    "        \n",
    "        for next_idx in range(next_start, N):  # 하나씩 더하고 평균을 업데이트\n",
    "            cur_sum += x[next_idx]\n",
    "            \n",
    "            min_cost = get_smaller_avg(min_cost, cur_sum, next_idx-start_idx+1)  \n",
    "           \n",
    "            \n",
    "    print(format(min_cost,\".11f\"))"
   ]
  },
  {
   "cell_type": "code",
   "execution_count": null,
   "metadata": {},
   "outputs": [],
   "source": []
  }
 ],
 "metadata": {
  "kernelspec": {
   "display_name": "Python 3",
   "language": "python",
   "name": "python3"
  },
  "language_info": {
   "codemirror_mode": {
    "name": "ipython",
    "version": 3
   },
   "file_extension": ".py",
   "mimetype": "text/x-python",
   "name": "python",
   "nbconvert_exporter": "python",
   "pygments_lexer": "ipython3",
   "version": "3.6.10"
  },
  "varInspector": {
   "cols": {
    "lenName": 16,
    "lenType": 16,
    "lenVar": 40
   },
   "kernels_config": {
    "python": {
     "delete_cmd_postfix": "",
     "delete_cmd_prefix": "del ",
     "library": "var_list.py",
     "varRefreshCmd": "print(var_dic_list())"
    },
    "r": {
     "delete_cmd_postfix": ") ",
     "delete_cmd_prefix": "rm(",
     "library": "var_list.r",
     "varRefreshCmd": "cat(var_dic_list()) "
    }
   },
   "types_to_exclude": [
    "module",
    "function",
    "builtin_function_or_method",
    "instance",
    "_Feature"
   ],
   "window_display": false
  }
 },
 "nbformat": 4,
 "nbformat_minor": 4
}
