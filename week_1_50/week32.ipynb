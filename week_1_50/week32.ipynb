{
 "cells": [
  {
   "cell_type": "markdown",
   "metadata": {},
   "source": [
    "# Different Ways to Add Parentheses\n",
    "\n",
    "<div><p>Given a string of numbers and operators, return all possible results from computing all the different possible ways to group numbers and operators. The valid operators are <code>+</code>, <code>-</code> and <code>*</code>.</p>\n",
    "\n",
    "<p><b>Example 1:</b></p>\n",
    "\n",
    "<pre><b>Input:</b> <code>\"2-1-1\"</code>\n",
    "<b>Output:</b> <code>[0, 2]</code>\n",
    "<strong>Explanation: </strong>\n",
    "((2-1)-1) = 0 \n",
    "(2-(1-1)) = 2</pre>\n",
    "\n",
    "<p><b>Example 2:</b></p>\n",
    "\n",
    "<pre><b>Input: </b><code>\"2*3-4*5\"</code>\n",
    "<b>Output:</b> <code>[-34, -14, -10, -10, 10]</code>\n",
    "<strong>Explanation: \n",
    "</strong>(2*(3-(4*5))) = -34 \n",
    "((2*3)-(4*5)) = -14 \n",
    "((2*(3-4))*5) = -10 \n",
    "(2*((3-4)*5)) = -10 \n",
    "(((2*3)-4)*5) = 10<strong>\n",
    "</strong></pre></div>"
   ]
  },
  {
   "cell_type": "code",
   "execution_count": 3,
   "metadata": {
    "ExecuteTime": {
     "end_time": "2020-10-12T05:41:19.428377Z",
     "start_time": "2020-10-12T05:41:19.385697Z"
    }
   },
   "outputs": [
    {
     "data": {
      "text/plain": [
       "[-34, -10, -14, -10, 10]"
      ]
     },
     "execution_count": 3,
     "metadata": {},
     "output_type": "execute_result"
    }
   ],
   "source": [
    "def solution(inp):\n",
    "    def operate(left, operator, right):\n",
    "        if type(left) == str:\n",
    "            left = int(left)\n",
    "        if type(right) == str:\n",
    "            right = int(right)\n",
    "            \n",
    "        if operator == '+':\n",
    "            return left + right\n",
    "        elif operator == '*':\n",
    "            return left * right\n",
    "        return left - right  # else '-'\n",
    "            \n",
    "    def recursion(x):\n",
    "        if x.isdigit():\n",
    "            return [x]\n",
    "        \n",
    "        temp = []\n",
    "        for i in range(len(x)):\n",
    "            if x[i].isdigit():  \n",
    "                continue\n",
    "                \n",
    "            operator = x[i]\n",
    "            left = recursion(x[:i])\n",
    "            right = recursion(x[i+1:])\n",
    "\n",
    "            for l in left:\n",
    "                for r in right:\n",
    "                    temp.append(operate(l, operator, r))\n",
    "                    \n",
    "        return temp\n",
    "    \n",
    "    return recursion(inp)\n",
    "    \n",
    "    \n",
    "    \n",
    "inp = \"2*3-4*5\"\n",
    "# inp = \"11\"\n",
    "\n",
    "solution(inp)"
   ]
  },
  {
   "cell_type": "markdown",
   "metadata": {},
   "source": [
    "# Find First and Last Position of Element in Sorted Array\n",
    "\n",
    "\n",
    "<div><p>Given an array of integers <code>nums</code> sorted in ascending order, find the starting and ending position of a given <code>target</code> value.</p>\n",
    "\n",
    "<p>If <code>target</code> is not found in the array, return <code>[-1, -1]</code>.</p>\n",
    "\n",
    "<p><strong>Follow up:</strong>&nbsp;Could you write an algorithm with&nbsp;<code>O(log n)</code> runtime complexity?</p>\n",
    "\n",
    "<p>&nbsp;</p>\n",
    "<p><strong>Example 1:</strong></p>\n",
    "<pre><strong>Input:</strong> nums = [5,7,7,8,8,10], target = 8\n",
    "<strong>Output:</strong> [3,4]\n",
    "</pre><p><strong>Example 2:</strong></p>\n",
    "<pre><strong>Input:</strong> nums = [5,7,7,8,8,10], target = 6\n",
    "<strong>Output:</strong> [-1,-1]\n",
    "</pre><p><strong>Example 3:</strong></p>\n",
    "<pre><strong>Input:</strong> nums = [], target = 0\n",
    "<strong>Output:</strong> [-1,-1]\n",
    "</pre>\n",
    "<p>&nbsp;</p>\n",
    "<p><strong>Constraints:</strong></p>\n",
    "\n",
    "<ul>\n",
    "\t<li><code>0 &lt;= nums.length &lt;= 10<sup>5</sup></code></li>\n",
    "\t<li><code>-10<sup>9</sup>&nbsp;&lt;= nums[i]&nbsp;&lt;= 10<sup>9</sup></code></li>\n",
    "\t<li><code>nums</code> is a non-decreasing array.</li>\n",
    "\t<li><code>-10<sup>9</sup>&nbsp;&lt;= target&nbsp;&lt;= 10<sup>9</sup></code></li>\n",
    "</ul>\n",
    "</div>"
   ]
  },
  {
   "cell_type": "code",
   "execution_count": 126,
   "metadata": {
    "ExecuteTime": {
     "end_time": "2020-10-13T08:05:58.379277Z",
     "start_time": "2020-10-13T08:05:58.347379Z"
    }
   },
   "outputs": [],
   "source": [
    "'''\n",
    "IDEA: 이분탐색으로 최소 인덱스를 찾고, 이후로 최대 인덱스를 찾자\n",
    "\n",
    "이분탐색을 두 번 수행한다. 첫 째는 타겟이 처음 나오는 곳을 둘 째는 마지막으로 나오는 곳을 찾는다.\n",
    "    \n",
    "# 첫 째 탐색\n",
    "if value < target:\n",
    "    min_idx = idx + 1\n",
    "else:\n",
    "    max_idx = idx\n",
    "    temp = idx\n",
    "\n",
    "# 둘 째 탐색\n",
    "if value <= target:\n",
    "    min_idx = idx + 1\n",
    "    temp = idx\n",
    "else:\n",
    "    max_idx = idx\n",
    "    \n",
    "search_min으로 조건문을 변경해주자\n",
    "'''\n",
    "class Solution:\n",
    "    def searchRange(self, nums, target):\n",
    "        if not nums:  # 기저: 빈 리스트\n",
    "            return [-1, -1]\n",
    "        \n",
    "        min_idx, max_idx = 0, len(nums)\n",
    "        result = []\n",
    "        search_min = True  # 최소 인덱스 찾기\n",
    "        \n",
    "        for _ in range(2):\n",
    "            temp = 0\n",
    "            \n",
    "            while min_idx < max_idx:\n",
    "                idx = (min_idx + max_idx) // 2\n",
    "                value = nums[idx]\n",
    "\n",
    "                if search_min:\n",
    "                    flag = value < target\n",
    "                else:\n",
    "                    flag = value <= target\n",
    "\n",
    "                if flag:\n",
    "                    min_idx = idx + 1\n",
    "                    temp = idx if not search_min else temp\n",
    "                else:\n",
    "                    max_idx = idx\n",
    "                    temp = idx if search_min else temp\n",
    "                    \n",
    "            if nums[temp] != target:  # nums에 타겟이 없음\n",
    "                return [-1, -1]\n",
    "            \n",
    "            result.append(temp)\n",
    "            min_idx, max_idx = temp, len(nums)  # 최소 idx부터 시작해서 끝까지 탐색\n",
    "            search_min = False  # 최대 인덱스 찾기로 변경\n",
    "\n",
    "                \n",
    "        return result"
   ]
  },
  {
   "cell_type": "code",
   "execution_count": 127,
   "metadata": {
    "ExecuteTime": {
     "end_time": "2020-10-13T08:05:58.455098Z",
     "start_time": "2020-10-13T08:05:58.434700Z"
    }
   },
   "outputs": [
    {
     "data": {
      "text/plain": [
       "[1, 1]"
      ]
     },
     "execution_count": 127,
     "metadata": {},
     "output_type": "execute_result"
    }
   ],
   "source": [
    "nums = [5,8,8,89,9,9,9,9,9,9,9,9,9,9,9,9,9,9,9,9,10]\n",
    "target = 8\n",
    "nums = [1,4]\n",
    "target = 4\n",
    "\n",
    "s = Solution()\n",
    "s.searchRange(nums, target)"
   ]
  }
 ],
 "metadata": {
  "kernelspec": {
   "display_name": "Python 3",
   "language": "python",
   "name": "python3"
  },
  "language_info": {
   "codemirror_mode": {
    "name": "ipython",
    "version": 3
   },
   "file_extension": ".py",
   "mimetype": "text/x-python",
   "name": "python",
   "nbconvert_exporter": "python",
   "pygments_lexer": "ipython3",
   "version": "3.6.10"
  },
  "varInspector": {
   "cols": {
    "lenName": 16,
    "lenType": 16,
    "lenVar": 40
   },
   "kernels_config": {
    "python": {
     "delete_cmd_postfix": "",
     "delete_cmd_prefix": "del ",
     "library": "var_list.py",
     "varRefreshCmd": "print(var_dic_list())"
    },
    "r": {
     "delete_cmd_postfix": ") ",
     "delete_cmd_prefix": "rm(",
     "library": "var_list.r",
     "varRefreshCmd": "cat(var_dic_list()) "
    }
   },
   "types_to_exclude": [
    "module",
    "function",
    "builtin_function_or_method",
    "instance",
    "_Feature"
   ],
   "window_display": false
  }
 },
 "nbformat": 4,
 "nbformat_minor": 4
}
