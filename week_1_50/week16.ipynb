{
 "cells": [
  {
   "cell_type": "markdown",
   "metadata": {},
   "source": [
    "# Out of boundary paths\n",
    "<div><p>There is an <b>m</b> by <b>n</b> grid with a ball. Given the start coordinate <b>(i,j)</b> of the ball, you can move the ball to <b>adjacent</b> cell or cross the grid boundary in four directions (up, down, left, right). However, you can <b>at most</b> move <b>N</b> times. Find out the number of paths to move the ball out of grid boundary. The answer may be very large, return it after mod 10<sup>9</sup> + 7.</p>\n",
    "\n",
    "<p>&nbsp;</p>\n",
    "\n",
    "<p><b>Example 1:</b></p>\n",
    "\n",
    "<pre><b>Input: </b>m = 2, n = 2, N = 2, i = 0, j = 0\n",
    "<b>Output:</b> 6\n",
    "<b>Explanation:</b>\n",
    "<img src=\"https://assets.leetcode.com/uploads/2018/10/13/out_of_boundary_paths_1.png\" style=\"width: 100%; max-width: 400px\">\n",
    "</pre>\n",
    "\n",
    "<p><b>Example 2:</b></p>\n",
    "\n",
    "<pre><b>Input: </b>m = 1, n = 3, N = 3, i = 0, j = 1\n",
    "<b>Output:</b> 12\n",
    "<b>Explanation:</b>\n",
    "<img src=\"https://assets.leetcode.com/uploads/2018/10/12/out_of_boundary_paths_2.png\" style=\"width: 100%; max-width: 400px\">\n",
    "</pre>\n",
    "\n",
    "<p>&nbsp;</p>\n",
    "\n",
    "<p><b>Note:</b></p>\n",
    "\n",
    "<ol>\n",
    "\t<li>Once you move the ball out of boundary, you cannot move it back.</li>\n",
    "\t<li>The length and height of the grid is in range [1,50].</li>\n",
    "\t<li>N is in range [0,50].</li>\n",
    "</ol>\n",
    "</div>"
   ]
  },
  {
   "cell_type": "code",
   "execution_count": null,
   "metadata": {},
   "outputs": [],
   "source": [
    "'''\n",
    "DP풀이\n",
    "현재 x,y 좌표의 t스텝에 있다고 하자\n",
    "\n",
    "# 조건문 3개\n",
    "1. 캐시에 3가지 조건이 일치하는 메모리가있으면 그걸로 리턴\n",
    "2. 이동 종료(t=0)시 boundary밖으로 벗어나있으면 1리턴\n",
    "3. 아직 t=0은 아닌데 밖으로 벗어나면 1리턴\n",
    "\n",
    "다음 스텝은 4방향 각각 재귀를 돌리면서 캐쉬에 저장\n",
    "'''\n",
    "class Solution:\n",
    "    def findPaths(self, m: int, n: int, N: int, i: int, j: int) -> int:\n",
    "        cache = {}\n",
    "        def dp(x, y, t):\n",
    "            if (x, y, t) in cache:\n",
    "                return cache[x, y, t]\n",
    "            if t == 0: \n",
    "                return 0 if (0 <= x < m and 0 <= y < n) else 1\n",
    "\n",
    "            if not (0 <= x < m and 0 <= y < n):\n",
    "                return 1\n",
    "\n",
    "            ret = dp(x - 1, y, t - 1) + dp(x + 1, y, t - 1) + dp(x, y - 1, t - 1) + dp(x, y + 1, t - 1)\n",
    "            cache[x, y, t] = ret\n",
    "            \n",
    "            return ret\n",
    "        \n",
    "        return dp(i, j, N) % (10 ** 9 + 7)"
   ]
  },
  {
   "cell_type": "markdown",
   "metadata": {
    "ExecuteTime": {
     "end_time": "2020-05-11T01:32:26.573088Z",
     "start_time": "2020-05-11T01:32:26.547054Z"
    }
   },
   "source": [
    "# Maximum square\n",
    "\n",
    "<div><p>Given a 2D binary matrix filled with 0's and 1's, find the largest square containing only 1's and return its area.</p>\n",
    "\n",
    "<p><strong>Example:</strong></p>\n",
    "\n",
    "<pre><strong>Input: \n",
    "</strong>\n",
    "1 0 1 0 0\n",
    "1 0 <font color=\"red\">1</font> <font color=\"red\">1</font> 1\n",
    "1 1 <font color=\"red\">1</font> <font color=\"red\">1</font> 1\n",
    "1 0 0 1 0\n",
    "\n",
    "<strong>Output: </strong>4\n",
    "</pre></div>"
   ]
  },
  {
   "cell_type": "code",
   "execution_count": 1,
   "metadata": {
    "ExecuteTime": {
     "end_time": "2020-05-17T02:50:33.151761Z",
     "start_time": "2020-05-17T02:50:33.123529Z"
    }
   },
   "outputs": [],
   "source": [
    "'''\n",
    "Intuition : 정사각형인지 아닌지 확인하려고 반복계산할 필요없이\n",
    "            그 자리가 정사각형이라고 판명났었는지, 그리고 그 크기는 얼마나\n",
    "            되는지 기억하고 있어야 한다.\n",
    "            \n",
    "Idea : 캐쉬의 현재 i,j의 값 n은 matrix에서 1로 채워진 정사각형 크기\n",
    "\n",
    "* 행렬[i][j]가 1이라면 캐쉬 대각선 아래[i+1][j+1]에 1 + 나머지 칸 3개를 min한다\n",
    "  의미적으로는 4개 모두 1이 되는지 체크해서 4개 모두 1이면 1+1 = 2\n",
    "  즉 정사각형 크기 2라는 것.\n",
    "'''\n",
    "\n",
    "\n",
    "class Solution(object):\n",
    "    def maximalSquare(self, matrix):\n",
    "        m = len(matrix)\n",
    "        n = len(matrix[0]) if m else 0\n",
    "        result = 0\n",
    "\n",
    "        cache = [[0] * (n+1) for _ in range(m+1)]\n",
    "\n",
    "        for i in range(0, m):\n",
    "            for j in range(0, n):\n",
    "                if matrix[i][j] == '1':\n",
    "                    cache[i+1][j+1] = 1 + \\\n",
    "                        min(cache[i][j+1], cache[i+1][j], cache[i][j])\n",
    "                    result = max(result, cache[i+1][j+1])\n",
    "        return result**2"
   ]
  },
  {
   "cell_type": "markdown",
   "metadata": {},
   "source": [
    "# Restore IP address\n",
    "\n",
    "<div><p>Given a string containing only digits, restore it by returning all possible valid IP address combinations.</p>\n",
    "\n",
    "<p>A valid IP address consists of exactly four integers&nbsp;(each integer is between 0 and 255) separated by single points.</p>\n",
    "\n",
    "<p><strong>Example:</strong></p>\n",
    "\n",
    "<pre><strong>Input:</strong> \"25525511135\"\n",
    "<strong>Output:</strong> <code>[\"255.255.11.135\", \"255.255.111.35\"]\n",
    "</code></pre>\n",
    "</div>"
   ]
  },
  {
   "cell_type": "code",
   "execution_count": 11,
   "metadata": {
    "ExecuteTime": {
     "end_time": "2020-05-16T17:58:48.812369Z",
     "start_time": "2020-05-16T17:58:48.794418Z"
    }
   },
   "outputs": [
    {
     "data": {
      "text/plain": [
       "[1]"
      ]
     },
     "execution_count": 11,
     "metadata": {},
     "output_type": "execute_result"
    }
   ],
   "source": [
    "'''\n",
    "깊이 우선 탐색으로 모든 가능한 경우의 수를 찾자\n",
    "\n",
    "* 조건문\n",
    "1. s가 너무길어서 3자리씩 4개의 정수를 만들 수 없나? -> return\n",
    "2. 정수 4개로 다 나눴음 -> 결과 리턴\n",
    "3. 아직 나눌게 남아서 남은 s길이만큼 dfs반복\n",
    "\n",
    "'''\n",
    "import re\n",
    "class Solution(object):\n",
    "    def restoreIpAddresses(self, s):\n",
    "        result = []\n",
    "        self.dfs(result, s, 4, []) # return list, string, integer num, temp\n",
    "        return ['.'.join(x) for x in result]\n",
    "        \n",
    "    def dfs(self, result, s, k, temp):\n",
    "        if len(s) > k*3: # s가 너무 길다\n",
    "            return\n",
    "        if not k: # 정수 4개로 다 나눴음\n",
    "            result.append(temp[:])\n",
    "        else:\n",
    "            for i in range(min(3, len(s)-k+1)): # 남은 string 길이만큼 돌자\n",
    "                if re.match('(25[0-5]|2[0-4]\\d|1\\d{2}|[1-9]\\d|\\d)$',s[:i+1]):\n",
    "                    self.dfs(result, s[i+1:], k-1, temp+[s[:i+1]])\n",
    "                    "
   ]
  }
 ],
 "metadata": {
  "kernelspec": {
   "display_name": "Python 3",
   "language": "python",
   "name": "python3"
  },
  "language_info": {
   "codemirror_mode": {
    "name": "ipython",
    "version": 3
   },
   "file_extension": ".py",
   "mimetype": "text/x-python",
   "name": "python",
   "nbconvert_exporter": "python",
   "pygments_lexer": "ipython3",
   "version": "3.6.10"
  },
  "varInspector": {
   "cols": {
    "lenName": 16,
    "lenType": 16,
    "lenVar": 40
   },
   "kernels_config": {
    "python": {
     "delete_cmd_postfix": "",
     "delete_cmd_prefix": "del ",
     "library": "var_list.py",
     "varRefreshCmd": "print(var_dic_list())"
    },
    "r": {
     "delete_cmd_postfix": ") ",
     "delete_cmd_prefix": "rm(",
     "library": "var_list.r",
     "varRefreshCmd": "cat(var_dic_list()) "
    }
   },
   "types_to_exclude": [
    "module",
    "function",
    "builtin_function_or_method",
    "instance",
    "_Feature"
   ],
   "window_display": false
  }
 },
 "nbformat": 4,
 "nbformat_minor": 4
}
