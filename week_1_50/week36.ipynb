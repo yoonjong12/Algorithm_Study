{
 "cells": [
  {
   "cell_type": "markdown",
   "metadata": {},
   "source": [
    "# Maximum Subarray\n",
    "<div class=\"content__u3I1 question-content__JfgR\"><div><p>Given an integer array <code>nums</code>, find the contiguous subarray&nbsp;(containing at least one number) which has the largest sum and return <em>its sum</em>.</p>\n",
    "\n",
    "<p><strong>Follow up:</strong>&nbsp;If you have figured out the <code>O(n)</code> solution, try coding another solution using the <strong>divide and conquer</strong> approach, which is more subtle.</p>\n",
    "\n",
    "<p>&nbsp;</p>\n",
    "<p><strong>Example 1:</strong></p>\n",
    "\n",
    "<pre><strong>Input:</strong> nums = [-2,1,-3,4,-1,2,1,-5,4]\n",
    "<strong>Output:</strong> 6\n",
    "<strong>Explanation:</strong> [4,-1,2,1] has the largest sum = 6.\n",
    "</pre>\n",
    "\n",
    "<p><strong>Example 2:</strong></p>\n",
    "\n",
    "<pre><strong>Input:</strong> nums = [1]\n",
    "<strong>Output:</strong> 1\n",
    "</pre>\n",
    "\n",
    "<p><strong>Example 3:</strong></p>\n",
    "\n",
    "<pre><strong>Input:</strong> nums = [0]\n",
    "<strong>Output:</strong> 0\n",
    "</pre>\n",
    "\n",
    "<p><strong>Example 4:</strong></p>\n",
    "\n",
    "<pre><strong>Input:</strong> nums = [-1]\n",
    "<strong>Output:</strong> -1\n",
    "</pre>\n",
    "\n",
    "<p><strong>Example 5:</strong></p>\n",
    "\n",
    "<pre><strong>Input:</strong> nums = [-2147483647]\n",
    "<strong>Output:</strong> -2147483647\n",
    "</pre>\n",
    "\n",
    "<p>&nbsp;</p>\n",
    "<p><strong>Constraints:</strong></p>\n",
    "\n",
    "<ul>\n",
    "\t<li><code>1 &lt;= nums.length &lt;= 2 * 10<sup>4</sup></code></li>\n",
    "\t<li><code>-2<sup>31</sup> &lt;= nums[i] &lt;= 2<sup>31</sup> - 1</code></li>\n",
    "</ul>\n",
    "</div></div>"
   ]
  },
  {
   "cell_type": "markdown",
   "metadata": {},
   "source": [
    "재귀식은 멀까\n",
    "* MAX[i] = max(A[i], MAX[i-1] + A[i])\n"
   ]
  },
  {
   "cell_type": "code",
   "execution_count": 17,
   "metadata": {
    "ExecuteTime": {
     "end_time": "2020-11-17T08:50:07.601461Z",
     "start_time": "2020-11-17T08:50:07.567453Z"
    }
   },
   "outputs": [
    {
     "data": {
      "text/plain": [
       "-1"
      ]
     },
     "execution_count": 17,
     "metadata": {},
     "output_type": "execute_result"
    }
   ],
   "source": [
    "nums = [-2,1,-3,4,-1,2,1,-5,4]\n",
    "# nums = [1,-2,3,5,-4,2,5]\n",
    "nums = [-1, -2]\n",
    "\n",
    "\n",
    "def solution(nums):\n",
    "    if len(nums) == 1:\n",
    "        return nums[0]\n",
    "    \n",
    "    cache = [0] * len(nums)\n",
    "    cache[0] = nums[0]\n",
    "    \n",
    "    for idx in range(1, len(nums)):\n",
    "        cur_val = nums[idx]\n",
    "        max_val = max(cur_val, cache[idx-1] + cur_val)\n",
    "        cache[idx] = max_val\n",
    "\n",
    "    return max(cache)\n",
    "\n",
    "solution(nums)"
   ]
  },
  {
   "cell_type": "markdown",
   "metadata": {},
   "source": [
    "# LIS\n",
    "\n",
    "#### 문제\n",
    "어떤 정수 수열에서 0개 이상의 숫자를 지우면 이 수열의 부분 수열 (subsequence) 를 얻을 수 있다. 예를 들어 10 7 4 9 의 부분 수열에는 7 4 9, 10 4, 10 9 등이 있다. 단, 10 4 7 은 원래 수열의 순서와 다르므로 10 7 4 9 의 부분 수열이 아니다.\n",
    "\n",
    "어떤 부분 수열이 순증가할 때 이 부분 수열을 증가 부분 수열 (increasing subsequence) 라고 한다. 주어진 수열의 증가 부분 수열 중 가장 긴 것의 길이를 계산하는 프로그램을 작성하라.\n",
    "\n",
    "어떤 수열의 각 수가 이전의 수보다 클 때, 이 수열을 순증가 한다고 한다.\n",
    "\n",
    "#### 입력\n",
    "입력의 첫 줄에는 테스트 케이스의 수 C (<= 50) 가 주어진다. 각 테스트 케이스의 첫 줄에는 수열에 포함된 원소의 수 N (<= 500) 이 주어진다. 그 다음 줄에 수열이 N개의 정수가 주어진다. 각 정수는 1 이상 100,000 이하의 자연수이다.\n",
    "\n",
    "#### 출력\n",
    "각 테스트케이스마다 한 줄씩, 주어진 수열의 가장 긴 증가 부분 수열의 길이를 출력한다.\n",
    "\n",
    "#### 예제 입력\n",
    "```\n",
    "3\n",
    "4\n",
    "1 2 3 4\n",
    "8\n",
    "5 4 3 2 1 6 7 8 \n",
    "8\n",
    "5 6 7 8 1 2 3 4\n",
    "```\n",
    "\n",
    "#### 예제 출력\n",
    "```\n",
    "4\n",
    "4\n",
    "4\n",
    "```"
   ]
  },
  {
   "cell_type": "code",
   "execution_count": 1,
   "metadata": {
    "ExecuteTime": {
     "end_time": "2020-11-29T00:55:39.695062Z",
     "start_time": "2020-11-29T00:55:39.601070Z"
    }
   },
   "outputs": [
    {
     "name": "stdout",
     "output_type": "stream",
     "text": [
      "[1, 5, 2, 10, 3, 15, 4, 20, 6, 7, 8]\n",
      "compare 0 vs 1\n",
      "[0, 1]\n",
      "compare 1 vs 5\n",
      "[0, 1, 5]\n",
      "compare 5 vs 2\n",
      "new LIS [0, 1, 2]\n",
      "compare 2 vs 10\n",
      "[0, 1, 2, 10]\n",
      "compare 10 vs 3\n",
      "new LIS [0, 1, 2, 3]\n",
      "compare 3 vs 15\n",
      "[0, 1, 2, 3, 15]\n",
      "compare 15 vs 4\n",
      "new LIS [0, 1, 2, 3, 4]\n",
      "compare 4 vs 20\n",
      "[0, 1, 2, 3, 4, 20]\n",
      "compare 20 vs 6\n",
      "new LIS [0, 1, 2, 3, 4, 6]\n",
      "compare 6 vs 7\n",
      "[0, 1, 2, 3, 4, 6, 7]\n",
      "compare 7 vs 8\n",
      "[0, 1, 2, 3, 4, 6, 7, 8]\n",
      "Result 7 [0, 1, 2, 3, 4, 6, 7, 8] \n",
      "\n",
      "[1, 5, 6, 7, 10, 2, 3]\n",
      "compare 0 vs 1\n",
      "[0, 1]\n",
      "compare 1 vs 5\n",
      "[0, 1, 5]\n",
      "compare 5 vs 6\n",
      "[0, 1, 5, 6]\n",
      "compare 6 vs 7\n",
      "[0, 1, 5, 6, 7]\n",
      "compare 7 vs 10\n",
      "[0, 1, 5, 6, 7, 10]\n",
      "compare 10 vs 2\n",
      "new LIS [0, 1, 2, 6, 7, 10]\n",
      "compare 10 vs 3\n",
      "new LIS [0, 1, 2, 3, 7, 10]\n",
      "Result 5 [0, 1, 2, 3, 7, 10] \n",
      "\n",
      "[1, 9, 4]\n",
      "compare 0 vs 1\n",
      "[0, 1]\n",
      "compare 1 vs 9\n",
      "[0, 1, 9]\n",
      "compare 9 vs 4\n",
      "new LIS [0, 1, 4]\n",
      "Result 2 [0, 1, 4] \n",
      "\n"
     ]
    }
   ],
   "source": [
    "'''\n",
    "LIS\n",
    "\n",
    "1. array의 첫 원소를 LIS에 삽입\n",
    "2. array를 순회하며 LIS의 마지막 수를 lower bound 이분탐색\n",
    "    2-1. array값이 마지막 수보다 크면 LIS에 삽입\n",
    "    2-2. 작거나 같으면 LIS 중 array값보다 크거나 같은 수로 바꿈\n",
    "    \n",
    "* lower bound: 같거나 큰 값이 처음 등장하는 위치\n",
    "    - 조건: A[mid-1] < k and A[mid] >= k 만족하는 최소 mid\n",
    "'''\n",
    "def test_case():\n",
    "    yield '3'\n",
    "    yield '11'\n",
    "    yield '1 5 2 10 3 15 4 20 6 7 8'\n",
    "    yield '7'\n",
    "    yield '1 5 6 7 10 2 3'\n",
    "    yield '3'\n",
    "    yield '1 9 4'    \n",
    "def input():\n",
    "    return next(G)\n",
    "G = test_case()\n",
    "\n",
    "import sys\n",
    "# input = sys.stdin.readline\n",
    "\n",
    "def bi_search(key, left, right):\n",
    "    while(left < right):\n",
    "        mid = (left + right) // 2\n",
    "\n",
    "        if LIS[mid] < key:  # mid가 탐색 값보다 작음\n",
    "            left = mid + 1  # mid보다 오른쪽\n",
    "        else:  \n",
    "            right = mid  # mid포함 왼쪽\n",
    "    \n",
    "    return right\n",
    "                 \n",
    "for _ in range(int(input())):\n",
    "    N = int(input())\n",
    "    sequence = list(map(int, input().split()))\n",
    "    \n",
    "    LIS = [0]\n",
    "    pair = [0] * N\n",
    "    length = 0\n",
    "    \n",
    "    print(sequence)\n",
    "    for idx, num in enumerate(sequence):\n",
    "        print('compare', LIS[-1], 'vs', num)\n",
    "        if num > LIS[-1]:\n",
    "            LIS.append(num)\n",
    "            length += 1\n",
    "            pair[idx] = length\n",
    "            print(LIS)\n",
    "            continue\n",
    " \n",
    "        left = 0\n",
    "        right = length\n",
    "        \n",
    "        replace_idx = bi_search(num, left, right)\n",
    "        LIS[replace_idx] = num\n",
    "        pair[idx] = replace_idx\n",
    "        print('new LIS', LIS)\n",
    "    \n",
    "    print('Result', length, LIS, '\\n')"
   ]
  },
  {
   "cell_type": "markdown",
   "metadata": {},
   "source": [
    "# Quantization\n",
    "\n",
    "#### 문제\n",
    "Quantization (양자화) 과정은, 더 넓은 범위를 갖는 값들을 작은 범위를 갖는 값들로 근사해 표현함으로써 자료를 손실 압축하는 과정을 말한다. 예를 들어 16비트 JPG 파일을 4컬러 GIF 파일로 변환하는 것은 RGB 색 공간의 색들을 4컬러 중의 하나로 양자화하는 것이고, 키가 161, 164, 170, 178 인 학생 넷을 '160대 둘, 170대 둘' 이라고 축약해 표현하는 것 또한 양자화라고 할 수 있다.\n",
    "\n",
    "1000 이하의 자연수들로 구성된 수열을 최대 S종류 의 값만을 사용하도록 양자화하고 싶다. 이 때 양자화된 숫자는 원래 수열에 없는 숫자일 수도 있다. 양자화를 하는 방법은 여러 가지가 있다. 수열 1 2 3 4 5 6 7 8 9 10 을 2개의 숫자만을 써서 표현하려면, 3 3 3 3 3 7 7 7 7 7 과 같이 할 수도 있고, 1 1 1 1 1 10 10 10 10 10 으로 할 수도 있다. 우리는 이 중, 각 숫자별 오차 제곱의 합을 최소화하는 양자화 결과를 알고 싶다.\n",
    "\n",
    "예를 들어, 수열 1 2 3 4 5 를 1 1 3 3 3 으로 양자화하면 오차 제곱의 합은 0+1+0+1+4=6 이 되고, 2 2 2 4 4 로 양자화하면 오차 제곱의 합은 1+0+1+0+1=3 이 된다.\n",
    "\n",
    "수열과 S 가 주어질 때, 가능한 오차 제곱의 합의 최소값을 구하는 프로그램을 작성하시오.\n",
    "\n",
    "#### 입력\n",
    "입력의 첫 줄에는 테스트 케이스의 수 C (1 <= C <= 50) 가 주어진다. 각 테스트 케이스의 첫 줄에는 수열의 길이 N (1 <= N <= 100), 사용할 숫자의 수 S (1 <= S <= 10) 이 주어진다. 그 다음 줄에 N개의 정수로 수열의 숫자들이 주어진다. 수열의 모든 수는 1000 이하의 자연수이다.\n",
    "\n",
    "#### 출력\n",
    "각 테스트 케이스마다, 주어진 수열을 최대 S 개의 수로 양자화할 때 오차 제곱의 합의 최소값을 출력한다.\n",
    "\n",
    "#### 예제 입력\n",
    "```\n",
    "2\n",
    "10 3\n",
    "3 3 3 1 2  3 2 2 2 1\n",
    "9 3\n",
    "1 744 755 4 897 902 890 6 777\n",
    "```\n",
    "#### 예제 출력\n",
    "```\n",
    "0\n",
    "651\n",
    "```"
   ]
  },
  {
   "cell_type": "markdown",
   "metadata": {},
   "source": [
    "재귀식이 멀까\n",
    "\n",
    "    \n",
    "  \n",
    "* dp(start_idx, block_num) = min(MSE(start, start+i-1) + dp(start+i, block_num-1)) \n",
    "\n",
    "* MSE = (high-low+1)*mean^2 - 2*(sum(arr[i])*mean) + sum(arr[i]^2))\n",
    "\n"
   ]
  },
  {
   "cell_type": "code",
   "execution_count": 89,
   "metadata": {
    "ExecuteTime": {
     "end_time": "2020-11-29T01:47:39.380638Z",
     "start_time": "2020-11-29T01:47:39.318953Z"
    }
   },
   "outputs": [
    {
     "name": "stdout",
     "output_type": "stream",
     "text": [
      "-71\n",
      "-71\n"
     ]
    }
   ],
   "source": [
    "def test_case():\n",
    "    yield '2'\n",
    "    yield '10 3'\n",
    "    yield '3 3 3 1 2  3 2 2 2 1'\n",
    "    yield '9 3'\n",
    "    yield '1 744 755 4 897 902 890 6 777'\n",
    "    \n",
    "def input():\n",
    "    return next(G)\n",
    "G = test_case()\n",
    "\n",
    "import sys\n",
    "# input = sys.stdin.readline\n",
    "                 \n",
    "    \n",
    "def mse(start, end):\n",
    "    sub_sum, sub_sqsum = (psum[start-1], psqsum[start-1]) if start != 0 else (0, 0)\n",
    "    sub_sum = psum[end] - sub_sum\n",
    "    sub_sqsum = psqsum[end] - sub_sqsum\n",
    "    m = int(.5 + sub_sum / (end - start + 1))\n",
    "    \n",
    "    return sub_sqsum - (2 * m * sub_sum) + (m**2 * (end - start + 1))\n",
    "    \n",
    "def quantize(start, parts, N):\n",
    "    if start == N:\n",
    "        return 0\n",
    "    if parts == 0: \n",
    "        return sys.maxsize\n",
    "    \n",
    "    ret = cache[start][parts]\n",
    "    if ret != -1:\n",
    "        return ret\n",
    "    \n",
    "    ret = sys.maxsize\n",
    "    size = 1\n",
    "    while start + size <= N:\n",
    "        m = mse(start, start + size - 1)\n",
    "        q = quantize(start + size, parts - 1, N)\n",
    "        ret = min(ret, m + q)\n",
    "        size += 1\n",
    "    cache[start][parts] = ret\n",
    "\n",
    "    return ret\n",
    "\n",
    "def solution():\n",
    "    for _ in range(int(input())):\n",
    "        N, S = map(int, input().split())\n",
    "        A = sorted(list(map(int, input().split())))\n",
    "        cache = [[-1] * 101] * 11\n",
    "        psum = [0] * 101  # A의 부분합 저장\n",
    "        psqsum = [0] * 101  # A의 제곱 부분합 저장\n",
    "\n",
    "        psum[0] = A[0]\n",
    "        psqsum[0] = A[0] ** 2\n",
    "\n",
    "        if N  < 1 or N > 100 or S < 1 or S > 10:\n",
    "            return -1\n",
    "        for i in range(1, N):\n",
    "            psum[i] = psum[i-1] + A[i]\n",
    "            psqsum[i] = psqsum[i-1] + A[i] ** 2\n",
    "\n",
    "        print(quantize(0, S, N))\n",
    "solution()"
   ]
  },
  {
   "cell_type": "code",
   "execution_count": 65,
   "metadata": {
    "ExecuteTime": {
     "end_time": "2020-11-29T01:31:43.053006Z",
     "start_time": "2020-11-29T01:31:43.006742Z"
    }
   },
   "outputs": [
    {
     "ename": "IndexError",
     "evalue": "list index out of range",
     "output_type": "error",
     "traceback": [
      "\u001b[0;31m---------------------------------------------------------------------------\u001b[0m",
      "\u001b[0;31mIndexError\u001b[0m                                Traceback (most recent call last)",
      "\u001b[0;32m<ipython-input-65-5caf8ecfdfc8>\u001b[0m in \u001b[0;36m<module>\u001b[0;34m\u001b[0m\n\u001b[0;32m----> 1\u001b[0;31m \u001b[0mquantize\u001b[0m\u001b[0;34m(\u001b[0m\u001b[0;36m2\u001b[0m\u001b[0;34m,\u001b[0m \u001b[0;36m2\u001b[0m\u001b[0;34m,\u001b[0m \u001b[0;36m10\u001b[0m\u001b[0;34m)\u001b[0m\u001b[0;34m\u001b[0m\u001b[0;34m\u001b[0m\u001b[0m\n\u001b[0m",
      "\u001b[0;32m<ipython-input-64-be99eb0b1d8b>\u001b[0m in \u001b[0;36mquantize\u001b[0;34m(start, parts, N)\u001b[0m\n\u001b[1;32m     35\u001b[0m     \u001b[0;32mfor\u001b[0m \u001b[0msize\u001b[0m \u001b[0;32min\u001b[0m \u001b[0mrange\u001b[0m\u001b[0;34m(\u001b[0m\u001b[0;36m1\u001b[0m\u001b[0;34m,\u001b[0m \u001b[0mN\u001b[0m\u001b[0;34m)\u001b[0m\u001b[0;34m:\u001b[0m\u001b[0;34m\u001b[0m\u001b[0;34m\u001b[0m\u001b[0m\n\u001b[1;32m     36\u001b[0m         \u001b[0mm\u001b[0m \u001b[0;34m=\u001b[0m \u001b[0mmse\u001b[0m\u001b[0;34m(\u001b[0m\u001b[0mstart\u001b[0m\u001b[0;34m,\u001b[0m \u001b[0mstart\u001b[0m \u001b[0;34m+\u001b[0m \u001b[0msize\u001b[0m \u001b[0;34m-\u001b[0m \u001b[0;36m1\u001b[0m\u001b[0;34m)\u001b[0m\u001b[0;34m\u001b[0m\u001b[0;34m\u001b[0m\u001b[0m\n\u001b[0;32m---> 37\u001b[0;31m         \u001b[0mq\u001b[0m \u001b[0;34m=\u001b[0m \u001b[0mquantize\u001b[0m\u001b[0;34m(\u001b[0m\u001b[0mstart\u001b[0m \u001b[0;34m+\u001b[0m \u001b[0msize\u001b[0m\u001b[0;34m,\u001b[0m \u001b[0mparts\u001b[0m \u001b[0;34m-\u001b[0m \u001b[0;36m1\u001b[0m\u001b[0;34m,\u001b[0m \u001b[0mN\u001b[0m\u001b[0;34m)\u001b[0m\u001b[0;34m\u001b[0m\u001b[0;34m\u001b[0m\u001b[0m\n\u001b[0m\u001b[1;32m     38\u001b[0m         \u001b[0;32mif\u001b[0m \u001b[0mq\u001b[0m \u001b[0;32mis\u001b[0m \u001b[0;32mNone\u001b[0m\u001b[0;34m:\u001b[0m\u001b[0;34m\u001b[0m\u001b[0;34m\u001b[0m\u001b[0m\n\u001b[1;32m     39\u001b[0m             \u001b[0mprint\u001b[0m\u001b[0;34m(\u001b[0m\u001b[0mstart\u001b[0m \u001b[0;34m+\u001b[0m \u001b[0msize\u001b[0m\u001b[0;34m,\u001b[0m\u001b[0mparts\u001b[0m\u001b[0;34m,\u001b[0m \u001b[0mN\u001b[0m\u001b[0;34m)\u001b[0m\u001b[0;34m\u001b[0m\u001b[0;34m\u001b[0m\u001b[0m\n",
      "\u001b[0;32m<ipython-input-64-be99eb0b1d8b>\u001b[0m in \u001b[0;36mquantize\u001b[0;34m(start, parts, N)\u001b[0m\n\u001b[1;32m     28\u001b[0m         \u001b[0;32mreturn\u001b[0m \u001b[0msys\u001b[0m\u001b[0;34m.\u001b[0m\u001b[0mmaxsize\u001b[0m\u001b[0;34m\u001b[0m\u001b[0;34m\u001b[0m\u001b[0m\n\u001b[1;32m     29\u001b[0m \u001b[0;34m\u001b[0m\u001b[0m\n\u001b[0;32m---> 30\u001b[0;31m     \u001b[0mret\u001b[0m \u001b[0;34m=\u001b[0m \u001b[0mcache\u001b[0m\u001b[0;34m[\u001b[0m\u001b[0mstart\u001b[0m\u001b[0;34m]\u001b[0m\u001b[0;34m[\u001b[0m\u001b[0mparts\u001b[0m\u001b[0;34m]\u001b[0m\u001b[0;34m\u001b[0m\u001b[0;34m\u001b[0m\u001b[0m\n\u001b[0m\u001b[1;32m     31\u001b[0m     \u001b[0;32mif\u001b[0m \u001b[0mret\u001b[0m \u001b[0;34m!=\u001b[0m \u001b[0;34m-\u001b[0m\u001b[0;36m1\u001b[0m\u001b[0;34m:\u001b[0m\u001b[0;34m\u001b[0m\u001b[0;34m\u001b[0m\u001b[0m\n\u001b[1;32m     32\u001b[0m         \u001b[0;32mreturn\u001b[0m \u001b[0mret\u001b[0m\u001b[0;34m\u001b[0m\u001b[0;34m\u001b[0m\u001b[0m\n",
      "\u001b[0;31mIndexError\u001b[0m: list index out of range"
     ]
    }
   ],
   "source": [
    "quantize(2, 2, 10)"
   ]
  },
  {
   "cell_type": "code",
   "execution_count": 22,
   "metadata": {
    "ExecuteTime": {
     "end_time": "2020-11-29T01:05:58.650665Z",
     "start_time": "2020-11-29T01:05:58.635453Z"
    }
   },
   "outputs": [],
   "source": [
    "A = sorted(A)"
   ]
  },
  {
   "cell_type": "code",
   "execution_count": 24,
   "metadata": {
    "ExecuteTime": {
     "end_time": "2020-11-29T01:06:14.629835Z",
     "start_time": "2020-11-29T01:06:14.611752Z"
    }
   },
   "outputs": [
    {
     "data": {
      "text/plain": [
       "[1, 5, 10, 750, 1499, 1532, 1667, 1787, 1799]"
      ]
     },
     "execution_count": 24,
     "metadata": {},
     "output_type": "execute_result"
    }
   ],
   "source": [
    "[A[i-1] + A[i] if i else A[0] for i in range(len(A))]"
   ]
  }
 ],
 "metadata": {
  "kernelspec": {
   "display_name": "Python 3",
   "language": "python",
   "name": "python3"
  },
  "language_info": {
   "codemirror_mode": {
    "name": "ipython",
    "version": 3
   },
   "file_extension": ".py",
   "mimetype": "text/x-python",
   "name": "python",
   "nbconvert_exporter": "python",
   "pygments_lexer": "ipython3",
   "version": "3.6.10"
  },
  "varInspector": {
   "cols": {
    "lenName": 16,
    "lenType": 16,
    "lenVar": 40
   },
   "kernels_config": {
    "python": {
     "delete_cmd_postfix": "",
     "delete_cmd_prefix": "del ",
     "library": "var_list.py",
     "varRefreshCmd": "print(var_dic_list())"
    },
    "r": {
     "delete_cmd_postfix": ") ",
     "delete_cmd_prefix": "rm(",
     "library": "var_list.r",
     "varRefreshCmd": "cat(var_dic_list()) "
    }
   },
   "types_to_exclude": [
    "module",
    "function",
    "builtin_function_or_method",
    "instance",
    "_Feature"
   ],
   "window_display": false
  }
 },
 "nbformat": 4,
 "nbformat_minor": 4
}
