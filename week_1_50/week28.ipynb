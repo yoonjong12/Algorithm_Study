{
 "cells": [
  {
   "cell_type": "markdown",
   "metadata": {},
   "source": [
    "# 입국심사\n",
    "\n",
    "      <h6 class=\"guide-section-title\">문제 설명</h6>\n",
    "      <div class=\"markdown solarized-dark\"><p>n명이 입국심사를 위해 줄을 서서 기다리고 있습니다. 각 입국심사대에 있는 심사관마다 심사하는데 걸리는 시간은 다릅니다. </p>\n",
    "\n",
    "<p>처음에 모든 심사대는 비어있습니다. 한 심사대에서는 동시에 한 명만 심사를 할 수 있습니다. 가장 앞에 서 있는 사람은 비어 있는 심사대로 가서 심사를 받을 수 있습니다. 하지만 더 빨리 끝나는 심사대가 있으면 기다렸다가 그곳으로 가서 심사를 받을 수도 있습니다.</p>\n",
    "\n",
    "<p>모든 사람이 심사를 받는데 걸리는 시간을 최소로 하고 싶습니다.</p>\n",
    "\n",
    "<p>입국심사를 기다리는 사람 수 n, 각 심사관이 한 명을 심사하는데 걸리는 시간이 담긴 배열 times가 매개변수로 주어질 때, 모든 사람이 심사를 받는데 걸리는 시간의 최솟값을 return 하도록 solution 함수를 작성해주세요.</p>\n",
    "\n",
    "<h5>제한사항</h5>\n",
    "\n",
    "<ul>\n",
    "<li>입국심사를 기다리는 사람은 1명 이상 1,000,000,000명 이하입니다.</li>\n",
    "<li>각 심사관이 한 명을 심사하는데 걸리는 시간은 1분 이상 1,000,000,000분 이하입니다.</li>\n",
    "<li>심사관은 1명 이상 100,000명 이하입니다.</li>\n",
    "</ul>\n",
    "\n",
    "<h5>입출력 예</h5>\n",
    "<table class=\"table\">\n",
    "        <thead><tr>\n",
    "<th>n</th>\n",
    "<th>times</th>\n",
    "<th>return</th>\n",
    "</tr>\n",
    "</thead>\n",
    "        <tbody><tr>\n",
    "<td>6</td>\n",
    "<td>[7, 10]</td>\n",
    "<td>28</td>\n",
    "</tr>\n",
    "</tbody>\n",
    "      </table>\n",
    "<h5>입출력 예 설명</h5>\n",
    "\n",
    "<p>가장 첫 두 사람은 바로 심사를 받으러 갑니다. </p>\n",
    "\n",
    "<p>7분이 되었을 때, 첫 번째 심사대가 비고 3번째 사람이 심사를 받습니다. </p>\n",
    "\n",
    "<p>10분이 되었을 때, 두 번째 심사대가 비고 4번째 사람이 심사를 받습니다.</p>\n",
    "\n",
    "<p>14분이 되었을 때, 첫 번째 심사대가 비고 5번째 사람이 심사를 받습니다.</p>\n",
    "\n",
    "<p>20분이 되었을 때, 두 번째 심사대가 비지만 6번째 사람이 그곳에서 심사를 받지 않고 1분을 더 기다린 후에 첫 번째 심사대에서 심사를 받으면 28분에 모든 사람의 심사가 끝납니다.</p>\n",
    "\n",
    "<p><a href=\"http://hsin.hr/coci/archive/2012_2013/contest3_tasks.pdf\" target=\"_blank\" rel=\"noopener\">출처</a></p>\n",
    "\n",
    "<p>※ 공지 - 2019년 9월 4일 문제에 새로운 테스트 케이스를 추가하였습니다. 도움을 주신 weaver9651 님께 감사드립니다.</p>\n",
    "</div>\n",
    "    </div>\n",
    "\n",
    "  </div>"
   ]
  },
  {
   "cell_type": "code",
   "execution_count": null,
   "metadata": {},
   "outputs": [],
   "source": [
    "def solution(budgets, M):\n",
    "    budgets.sort()\n",
    "    min_bud = 0\n",
    "    max_bud = max(budgets)\n",
    "    result = 0\n",
    "    \n",
    "    while min_bud <= max_bud:        \n",
    "        mid_bud = (min_bud+max_bud) // 2\n",
    "        budget_sum = sum([i if i <= mid_bud else mid_bud for i in budgets])\n",
    "\n",
    "        if budget_sum <= M:\n",
    "            min_bud = mid_bud + 1\n",
    "            result = mid_bud # 이 때만 mid_bud 업데이트 해줌 else에서는 다시 mid_bud가 무조건 업데이트 되어야 함\n",
    "        else:\n",
    "            max_bud = mid_bud -1 \n",
    "        \n",
    "        print(budget_sum, M, 'mid', mid_bud, result, min_bud, max_bud)\n",
    "    \n",
    "    return result\n",
    "\n",
    "budgets = [120, 110, 140, 150]\n",
    "M = 485\n",
    "solution(budgets, M)"
   ]
  },
  {
   "cell_type": "code",
   "execution_count": 34,
   "metadata": {
    "ExecuteTime": {
     "end_time": "2020-09-20T02:22:39.593329Z",
     "start_time": "2020-09-20T02:22:39.563616Z"
    }
   },
   "outputs": [
    {
     "data": {
      "text/plain": [
       "28"
      ]
     },
     "execution_count": 34,
     "metadata": {},
     "output_type": "execute_result"
    }
   ],
   "source": [
    "def solution(n, times):\n",
    "    result = 0\n",
    "    min_t = 1\n",
    "    max_t = max(times)\n",
    "    max_t *= n\n",
    "    \n",
    "    while min_t <= max_t:\n",
    "        mid_t = (min_t+max_t) // 2\n",
    "        capa = sum([mid_t // time for time in times])\n",
    "            \n",
    "        if capa < n:\n",
    "            min_t = mid_t + 1\n",
    "        else: \n",
    "            max_t = mid_t - 1\n",
    "            result = mid_t\n",
    "        \n",
    "    return result\n",
    "\n",
    "n = 6\n",
    "times = [7, 10]\n",
    "solution(n, times)"
   ]
  },
  {
   "cell_type": "markdown",
   "metadata": {
    "ExecuteTime": {
     "end_time": "2020-09-16T06:37:28.530147Z",
     "start_time": "2020-09-16T06:37:28.521911Z"
    }
   },
   "source": [
    "# 소풍\n",
    "\n",
    "<section class=\"problem_statement\">\n",
    "\t\t<h4>문제</h4>\n",
    "\t\t<p class=\"kor\">\n",
    "\t\t\t</p><p>안드로메다 유치원 익스프레스반에서는 다음 주에 율동공원으로 소풍을 갑니다. 원석 선생님은 소풍 때 학생들을 두 명씩 짝을 지어 행동하게 하려고 합니다. 그런데 서로 친구가 아닌 학생들끼리 짝을 지어 주면 서로 싸우거나 같이 돌아다니지 않기 때문에, 항상 서로 친구인 학생들끼리만 짝을 지어 줘야 합니다.</p>\n",
    "\n",
    "<p>각 학생들의 쌍에 대해 이들이 서로 친구인지 여부가 주어질 때, 학생들을 짝지어줄 수 있는 방법의 수를 계산하는 프로그램을 작성하세요. 짝이 되는 학생들이 일부만 다르더라도 다른 방법이라고 봅니다. 예를 들어 다음 두 가지 방법은 서로 다른 방법입니다.</p>\n",
    "\n",
    "<ul>\n",
    "<li>(태연,제시카) (써니,티파니) (효연,유리)</li>\n",
    "<li>(태연,제시카) (써니,유리) (효연,티파니)</li>\n",
    "</ul>\n",
    "\n",
    "입력\n",
    "입력의 첫 줄에는 테스트 케이스의 수 C (C <= 50) 가 주어집니다. 각 테스트 케이스의 첫 줄에는 학생의 수 n (2 <= n <= 10) 과 친구 쌍의 수 m (0 <= m <= n*(n-1)/2) 이 주어집니다. 그 다음 줄에 m 개의 정수 쌍으로 서로 친구인 두 학생의 번호가 주어집니다. 번호는 모두 0 부터 n-1 사이의 정수이고, 같은 쌍은 입력에 두 번 주어지지 않습니다. 학생들의 수는 짝수입니다.\n",
    "\n",
    "출력\n",
    "각 테스트 케이스마다 한 줄에 모든 학생을 친구끼리만 짝지어줄 수 있는 방법의 수를 출력합니다.\n",
    "\n",
    "예제 입력\n",
    "```\n",
    "3 \n",
    "2 1 \n",
    "0 1 \n",
    "4 6 \n",
    "0 1 1 2 2 3 3 0 0 2 1 3 \n",
    "6 10 \n",
    "0 1 0 2 1 2 1 3 1 4 2 3 2 4 3 4 3 5 4 5\n",
    "```                                                                                                       \n",
    "예제 출력\n",
    "```\n",
    "1\n",
    "3\n",
    "4\n",
    "'```"
   ]
  },
  {
   "cell_type": "code",
   "execution_count": 26,
   "metadata": {
    "ExecuteTime": {
     "end_time": "2020-09-19T22:36:33.555554Z",
     "start_time": "2020-09-19T22:36:33.511476Z"
    }
   },
   "outputs": [
    {
     "name": "stdout",
     "output_type": "stream",
     "text": [
      "defaultdict(<class 'list'>, {0: [1]})\n",
      "1\n",
      "defaultdict(<class 'list'>, {0: [1, 3, 2], 1: [2, 3], 2: [3]})\n",
      "3\n",
      "defaultdict(<class 'list'>, {0: [1, 2], 1: [2, 3, 4], 2: [3, 4], 3: [4, 5], 4: [5]})\n",
      "4\n"
     ]
    }
   ],
   "source": [
    "'''\n",
    "IDEA: 짝을 만들면 그 짝을 제외한 나머지 아이들로 짝을 찾자\n",
    "짝: 기준이 되는 출발 노드\n",
    "꿍: 출발 노드 짝과 연결된 노드\n",
    "\n",
    "1. 짝꿍 인접행렬을 만든다 ( {짝: [꿍이 될 수 있는 모든 노드]} 형태)\n",
    "    1-1. 입력이 2개씩 들어오므로 2씩 증가하는 인덱싱으로 짝꿍을 뽑아온다\n",
    "    1-2. 작은 친구가 앞으로 오도록 정렬\n",
    "2. 매 깊이탐색 함수의 재귀마다 visited에서 2개씩 소거하면서 조합을 탐색한다\n",
    "    2-1. 모든 짝꿍이 완성되면 1리턴\n",
    "    2-2. 남은 사람 중 제일 앞에있는 짝을 소거\n",
    "    2-3. 소건된 짝의 꿍들을 순회하면서 각 꿍을 소거하고 dfs함수 재귀\n",
    "    2-4. 각 친구들이 순회가 끝나면 다시 소거를 취소\n",
    "\n",
    "'''\n",
    "\n",
    "def test_data():\n",
    "    yield '3' \n",
    "    yield '2 1' \n",
    "    yield '0 1' \n",
    "    yield '4 6' \n",
    "    yield '0 1 1 2 2 3 3 0 0 2 1 3' \n",
    "    yield '6 10' \n",
    "    yield '0 1 0 2 1 2 1 3 1 4 2 3 2 4 3 4 3 5 4 5'\n",
    "\n",
    "def input():\n",
    "    return next(G)\n",
    "G = test_data()\n",
    "\n",
    "import sys\n",
    "from collections import defaultdict\n",
    "# input = sys.stdin.readline\n",
    "\n",
    "\n",
    "def dfs(visited):\n",
    "    if all(visited):\n",
    "        return 1\n",
    "    \n",
    "    ret = 0\n",
    "    jjak = visited.index(False)\n",
    "    visited[jjak] = True\n",
    "    \n",
    "    for ggung in adj[jjak]:\n",
    "        if not visited[ggung]:\n",
    "            visited[ggung] = True\n",
    "            ret += dfs(visited)\n",
    "            visited[ggung] = False\n",
    "            \n",
    "    visited[jjak] = False\n",
    "            \n",
    "    return ret\n",
    "    \n",
    "    \n",
    "for _ in range(int(input())):\n",
    "    n, m = map(int, input().split())\n",
    "    couples = list(map(int, input().split()))\n",
    "    visited = [False] * n\n",
    "    adj = defaultdict(list)    \n",
    "    \n",
    "    \n",
    "    for i in range(0, len(couples), 2):\n",
    "        sorted_couples = sorted(couples[i:i+2])\n",
    "        adj[sorted_couples[0]].append(sorted_couples[1])\n",
    "            \n",
    "    print(adj)\n",
    "    print(dfs(visited))"
   ]
  }
 ],
 "metadata": {
  "kernelspec": {
   "display_name": "Python 3",
   "language": "python",
   "name": "python3"
  },
  "language_info": {
   "codemirror_mode": {
    "name": "ipython",
    "version": 3
   },
   "file_extension": ".py",
   "mimetype": "text/x-python",
   "name": "python",
   "nbconvert_exporter": "python",
   "pygments_lexer": "ipython3",
   "version": "3.6.10"
  },
  "varInspector": {
   "cols": {
    "lenName": 16,
    "lenType": 16,
    "lenVar": 40
   },
   "kernels_config": {
    "python": {
     "delete_cmd_postfix": "",
     "delete_cmd_prefix": "del ",
     "library": "var_list.py",
     "varRefreshCmd": "print(var_dic_list())"
    },
    "r": {
     "delete_cmd_postfix": ") ",
     "delete_cmd_prefix": "rm(",
     "library": "var_list.r",
     "varRefreshCmd": "cat(var_dic_list()) "
    }
   },
   "types_to_exclude": [
    "module",
    "function",
    "builtin_function_or_method",
    "instance",
    "_Feature"
   ],
   "window_display": false
  }
 },
 "nbformat": 4,
 "nbformat_minor": 4
}
