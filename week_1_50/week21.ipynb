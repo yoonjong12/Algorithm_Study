{
 "cells": [
  {
   "cell_type": "markdown",
   "metadata": {},
   "source": [
    "# Validate Binary Search Tree\n",
    "\n",
    "\n",
    "<div><p>Given a binary tree, determine if it is a valid binary search tree (BST).</p>\n",
    "\n",
    "<p>Assume a BST is defined as follows:</p>\n",
    "\n",
    "<ul>\n",
    "\t<li>The left subtree of a node contains only nodes with keys <strong>less than</strong> the node's key.</li>\n",
    "\t<li>The right subtree of a node contains only nodes with keys <strong>greater than</strong> the node's key.</li>\n",
    "\t<li>Both the left and right subtrees must also be binary search trees.</li>\n",
    "</ul>\n",
    "\n",
    "<p>&nbsp;</p>\n",
    "\n",
    "<p><strong>Example 1:</strong></p>\n",
    "\n",
    "<pre>    2\n",
    "   / \\\n",
    "  1   3\n",
    "\n",
    "<strong>Input:</strong>&nbsp;[2,1,3]\n",
    "<strong>Output:</strong> true\n",
    "</pre>\n",
    "\n",
    "<p><strong>Example 2:</strong></p>\n",
    "\n",
    "<pre>    5\n",
    "   / \\\n",
    "  1   4\n",
    "&nbsp;    / \\\n",
    "&nbsp;   3   6\n",
    "\n",
    "<strong>Input:</strong> [5,1,4,null,null,3,6]\n",
    "<strong>Output:</strong> false\n",
    "<strong>Explanation:</strong> The root node's value is 5 but its right child's value is 4.\n",
    "</pre>\n",
    "</div>"
   ]
  },
  {
   "cell_type": "code",
   "execution_count": null,
   "metadata": {},
   "outputs": [],
   "source": [
    "'''\n",
    "왼쪽 서브트리는 항상 루트보다 작아야하고, 오른쪽 서브트리는 항상 루트보다 커야함\n",
    "1. dfs문제는 양쪽으로 뻗어나가면서, 조건에 부합하면 True를, 그 외는 False 리턴\n",
    "2. 조건에 따라 value는 max값보다 작은지, min값보다 큰지 체크\n",
    "3. 왼쪽 dfs는 max값이 현재 value가 되고, 오른쪽 dfs는 현재 value가 min값이 된다\n",
    "'''\n",
    "class Solution:\n",
    "    def isValidBST(self, root):\n",
    "        if root is None:\n",
    "            return True\n",
    "        \n",
    "        def search_dfs(root, max_val, min_val):\n",
    "            if root is None:\n",
    "                return True\n",
    "\n",
    "            if max_val > root.val and min_val < root.val:\n",
    "                return search_dfs(root.left, root.val, min_val) and search_dfs(root.right, max_val, root.val)\n",
    "            return False\n",
    "        \n",
    "        \n",
    "        return search_dfs(root.left, root.val, float('-inf')) and search_dfs(root.right, float('inf'), root.val)"
   ]
  },
  {
   "cell_type": "markdown",
   "metadata": {},
   "source": [
    "# 저울\n",
    "<p>하나의 양팔 저울을 이용하여 물건의 무게를 측정하려고 합니다. 이 저울의 양팔의 끝에는 물건이나 추를 올려놓는 접시가 달려 있고, 양팔의 길이는 같습니다. 또한, 저울의 한쪽에는 저울추들만 놓을 수 있고, 다른 쪽에는 무게를 측정하려는 물건만 올려놓을 수 있습니다.</p>\n",
    "\n",
    "<p><img src=\"https://grepp-programmers.s3.amazonaws.com/files/production/f73e61d4de/f4abf5ff-1956-4e49-bd4a-d3d24619bbf0.png\" title=\"\" alt=\"image0.png\"></p>\n",
    "\n",
    "<p>저울추가 담긴 배열 weight가 매개변수로 주어질 때, 이 추들로 측정할 수 없는 양의 정수 무게 중 최솟값을 return 하도록 solution 함수를 작성해주세요.</p>\n",
    "\n",
    "<p>예를 들어, 무게가 각각 [3, 1, 6, 2, 7, 30, 1]인 7개의 저울추를 주어졌을 때, 이 추들로 측정할 수 없는 양의 정수 무게 중 최솟값은 21입니다.</p>\n",
    "\n",
    "<h5>제한 사항</h5>\n",
    "\n",
    "<ul>\n",
    "<li>저울추의 개수는 1개 이상 10,000개 이하입니다.</li>\n",
    "<li>각 추의 무게는 1 이상 1,000,000 이하입니다.</li>\n",
    "</ul>\n",
    "\n",
    "<h5>입출력 예</h5>\n",
    "<table class=\"table\">\n",
    "        <thead><tr>\n",
    "<th>weight</th>\n",
    "<th>return</th>\n",
    "</tr>\n",
    "</thead>\n",
    "        <tbody><tr>\n",
    "<td>[3, 1, 6, 2, 7, 30, 1]</td>\n",
    "<td>21</td>\n",
    "</tr>\n",
    "</tbody>\n",
    "      </table>\n",
    "<h5>입출력 예 설명</h5>\n",
    "\n",
    "<p>문제에 나온 예와 같습니다.</p>\n",
    "\n",
    "<p><a href=\"https://www.digitalculture.or.kr/koi/selectOlymPiadDissentList.do\" target=\"_blank\" rel=\"noopener\">출처</a></p>\n",
    "</div>\n",
    "    </div>"
   ]
  },
  {
   "cell_type": "code",
   "execution_count": null,
   "metadata": {},
   "outputs": [],
   "source": [
    "'''\n",
    "n개의 추가 주어졌을 때, 예외케이스는 sum(n-1) < n일 경우이다.\n",
    "1. 추를 오름차순으로 정렬한다\n",
    "2. 추의 총합을 1로 시작하여 추를 하나씩 더한다.\n",
    "3. 만약 여분 무게추가 남아있고, 총합이 이 다음 추의 무게보다 작을 경우\n",
    "   무게 총합을 리턴한다.\n",
    "'''\n",
    "weight = [3, 1, 6, 2, 7, 30, 1]\n",
    "\n",
    "def solution(weight):\n",
    "    weight.sort()\n",
    "    sum_value = 1\n",
    "    length = len(weight)\n",
    "    \n",
    "    for i in range(length):\n",
    "        sum_value += weight[i]\n",
    "        \n",
    "        if length - 1 != i and sum_value < weight[i+1]:\n",
    "            return sum_value\n",
    "        \n",
    "    return sum_value\n"
   ]
  }
 ],
 "metadata": {
  "kernelspec": {
   "display_name": "Python 3",
   "language": "python",
   "name": "python3"
  },
  "language_info": {
   "codemirror_mode": {
    "name": "ipython",
    "version": 3
   },
   "file_extension": ".py",
   "mimetype": "text/x-python",
   "name": "python",
   "nbconvert_exporter": "python",
   "pygments_lexer": "ipython3",
   "version": "3.7.3"
  },
  "varInspector": {
   "cols": {
    "lenName": 16,
    "lenType": 16,
    "lenVar": 40
   },
   "kernels_config": {
    "python": {
     "delete_cmd_postfix": "",
     "delete_cmd_prefix": "del ",
     "library": "var_list.py",
     "varRefreshCmd": "print(var_dic_list())"
    },
    "r": {
     "delete_cmd_postfix": ") ",
     "delete_cmd_prefix": "rm(",
     "library": "var_list.r",
     "varRefreshCmd": "cat(var_dic_list()) "
    }
   },
   "types_to_exclude": [
    "module",
    "function",
    "builtin_function_or_method",
    "instance",
    "_Feature"
   ],
   "window_display": false
  }
 },
 "nbformat": 4,
 "nbformat_minor": 4
}
