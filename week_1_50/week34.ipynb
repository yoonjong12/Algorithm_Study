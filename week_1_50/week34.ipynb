{
 "cells": [
  {
   "cell_type": "markdown",
   "metadata": {},
   "source": [
    "# 하노이의 탑\n",
    "\n",
    "<div class=\"guide-section-description\">\n",
    "      <h6 class=\"guide-section-title\">문제 설명</h6>\n",
    "      <div class=\"markdown solarized-dark\"><p>하노이 탑(Tower of Hanoi)은 퍼즐의 일종입니다. 세 개의 기둥과 이 기동에 꽂을 수 있는 크기가 다양한 원판들이 있고, 퍼즐을 시작하기 전에는 한 기둥에 원판들이 작은 것이 위에 있도록 순서대로 쌓여 있습니다. 게임의 목적은 다음 두 가지 조건을 만족시키면서, 한 기둥에 꽂힌 원판들을 그 순서 그대로 다른 기둥으로 옮겨서 다시 쌓는 것입니다.</p>\n",
    "\n",
    "<ol>\n",
    "<li>한 번에 하나의 원판만 옮길 수 있습니다.</li>\n",
    "<li>큰 원판이 작은 원판 위에 있어서는 안됩니다.</li>\n",
    "</ol>\n",
    "\n",
    "<p>하노이 탑의 세 개의 기둥을 왼쪽 부터 1번, 2번, 3번이라고 하겠습니다. 1번에는 n개의 원판이 있고 이 n개의 원판을 3번 원판으로 최소 횟수로 옮기려고 합니다.</p>\n",
    "\n",
    "<p>1번 기둥에 있는 원판의 개수 n이 매개변수로 주어질 때, n개의 원판을 3번 원판으로 최소로 옮기는 방법을 return하는 solution를 완성해주세요.</p>\n",
    "\n",
    "<h5>제한사항</h5>\n",
    "\n",
    "<ul>\n",
    "<li>n은 15이하의 자연수 입니다.</li>\n",
    "</ul>\n",
    "\n",
    "<hr>\n",
    "\n",
    "<h5>입출력 예</h5>\n",
    "<table class=\"table\">\n",
    "        <thead><tr>\n",
    "<th>n</th>\n",
    "<th>result</th>\n",
    "</tr>\n",
    "</thead>\n",
    "        <tbody><tr>\n",
    "<td>2</td>\n",
    "<td>[ [1,2], [1,3], [2,3] ]</td>\n",
    "</tr>\n",
    "</tbody>\n",
    "      </table>\n",
    "<h5>입출력 예 설명</h5>\n",
    "\n",
    "<p>입출력 예 #1<br>\n",
    "다음과 같이 옮길 수 있습니다.</p>\n",
    "\n",
    "<p><img src=\"https://i.imgur.com/SWEqD08.png\" title=\"\" alt=\"Imgur\"><br>\n",
    "<img src=\"https://i.imgur.com/mrmOzV2.png\" title=\"\" alt=\"Imgur\"><br>\n",
    "<img src=\"https://i.imgur.com/Ent83gA.png\" title=\"\" alt=\"Imgur\"><br>\n",
    "<img src=\"https://i.imgur.com/osJFfhF.png\" title=\"\" alt=\"Imgur\"></p>\n",
    "</div>\n",
    "    </div>"
   ]
  },
  {
   "cell_type": "markdown",
   "metadata": {},
   "source": [
    "https://shoark7.github.io/programming/algorithm/tower-of-hanoi"
   ]
  },
  {
   "cell_type": "code",
   "execution_count": null,
   "metadata": {
    "ExecuteTime": {
     "end_time": "2020-10-31T22:33:07.965752Z",
     "start_time": "2020-10-31T22:33:07.948891Z"
    }
   },
   "outputs": [],
   "source": [
    "'''\n",
    "재귀식 recursion(N)\n",
    "1. (N-1)개의 원반을 A에서 B로 이동\n",
    "2. N째 원반을 C로이동\n",
    "3. (N-1)개의 원반을 B에서 C로 이동\n",
    "\n",
    "'''\n",
    "def solution(n):\n",
    "    ret= []\n",
    "    \n",
    "    def recursion(n, a, b, c):\n",
    "        if n == 1:\n",
    "            ret.append([a, c]) \n",
    "            return \n",
    "        \n",
    "        recursion(n-1, a, c, b)\n",
    "        ret.append([a, c])    \n",
    "        recursion(n-1, b, a, c)\n",
    "        \n",
    "    recursion(n, 1, 2, 3)\n",
    "    \n",
    "    return ret"
   ]
  },
  {
   "cell_type": "markdown",
   "metadata": {},
   "source": [
    "# The Skyline Problem\n",
    "\n",
    "<div><p>A city's skyline is the outer contour of the silhouette formed by all the buildings in that city when viewed from a distance. Now suppose you are <b>given the locations and height of all the buildings</b> as shown on a cityscape photo (Figure A), write a program to <b>output the skyline</b> formed by these buildings collectively (Figure B).</p>\n",
    "<a href=\"/static/images/problemset/skyline1.jpg\" target=\"_blank\"><img alt=\"Buildings\" src=\"https://assets.leetcode.com/uploads/2018/10/22/skyline1.png\" style=\"max-width: 45%; border-width: 0px; border-style: solid;\"> </a> <a href=\"/static/images/problemset/skyline2.jpg\" target=\"_blank\"> <img alt=\"Skyline Contour\" src=\"https://assets.leetcode.com/uploads/2018/10/22/skyline2.png\" style=\"max-width: 45%; border-width: 0px; border-style: solid;\"> </a>\n",
    "\n",
    "<p>The geometric information of each building is represented by a triplet of integers <code>[Li, Ri, Hi]</code>, where <code>Li</code> and <code>Ri</code> are the x coordinates of the left and right edge of the ith building, respectively, and <code>Hi</code> is its height. It is guaranteed that <code>0 ≤ Li, Ri ≤ INT_MAX</code>, <code>0 &lt; Hi ≤ INT_MAX</code>, and <code>Ri - Li &gt; 0</code>. You may assume all buildings are perfect rectangles grounded on an absolutely flat surface at height 0.</p>\n",
    "\n",
    "<p>For instance, the dimensions of all buildings in Figure A are recorded as: <code>[ [2 9 10], [3 7 15], [5 12 12], [15 20 10], [19 24 8] ] </code>.</p>\n",
    "\n",
    "<p>The output is a list of \"<b>key points</b>\" (red dots in Figure B) in the format of <code>[ [x1,y1], [x2, y2], [x3, y3], ... ]</code> that uniquely defines a skyline. <b>A key point is the left endpoint of a horizontal line segment</b>. Note that the last key point, where the rightmost building ends, is merely used to mark the termination of the skyline, and always has zero height. Also, the ground in between any two adjacent buildings should be considered part of the skyline contour.</p>\n",
    "\n",
    "<p>For instance, the skyline in Figure B should be represented as:<code>[ [2 10], [3 15], [7 12], [12 0], [15 10], [20 8], [24, 0] ]</code>.</p>\n",
    "\n",
    "<p><b>Notes:</b></p>\n",
    "\n",
    "<ul>\n",
    "\t<li>The number of buildings in any input list is guaranteed to be in the range <code>[0, 10000]</code>.</li>\n",
    "\t<li>The input list is already sorted in ascending order by the left x position <code>Li</code>.</li>\n",
    "\t<li>The output list must be sorted by the x position.</li>\n",
    "\t<li>There must be no consecutive horizontal lines of equal height in the output skyline. For instance, <code>[...[2 3], [4 5], [7 5], [11 5], [12 7]...]</code> is not acceptable; the three lines of height 5 should be merged into one in the final output as such: <code>[...[2 3], [4 5], [12 7], ...]</code></li>\n",
    "</ul>\n",
    "</div>"
   ]
  },
  {
   "cell_type": "code",
   "execution_count": null,
   "metadata": {
    "ExecuteTime": {
     "end_time": "2020-11-01T02:56:44.805562Z",
     "start_time": "2020-11-01T02:56:44.710630Z"
    }
   },
   "outputs": [],
   "source": [
    "from heapq import heappush, heappop\n",
    "\n",
    "class Solution(object):\n",
    "    def getSkyline(self, buildings):\n",
    "        def add_skyline(pos, h):\n",
    "            '''\n",
    "            빌딩의 높이가 서로 다른가?\n",
    "            '''\n",
    "            print('add sky', h, sky[-1][1])\n",
    "            if sky[-1][1] != h:\n",
    "                sky.append([pos, h])\n",
    "\n",
    "        sky = [[-1,0]]\n",
    "\n",
    "        # 건물의 왼쪽, 오른쪽 꼭지점 set\n",
    "        position = set([b[0] for b in buildings] + [b[1] for b in buildings])\n",
    "        print('pos', position)\n",
    "        live = [] \n",
    "        idx = 0\n",
    "\n",
    "        for t in sorted(position):  # x\n",
    "\n",
    "            # 현재 시점보다 왼쪽에 있는 건물 추가\n",
    "            # 건물의 왼쪽 끝 (시작 점)에 -를 달아서 구분할 수 있게 만듦\n",
    "            while idx < len(buildings) and buildings[idx][0] <= t:\n",
    "                heappush(live, (-buildings[idx][2], buildings[idx][1]))\n",
    "                idx += 1\n",
    "\n",
    "            # 이미 지나친 건물 제거\n",
    "            # pop(0) = heappop\n",
    "            while live and live[0][1] <= t:\n",
    "                heappop(live)\n",
    "\n",
    "            # 현재 시점에서 alive에는 가장 높은 건물이 남아있음\n",
    "            h = -live[0][0] if live else 0\n",
    "            add_skyline(t, h)\n",
    "\n",
    "        return sky[1:]\n",
    "    \n",
    "buildings = [ [2, 9, 10], [3, 7, 15], [5, 12, 12], [15, 20, 10], [19, 24, 8] ]\n",
    "s = Solution()\n",
    "s.getSkyline(buildings)"
   ]
  },
  {
   "cell_type": "markdown",
   "metadata": {
    "ExecuteTime": {
     "end_time": "2020-10-28T07:56:47.563746Z",
     "start_time": "2020-10-28T07:56:47.537392Z"
    }
   },
   "source": [
    "# 와일드카드\n",
    "\n",
    "#### 문제\n",
    "와일드카드는 다양한 운영체제에서 파일 이름의 일부만으로 파일 이름을 지정하는 방법이다. 와일드카드 문자열은 일반적인 파일명과 같지만, * 나 ? 와 같은 특수 문자를 포함한다.\n",
    "\n",
    "와일드카드 문자열을 앞에서 한 글자씩 파일명과 비교해서, 모든 글자가 일치했을 때 해당 와일드카드 문자열이 파일명과 매치된다고 하자. 단, 와일드카드 문자열에 포함된 ? 는 어떤 글자와 비교해도 일치한다고 가정하며, * 는 0 글자 이상의 어떤 문자열에도 일치한다고 본다.\n",
    "\n",
    "예를 들어 와일드 카드 he?p 는 파일명 help 에도, heap 에도 매치되지만, helpp 에는 매치되지 않는다. 와일드 카드 *p* 는 파일명 help 에도, papa 에도 매치되지만, hello 에는 매치되지 않는다.\n",
    "\n",
    "와일드카드 문자열과 함께 파일명의 집합이 주어질 때, 그 중 매치되는 파일명들을 찾아내는 프로그램을 작성하시오.\n",
    "\n",
    "#### 입력\n",
    "입력의 첫 줄에는 테스트 케이스의 수 C (1 <= C <= 10) 가 주어진다. 각 테스트 케이스의 첫 줄에는 와일드카드 문자열 W 가 주어지며, 그 다음 줄에는 파일명의 수 N (1 <= N <= 50) 이 주어진다. 그 후 N 줄에 하나씩 각 파일명이 주어진다. 파일명은 공백 없이 알파벳 대소문자와 숫자만으로 이루어져 있으며, 와일드카드는 그 외에 * 와 ? 를 가질 수 있다. 모든 문자열의 길이는 1 이상 100 이하이다.\n",
    "\n",
    "#### 출력\n",
    "각 테스트 케이스마다 주어진 와일드카드에 매치되는 파일들의 이름을 한 줄에 하나씩 아스키 코드 순서(숫자, 대문자, 소문자 순)대로 출력한다.\n",
    "\n",
    "#### 예제 입력\n",
    "```\n",
    "2\n",
    "he?p\n",
    "3\n",
    "help\n",
    "heap\n",
    "helpp\n",
    "*p*\n",
    "3\n",
    "help\n",
    "papa\n",
    "hello\n",
    "```\n",
    "#### 예제 출력\n",
    "```\n",
    "heap\n",
    "help\n",
    "help\n",
    "papa\n",
    "```"
   ]
  },
  {
   "cell_type": "code",
   "execution_count": null,
   "metadata": {
    "ExecuteTime": {
     "end_time": "2021-04-05T00:48:32.076121Z",
     "start_time": "2021-04-05T00:48:31.719876Z"
    }
   },
   "outputs": [],
   "source": [
    "'''\n",
    "1. *을 기준으로 split하고 ?는 \\w로 대체 (\\w = 정규표현식에서 숫자,문자)\n",
    "2. 맨 앞은 '^', 맨 마지막은 '$' 추가. \n",
    "    2-1. 맨 앞에 ^이 붙은 해당 부분 문자열로 시작해야함\n",
    "    2-2. 맨 뒤에 $이 붙은 해당 부분 문자열로 끝나야함\n",
    "e.g. \n",
    "Wild Card = 'he?p' --> W = ['^he?p$']\n",
    "Wild Card = 'he*p' --> W = ['^he', 'p$']\n",
    "Wild Card = 'help***' --> W = ['^help','$']\n",
    "\n",
    "3. W의 원소를 순서대로 비교하면서 패턴이 틀리는 순간 break\n",
    "4. 모든 조건이 부합하면 리턴할 리스트에 추가하고 끝나면 sort 후 출력\n",
    "'''\n",
    "import re\n",
    "import sys\n",
    "input = sys.stdin.readline\n",
    "\n",
    "\n",
    "def search(wild, file):\n",
    "    pattern = re.search(wild, file)\n",
    "    if pattern:\n",
    "        return True\n",
    "    return False\n",
    "\n",
    "for _ in range(int(input())):\n",
    "    W = input()\n",
    "    W = [i.replace('?', '\\w') for i in W.split('*')]\n",
    "    W[0] = '^' + W[0]\n",
    "    W[-1] += '$'\n",
    "    patterns = []\n",
    "    file_names = [input() for i in range(int(input()))]\n",
    "    \n",
    "    for file in file_names:\n",
    "        for w in W:\n",
    "            if not search(w, file):\n",
    "                break\n",
    "        else:\n",
    "            patterns.append(file)\n",
    "\n",
    "    for i in sorted(patterns):\n",
    "        print(i)"
   ]
  }
 ],
 "metadata": {
  "kernelspec": {
   "display_name": "Python 3",
   "language": "python",
   "name": "python3"
  },
  "language_info": {
   "codemirror_mode": {
    "name": "ipython",
    "version": 3
   },
   "file_extension": ".py",
   "mimetype": "text/x-python",
   "name": "python",
   "nbconvert_exporter": "python",
   "pygments_lexer": "ipython3",
   "version": "3.6.10"
  },
  "varInspector": {
   "cols": {
    "lenName": 16,
    "lenType": 16,
    "lenVar": 40
   },
   "kernels_config": {
    "python": {
     "delete_cmd_postfix": "",
     "delete_cmd_prefix": "del ",
     "library": "var_list.py",
     "varRefreshCmd": "print(var_dic_list())"
    },
    "r": {
     "delete_cmd_postfix": ") ",
     "delete_cmd_prefix": "rm(",
     "library": "var_list.r",
     "varRefreshCmd": "cat(var_dic_list()) "
    }
   },
   "types_to_exclude": [
    "module",
    "function",
    "builtin_function_or_method",
    "instance",
    "_Feature"
   ],
   "window_display": false
  }
 },
 "nbformat": 4,
 "nbformat_minor": 4
}
