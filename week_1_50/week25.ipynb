{
 "cells": [
  {
   "cell_type": "markdown",
   "metadata": {
    "ExecuteTime": {
     "end_time": "2020-08-30T00:52:59.297885Z",
     "start_time": "2020-08-30T00:52:59.210737Z"
    }
   },
   "source": [
    "# 디스크 컨트롤\n",
    "\n",
    "<div class=\"guide-section-description\">\n",
    "      <h6 class=\"guide-section-title\">문제 설명</h6>\n",
    "      <div class=\"markdown solarized-dark\"><p>하드디스크는 한 번에 하나의 작업만 수행할 수 있습니다. 디스크 컨트롤러를 구현하는 방법은 여러 가지가 있습니다. 가장 일반적인 방법은 요청이 들어온 순서대로 처리하는 것입니다.</p>\n",
    "\n",
    "<p>예를들어</p>\n",
    "<div class=\"highlight\"><pre class=\"codehilite\"><code>- 0ms 시점에 3ms가 소요되는 A작업 요청\n",
    "- 1ms 시점에 9ms가 소요되는 B작업 요청\n",
    "- 2ms 시점에 6ms가 소요되는 C작업 요청\n",
    "</code></pre></div>\n",
    "<p>와 같은 요청이 들어왔습니다. 이를 그림으로 표현하면 아래와 같습니다.<br>\n",
    "  <img src=\"https://grepp-programmers.s3.amazonaws.com/files/production/b68eb5cec6/38dc6a53-2d21-4c72-90ac-f059729c51d5.png\" title=\"\" alt=\"Screen Shot 2018-09-13 at 6.34.58 PM.png\"></p>\n",
    "\n",
    "<p>한 번에 하나의 요청만을 수행할 수 있기 때문에 각각의 작업을 요청받은 순서대로 처리하면 다음과 같이 처리 됩니다.<br>\n",
    "  <img src=\"https://grepp-programmers.s3.amazonaws.com/files/production/5e677b4646/90b91fde-cac4-42c1-98b8-8f8431c52dcf.png\" title=\"\" alt=\"Screen Shot 2018-09-13 at 6.38.52 PM.png\"></p>\n",
    "<div class=\"highlight\"><pre class=\"codehilite\"><code>- A: 3ms 시점에 작업 완료 (요청에서 종료까지 : 3ms)\n",
    "- B: 1ms부터 대기하다가, 3ms 시점에 작업을 시작해서 12ms 시점에 작업 완료(요청에서 종료까지 : 11ms)\n",
    "- C: 2ms부터 대기하다가, 12ms 시점에 작업을 시작해서 18ms 시점에 작업 완료(요청에서 종료까지 : 16ms)\n",
    "</code></pre></div>\n",
    "<p>이 때 각 작업의 요청부터 종료까지 걸린 시간의 평균은 10ms(= (3 + 11 + 16) / 3)가 됩니다.</p>\n",
    "\n",
    "<p>하지만 A → C → B 순서대로 처리하면<br>\n",
    "  <img src=\"https://grepp-programmers.s3.amazonaws.com/files/production/9eb7c5a6f1/a6cff04d-86bb-4b5b-98bf-6359158940ac.png\" title=\"\" alt=\"Screen Shot 2018-09-13 at 6.41.42 PM.png\"></p>\n",
    "<div class=\"highlight\"><pre class=\"codehilite\"><code>- A: 3ms 시점에 작업 완료(요청에서 종료까지 : 3ms)\n",
    "- C: 2ms부터 대기하다가, 3ms 시점에 작업을 시작해서 9ms 시점에 작업 완료(요청에서 종료까지 : 7ms)\n",
    "- B: 1ms부터 대기하다가, 9ms 시점에 작업을 시작해서 18ms 시점에 작업 완료(요청에서 종료까지 : 17ms)\n",
    "</code></pre></div>\n",
    "<p>이렇게 A → C → B의 순서로 처리하면 각 작업의 요청부터 종료까지 걸린 시간의 평균은 9ms(= (3 + 7 + 17) / 3)가 됩니다.</p>\n",
    "\n",
    "<p>각 작업에 대해 [작업이 요청되는 시점, 작업의 소요시간]을 담은 2차원 배열 jobs가 매개변수로 주어질 때, 작업의 요청부터 종료까지 걸린 시간의 평균을 가장 줄이는 방법으로 처리하면 평균이 얼마가 되는지 return 하도록 solution 함수를 작성해주세요. (단, 소수점 이하의 수는 버립니다)</p>\n",
    "\n",
    "<h5>제한 사항</h5>\n",
    "\n",
    "<ul>\n",
    "<li>jobs의 길이는 1 이상 500 이하입니다.</li>\n",
    "<li>jobs의 각 행은 하나의 작업에 대한 [작업이 요청되는 시점, 작업의 소요시간] 입니다.</li>\n",
    "<li>각 작업에 대해 작업이 요청되는 시간은 0 이상 1,000 이하입니다.</li>\n",
    "<li>각 작업에 대해 작업의 소요시간은 1 이상 1,000 이하입니다.</li>\n",
    "<li>하드디스크가 작업을 수행하고 있지 않을 때에는 먼저 요청이 들어온 작업부터 처리합니다.</li>\n",
    "</ul>\n",
    "\n",
    "<h5>입출력 예</h5>\n",
    "<table class=\"table\">\n",
    "        <thead><tr>\n",
    "<th>jobs</th>\n",
    "<th>return</th>\n",
    "</tr>\n",
    "</thead>\n",
    "        <tbody><tr>\n",
    "<td>[[0, 3], [1, 9], [2, 6]]</td>\n",
    "<td>9</td>\n",
    "</tr>\n",
    "</tbody>\n",
    "      </table>\n",
    "<h5>입출력 예 설명</h5>\n",
    "\n",
    "<p>문제에 주어진 예와 같습니다.</p>\n",
    "\n",
    "<ul>\n",
    "<li>0ms 시점에 3ms 걸리는 작업 요청이 들어옵니다.</li>\n",
    "<li>1ms 시점에 9ms 걸리는 작업 요청이 들어옵니다.</li>\n",
    "<li>2ms 시점에 6ms 걸리는 작업 요청이 들어옵니다.</li>\n",
    "</ul>\n",
    "</div>\n",
    "    </div>"
   ]
  },
  {
   "cell_type": "code",
   "execution_count": 105,
   "metadata": {
    "ExecuteTime": {
     "end_time": "2020-08-30T02:05:28.350458Z",
     "start_time": "2020-08-30T02:05:28.317616Z"
    }
   },
   "outputs": [
    {
     "data": {
      "text/plain": [
       "9"
      ]
     },
     "execution_count": 105,
     "metadata": {},
     "output_type": "execute_result"
    }
   ],
   "source": [
    "'''\n",
    "1. 소요시간을 기준으로 정렬\n",
    "2. 시간이 흐름에 따라 요청이 들어오는 작업의 우선순위를 매겨서 처리\n",
    "    2-1. 대기목록을 요청길이로 정렬\n",
    "    2-2. 대기열 맨 앞 작업을 채택\n",
    "    2-3. 현재 시간을 새로운 요청시간만큼 증가\n",
    "    2-4. 대기 시간(현재시간-작업시작시간)을 업데이트\n",
    "    2-5. 전체 작업에서 방금했던 작업을 제거\n",
    "3. 대기 시간의 평균을 리턴\n",
    "    \n",
    "'''\n",
    "\n",
    "def solution(jobs):\n",
    "    length = len(jobs)\n",
    "    cur_time = 0\n",
    "    answer = 0\n",
    "    \n",
    "    while jobs:\n",
    "        waiting = [i for i in jobs if i[0] <= cur_time]\n",
    "        if waiting:\n",
    "            waiting.sort(key=lambda x: x[1])\n",
    "            next_job = waiting[0]\n",
    "            cur_time += next_job[1]\n",
    "            answer += cur_time - next_job[0]\n",
    "            jobs.remove(next_job)\n",
    "        else:\n",
    "            cur_time += 1\n",
    "\n",
    "    return answer // length\n",
    "\n",
    "jobs = [[0, 3], [1, 9], [2, 6]]\n",
    "solution(jobs)"
   ]
  },
  {
   "cell_type": "markdown",
   "metadata": {},
   "source": [
    "# 베스트 앨범\n",
    "\n",
    "<div class=\"guide-section-description\">\n",
    "      <h6 class=\"guide-section-title\">문제 설명</h6>\n",
    "      <div class=\"markdown solarized-dark\"><p>스트리밍 사이트에서 장르 별로 가장 많이 재생된 노래를 두 개씩 모아 베스트 앨범을 출시하려 합니다. 노래는 고유 번호로 구분하며, 노래를 수록하는 기준은 다음과 같습니다.</p>\n",
    "\n",
    "<ol>\n",
    "<li>속한 노래가 많이 재생된 장르를 먼저 수록합니다.</li>\n",
    "<li>장르 내에서 많이 재생된 노래를 먼저 수록합니다.</li>\n",
    "<li>장르 내에서 재생 횟수가 같은 노래 중에서는 고유 번호가 낮은 노래를 먼저 수록합니다.</li>\n",
    "</ol>\n",
    "\n",
    "<p>노래의 장르를 나타내는 문자열 배열 genres와 노래별 재생 횟수를 나타내는 정수 배열 plays가 주어질 때, 베스트 앨범에 들어갈 노래의 고유 번호를 순서대로 return 하도록 solution 함수를 완성하세요.</p>\n",
    "\n",
    "<h5>제한사항</h5>\n",
    "\n",
    "<ul>\n",
    "<li>genres[i]는 고유번호가 i인 노래의 장르입니다.</li>\n",
    "<li>plays[i]는 고유번호가 i인 노래가 재생된 횟수입니다.</li>\n",
    "<li>genres와 plays의 길이는 같으며, 이는 1 이상 10,000 이하입니다.</li>\n",
    "<li>장르 종류는 100개 미만입니다.</li>\n",
    "<li>장르에 속한 곡이 하나라면, 하나의 곡만 선택합니다.</li>\n",
    "<li>모든 장르는 재생된 횟수가 다릅니다.</li>\n",
    "</ul>\n",
    "\n",
    "<h5>입출력 예</h5>\n",
    "<table class=\"table\">\n",
    "        <thead><tr>\n",
    "<th>genres</th>\n",
    "<th>plays</th>\n",
    "<th>return</th>\n",
    "</tr>\n",
    "</thead>\n",
    "        <tbody><tr>\n",
    "<td>[<q>classic</q>, <q>pop</q>, <q>classic</q>, <q>classic</q>, <q>pop</q>]</td>\n",
    "<td>[500, 600, 150, 800, 2500]</td>\n",
    "<td>[4, 1, 3, 0]</td>\n",
    "</tr>\n",
    "</tbody>\n",
    "      </table>\n",
    "<h5>입출력 예 설명</h5>\n",
    "\n",
    "<p>classic 장르는 1,450회 재생되었으며, classic 노래는 다음과 같습니다.</p>\n",
    "\n",
    "<ul>\n",
    "<li>고유 번호 3: 800회 재생</li>\n",
    "<li>고유 번호 0: 500회 재생</li>\n",
    "<li>고유 번호 2: 150회 재생</li>\n",
    "</ul>\n",
    "\n",
    "<p>pop 장르는 3,100회 재생되었으며, pop 노래는 다음과 같습니다.</p>\n",
    "\n",
    "<ul>\n",
    "<li>고유 번호 4: 2,500회 재생</li>\n",
    "<li>고유 번호 1: 600회 재생</li>\n",
    "</ul>\n",
    "\n",
    "<p>따라서 pop 장르의 [4, 1]번 노래를 먼저, classic 장르의 [3, 0]번 노래를 그다음에 수록합니다.</p>\n",
    "\n",
    "<p>※ 공지 - 2019년 2월 28일 테스트케이스가 추가되었습니다.</p>\n",
    "</div>\n",
    "    </div>"
   ]
  },
  {
   "cell_type": "code",
   "execution_count": 77,
   "metadata": {
    "ExecuteTime": {
     "end_time": "2020-08-30T00:46:25.415600Z",
     "start_time": "2020-08-30T00:46:25.381906Z"
    }
   },
   "outputs": [],
   "source": [
    "'''\n",
    "맨 먼저 만들어놓을 딕셔너리 \n",
    "{장르: {전체 시간, 노래리스트: [{노래1 시간, 인덱스1}, {노래2 시간, 인덱스2} ...]}}\n",
    "\n",
    "1. 장르 전체 시간 별로 sort\n",
    "2. 노래 시간 별로 sort\n",
    "3. 최대 2곡씩 answer에 append\n",
    "'''\n",
    "def solution(genres, plays):\n",
    "    dic = {}\n",
    "\n",
    "    for i in range(len(genres)):\n",
    "        if not genres[i] in dic:\n",
    "            dic[genres[i]] = {'total_time':0, 'songs':[]}\n",
    "\n",
    "        dic[genres[i]]['songs'].append({'time':plays[i], 'idx':i})\n",
    "        dic[genres[i]]['total_time'] += plays[i]\n",
    "    print(dic)\n",
    "\n",
    "    dic = sorted(dic.items(), key=lambda x: x[1]['total_time'], reverse=True)\n",
    "    \n",
    "    answer = []\n",
    "    for i in range(len(dic)):\n",
    "        song_list = dic[i][1]['songs']\n",
    "        song_list = sorted(song_list, key=lambda x: x['time'], reverse=True)\n",
    "\n",
    "        if len(song_list) >= 2:\n",
    "            iteration = 2  \n",
    "        else:\n",
    "            iteration = len(song_list)\n",
    "\n",
    "        for j in range(iteration):\n",
    "            answer.append(song_list[j]['idx'])\n",
    "            \n",
    "    return answer\n",
    "\n",
    "\n",
    "# defaultdict로 첨에 반복문 안써도 초기화 할 수 있는 방법이 없을까?"
   ]
  }
 ],
 "metadata": {
  "kernelspec": {
   "display_name": "Python 3",
   "language": "python",
   "name": "python3"
  },
  "language_info": {
   "codemirror_mode": {
    "name": "ipython",
    "version": 3
   },
   "file_extension": ".py",
   "mimetype": "text/x-python",
   "name": "python",
   "nbconvert_exporter": "python",
   "pygments_lexer": "ipython3",
   "version": "3.6.10"
  },
  "varInspector": {
   "cols": {
    "lenName": 16,
    "lenType": 16,
    "lenVar": 40
   },
   "kernels_config": {
    "python": {
     "delete_cmd_postfix": "",
     "delete_cmd_prefix": "del ",
     "library": "var_list.py",
     "varRefreshCmd": "print(var_dic_list())"
    },
    "r": {
     "delete_cmd_postfix": ") ",
     "delete_cmd_prefix": "rm(",
     "library": "var_list.r",
     "varRefreshCmd": "cat(var_dic_list()) "
    }
   },
   "types_to_exclude": [
    "module",
    "function",
    "builtin_function_or_method",
    "instance",
    "_Feature"
   ],
   "window_display": false
  }
 },
 "nbformat": 4,
 "nbformat_minor": 4
}
