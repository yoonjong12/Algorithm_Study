{
 "cells": [
  {
   "cell_type": "markdown",
   "metadata": {},
   "source": [
    "# Snapshot array\n",
    "<div><p>Implement a SnapshotArray that supports the following interface:</p>\n",
    "\n",
    "<ul>\n",
    "\t<li><code>SnapshotArray(int length)</code> initializes an array-like data structure with the given length.&nbsp; <strong>Initially, each element equals 0</strong>.</li>\n",
    "\t<li><code>void set(index, val)</code> sets the element at the given <code>index</code> to be equal to <code>val</code>.</li>\n",
    "\t<li><code>int snap()</code>&nbsp;takes a snapshot of the array and returns the <code>snap_id</code>: the total number of times we called <code>snap()</code> minus <code>1</code>.</li>\n",
    "\t<li><code>int get(index, snap_id)</code>&nbsp;returns the value at the given <code>index</code>, at the time we took the snapshot with the given <code>snap_id</code></li>\n",
    "</ul>\n",
    "\n",
    "<p>&nbsp;</p>\n",
    "<p><strong>Example 1:</strong></p>\n",
    "\n",
    "<pre><strong>Input:</strong> [\"SnapshotArray\",\"set\",\"snap\",\"set\",\"get\"]\n",
    "[[3],[0,5],[],[0,6],[0,0]]\n",
    "<strong>Output:</strong> [null,null,0,null,5]\n",
    "<strong>Explanation: </strong>\n",
    "SnapshotArray snapshotArr = new SnapshotArray(3); // set the length to be 3\n",
    "snapshotArr.set(0,5);  // Set array[0] = 5\n",
    "snapshotArr.snap();  // Take a snapshot, return snap_id = 0\n",
    "snapshotArr.set(0,6);\n",
    "snapshotArr.get(0,0);  // Get the value of array[0] with snap_id = 0, return 5</pre>\n",
    "\n",
    "<p>&nbsp;</p>\n",
    "<p><strong>Constraints:</strong></p>\n",
    "\n",
    "<ul>\n",
    "\t<li><code>1 &lt;= length&nbsp;&lt;= 50000</code></li>\n",
    "\t<li>At most <code>50000</code>&nbsp;calls will be made to <code>set</code>, <code>snap</code>, and <code>get</code>.</li>\n",
    "\t<li><code>0 &lt;= index&nbsp;&lt;&nbsp;length</code></li>\n",
    "\t<li><code>0 &lt;=&nbsp;snap_id &lt;&nbsp;</code>(the total number of times we call <code>snap()</code>)</li>\n",
    "\t<li><code>0 &lt;=&nbsp;val &lt;= 10^9</code></li>\n",
    "</ul>\n",
    "</div>"
   ]
  },
  {
   "cell_type": "code",
   "execution_count": 68,
   "metadata": {
    "ExecuteTime": {
     "end_time": "2020-05-25T07:13:39.319974Z",
     "start_time": "2020-05-25T07:13:39.281832Z"
    }
   },
   "outputs": [
    {
     "name": "stdout",
     "output_type": "stream",
     "text": [
      "s 0 0 1\n",
      "0 1\n",
      "s 1 1 1\n",
      "2 1\n",
      "1 1 0\n"
     ]
    },
    {
     "data": {
      "text/plain": [
       "0"
      ]
     },
     "execution_count": 68,
     "metadata": {},
     "output_type": "execute_result"
    }
   ],
   "source": [
    "class SnapshotArray:\n",
    "    def __init__(self, length: int):\n",
    "        self.array = {i: {0: 0} for i in range(length)}\n",
    "        self.snap_id = 0\n",
    "\n",
    "    def set(self, index: int, val: int) -> None:\n",
    "        self.array[index][self.snap_id] = val\n",
    "\n",
    "    def snap(self) -> int:\n",
    "        self.snap_id += 1\n",
    "        print(self.array, self.snap_id)\n",
    "        return self.snap_id - 1\n",
    "\n",
    "    def get(self, index: int, snap_id: int) -> int:\n",
    "        if index in self.array and snap_id in self.array[index]:\n",
    "            return self.array[index][snap_id]\n",
    "        else:\n",
    "            index_keys = list(self.array[index].keys())\n",
    "            latest_snap_id = SnapshotArray.search_binary(\n",
    "                index_keys, snap_id)\n",
    "            return self.array[index][index_keys[latest_snap_id]]\n",
    "\n",
    "    @staticmethod\n",
    "    def search_binary(array, condition):\n",
    "        start = 0\n",
    "        end = len(array)-1\n",
    "        result = 0\n",
    "\n",
    "        while start <= end:\n",
    "            mid = (start + end) // 2 \n",
    "            print('s', start, mid, end)\n",
    "            print(array[mid], condition)\n",
    "            if array[mid] < condition:\n",
    "                start = mid + 1\n",
    "                result = mid\n",
    "            else:\n",
    "                end = mid -1\n",
    "\n",
    "        print(start, mid, end)\n",
    "        return result\n",
    "                "
   ]
  },
  {
   "cell_type": "markdown",
   "metadata": {},
   "source": [
    "# 80. Remove Duplicates from Sorted Array II\n",
    "\n",
    "\n",
    "<div><p>Given a sorted array <em>nums</em>, remove the duplicates <a href=\"https://en.wikipedia.org/wiki/In-place_algorithm\" target=\"_blank\"><strong>in-place</strong></a> such that duplicates appeared at most&nbsp;<em>twice</em> and return the new length.</p>\n",
    "\n",
    "<p>Do not allocate extra space for another array, you must do this by <strong>modifying the input array <a href=\"https://en.wikipedia.org/wiki/In-place_algorithm\" target=\"_blank\">in-place</a></strong> with O(1) extra memory.</p>\n",
    "\n",
    "<p><strong>Example 1:</strong></p>\n",
    "\n",
    "<pre>Given <em>nums</em> = <strong>[1,1,1,2,2,3]</strong>,\n",
    "\n",
    "Your function should return length = <strong><code>5</code></strong>, with the first five elements of <em><code>nums</code></em> being <strong><code>1, 1, 2, 2</code></strong> and <strong>3</strong> respectively.\n",
    "\n",
    "It doesn't matter what you leave beyond the returned length.</pre>\n",
    "\n",
    "<p><strong>Example 2:</strong></p>\n",
    "\n",
    "<pre>Given <em>nums</em> = <strong>[0,0,1,1,1,1,2,3,3]</strong>,\n",
    "\n",
    "Your function should return length = <strong><code>7</code></strong>, with the first seven elements of <em><code>nums</code></em> being modified to&nbsp;<strong><code>0</code></strong>, <strong>0</strong>, <strong>1</strong>, <strong>1</strong>, <strong>2</strong>, <strong>3</strong> and&nbsp;<strong>3</strong> respectively.\n",
    "\n",
    "It doesn't matter what values are set beyond&nbsp;the returned length.\n",
    "</pre>\n",
    "\n",
    "<p><strong>Clarification:</strong></p>\n",
    "\n",
    "<p>Confused why the returned value is an integer but your answer is an array?</p>\n",
    "\n",
    "<p>Note that the input array is passed in by <strong>reference</strong>, which means modification to the input array will be known to the caller as well.</p>\n",
    "\n",
    "<p>Internally you can think of this:</p>\n",
    "\n",
    "<pre>// <strong>nums</strong> is passed in by reference. (i.e., without making a copy)\n",
    "int len = removeDuplicates(nums);\n",
    "\n",
    "// any modification to <strong>nums</strong> in your function would be known by the caller.\n",
    "// using the length returned by your function, it prints the first <strong>len</strong> elements.\n",
    "for (int i = 0; i &lt; len; i++) {\n",
    "&nbsp; &nbsp; print(nums[i]);\n",
    "}\n",
    "</pre>\n",
    "</div>"
   ]
  },
  {
   "cell_type": "code",
   "execution_count": 3,
   "metadata": {
    "ExecuteTime": {
     "end_time": "2020-06-06T08:06:07.352412Z",
     "start_time": "2020-06-06T08:06:07.293447Z"
    }
   },
   "outputs": [
    {
     "data": {
      "text/plain": [
       "7"
      ]
     },
     "execution_count": 3,
     "metadata": {},
     "output_type": "execute_result"
    }
   ],
   "source": [
    "def removeDuplicates(nums):\n",
    "    i = 0\n",
    "    for index, n in enumerate(nums):\n",
    "\n",
    "        if i < 2 or n > nums[i-2]:\n",
    "            nums[i] = n\n",
    "            i += 1\n",
    "    return i\n",
    "\n",
    "nums = [0,0,1,1,1,1,2,3,3]\n",
    "removeDuplicates(nums)"
   ]
  },
  {
   "cell_type": "code",
   "execution_count": null,
   "metadata": {},
   "outputs": [],
   "source": []
  }
 ],
 "metadata": {
  "kernelspec": {
   "display_name": "Python 3",
   "language": "python",
   "name": "python3"
  },
  "language_info": {
   "codemirror_mode": {
    "name": "ipython",
    "version": 3
   },
   "file_extension": ".py",
   "mimetype": "text/x-python",
   "name": "python",
   "nbconvert_exporter": "python",
   "pygments_lexer": "ipython3",
   "version": "3.7.3"
  },
  "varInspector": {
   "cols": {
    "lenName": 16,
    "lenType": 16,
    "lenVar": 40
   },
   "kernels_config": {
    "python": {
     "delete_cmd_postfix": "",
     "delete_cmd_prefix": "del ",
     "library": "var_list.py",
     "varRefreshCmd": "print(var_dic_list())"
    },
    "r": {
     "delete_cmd_postfix": ") ",
     "delete_cmd_prefix": "rm(",
     "library": "var_list.r",
     "varRefreshCmd": "cat(var_dic_list()) "
    }
   },
   "types_to_exclude": [
    "module",
    "function",
    "builtin_function_or_method",
    "instance",
    "_Feature"
   ],
   "window_display": false
  }
 },
 "nbformat": 4,
 "nbformat_minor": 4
}
