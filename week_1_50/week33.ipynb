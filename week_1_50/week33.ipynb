{
 "cells": [
  {
   "cell_type": "markdown",
   "metadata": {},
   "source": [
    "# FENCE\n",
    "\n",
    "#### 문제\n",
    "너비가 같은 N개의 나무 판자를 붙여 세운 울타리가 있습니다. 시간이 지남에 따라 판자들이 부러지거나 망가져 높이가 다 달라진 관계로 울타리를 통째로 교체하기로 했습니다. 이 때 버리는 울타리의 일부를 직사각형으로 잘라내 재활용하고 싶습니다. 그림 (b)는 (a)의 울타리에서 잘라낼 수 있는 많은 직사각형 중 가장 넓은 직사각형을 보여줍니다. 울타리를 구성하는 각 판자의 높이가 주어질 때, 잘라낼 수 있는 직사각형의 최대 크기를 계산하는 프로그램을 작성하세요. 단 (c)처럼 직사각형을 비스듬히 잘라낼 수는 없습니다.\n",
    "\n",
    "판자의 너비는 모두 1이라고 가정합니다.\n",
    "\n",
    "\n",
    "\n",
    "#### 입력\n",
    "첫 줄에 테스트 케이스의 개수 C (C≤50)가 주어집니다. 각 테스트 케이스의 첫 줄에는 판자의 수 N (1≤N≤20000)이 주어집니다. 그 다음 줄에는 N개의 정수로 왼쪽부터 각 판자의 높이가 순서대로 주어집니다. 높이는 모두 10,000 이하의 음이 아닌 정수입니다.\n",
    "\n",
    "#### 출력\n",
    "각 테스트 케이스당 정수 하나를 한 줄에 출력합니다. 이 정수는 주어진 울타리에서 잘라낼 수 있는 최대 직사각형의 크기를 나타내야 합니다.\n",
    "\n",
    "#### 예제 입력\n",
    "```\n",
    "3\n",
    "7\n",
    "7 1 5 9 6 7 3\n",
    "7\n",
    "1 4 4 4 4 1 1\n",
    "4\n",
    "1 8 2 2\n",
    "```\n",
    "#### 예제 출력\n",
    "```\n",
    "20\n",
    "16\n",
    "8\n",
    "```"
   ]
  },
  {
   "cell_type": "code",
   "execution_count": null,
   "metadata": {},
   "outputs": [],
   "source": [
    "def test_case():\n",
    "    yield '3'\n",
    "    yield '7'\n",
    "    yield '7 1 5 9 6 7 3'\n",
    "    yield '7'\n",
    "    yield '1 4 4 4 4 1 1'\n",
    "    yield '4'\n",
    "    yield '1 8 2 2'\n",
    "    \n",
    "def input():\n",
    "    return next(G)\n",
    "G = test_case()\n",
    "\n",
    "import sys\n",
    "# input = sys.stdin.readline\n",
    "\n",
    "\n",
    "def recursion(start, p):\n",
    "    if p == len(fence)-1 or start > fence[p+1] :\n",
    "        self.pos = p\n",
    "    else:\n",
    "        self.count += 1\n",
    "        self.getPossiblePos(p+1, fence)\n",
    "    \n",
    "\n",
    "for _ in range(int(input())):\n",
    "    N = input()\n",
    "    MAX_VALUE = 0\n",
    "    fence = list(map(int, input().split()))\n",
    "\n",
    "    for idx in range(N):\n",
    "        start = fence[idx]\n",
    "        pos = idx\n",
    "        cnt = 1\n",
    "\n",
    "        recursion(pos)\n",
    "        new_area = f.start * f.count \n",
    "        if MAX_VALUE < new_area : \n",
    "            MAX_VALUE = new_area\n",
    "            \n",
    "    MAX_LIST.append(MAX_VALUE)"
   ]
  },
  {
   "cell_type": "markdown",
   "metadata": {},
   "source": [
    "# 점프와 순간이동\n",
    "\n",
    "<div class=\"guide-section-description\">\n",
    "      <h6 class=\"guide-section-title\">문제 설명</h6>\n",
    "      <div class=\"markdown solarized-dark\"><p>OO 연구소는 한 번에 K 칸을 앞으로 점프하거나, (현재까지 온 거리) x 2 에 해당하는 위치로 순간이동을 할 수 있는 특수한 기능을 가진 아이언 슈트를 개발하여 판매하고 있습니다. 이 아이언 슈트는 건전지로 작동되는데, 순간이동을 하면 건전지 사용량이 줄지 않지만, 앞으로 K 칸을 점프하면 K 만큼의 건전지 사용량이 듭니다. 그러므로 아이언 슈트를 착용하고 이동할 때는 순간 이동을 하는 것이 더 효율적입니다. 아이언 슈트 구매자는 아이언 슈트를 착용하고 거리가 N 만큼 떨어져 있는 장소로 가려고 합니다. 단, 건전지 사용량을 줄이기 위해 점프로 이동하는 것은 최소로 하려고 합니다. 아이언 슈트 구매자가 이동하려는 거리 N이 주어졌을 때, 사용해야 하는 건전지 사용량의 최솟값을 return하는 solution 함수를 만들어 주세요.</p>\n",
    "\n",
    "<p>예를 들어 거리가 5만큼 떨어져 있는 장소로 가려고 합니다.<br>\n",
    "아이언 슈트를 입고 거리가 5만큼 떨어져 있는 장소로 갈 수 있는 경우의 수는 여러 가지입니다.</p>\n",
    "\n",
    "<ul>\n",
    "<li>처음 위치 0 에서 5 칸을 앞으로 점프하면 바로 도착하지만, 건전지 사용량이 5 만큼 듭니다.</li>\n",
    "<li>처음 위치 0 에서 2 칸을 앞으로 점프한 다음 순간이동 하면 (현재까지 온 거리 : 2) x 2에 해당하는 위치로 이동할 수 있으므로 위치 4로 이동합니다.  이때 1 칸을 앞으로 점프하면 도착하므로 건전지 사용량이 3 만큼 듭니다.</li>\n",
    "<li>처음 위치 0 에서 1 칸을 앞으로 점프한 다음 순간이동 하면 (현재까지 온 거리 : 1) x 2에 해당하는 위치로  이동할 수 있으므로 위치 2로 이동됩니다. 이때 다시 순간이동 하면 (현재까지 온 거리 : 2) x 2 만큼 이동할 수 있으므로 위치 4로 이동합니다. 이때 1 칸을 앞으로 점프하면 도착하므로 건전지 사용량이 2 만큼 듭니다.</li>\n",
    "</ul>\n",
    "\n",
    "<p>위의 3가지 경우 거리가 5만큼 떨어져 있는 장소로 가기 위해서 3번째 경우가 건전지 사용량이 가장 적으므로 답은 2가 됩니다.</p>\n",
    "\n",
    "<h5>제한 사항</h5>\n",
    "\n",
    "<ul>\n",
    "<li>숫자 N: 1 이상 10억 이하의 자연수</li>\n",
    "<li>숫자 K: 1 이상의 자연수</li>\n",
    "</ul>\n",
    "\n",
    "<h5>입출력 예</h5>\n",
    "<table class=\"table\">\n",
    "        <thead><tr>\n",
    "<th>N</th>\n",
    "<th>result</th>\n",
    "</tr>\n",
    "</thead>\n",
    "        <tbody><tr>\n",
    "<td>5</td>\n",
    "<td>2</td>\n",
    "</tr>\n",
    "<tr>\n",
    "<td>6</td>\n",
    "<td>2</td>\n",
    "</tr>\n",
    "<tr>\n",
    "<td>5000</td>\n",
    "<td>5</td>\n",
    "</tr>\n",
    "</tbody>\n",
    "      </table>\n",
    "<h5>입출력 예 설명</h5>\n",
    "\n",
    "<p>입출력 예 #1<br>\n",
    "위의 예시와 같습니다.</p>\n",
    "\n",
    "<p>입출력 예 #2<br>\n",
    "처음 위치 0 에서 1 칸을 앞으로 점프한 다음 순간이동 하면 (현재까지 온 거리 : 1) x 2에 해당하는 위치로 이동할 수 있으므로 위치 2로 이동합니다. 이때 1 칸을 앞으로 점프하면 위치3으로 이동합니다. 이때 다시 순간이동 하면 (현재까지 온 거리 : 3) x 2 이동할 수 있으므로 위치 6에 도착합니다. 이 경우가 건전지 사용량이 가장 적으므로 2를 반환해주면 됩니다.</p>\n",
    "\n",
    "<p>입출력 예 #3<br>\n",
    "위와 같은 방식으로 합니다.</p>\n",
    "</div>\n",
    "    </div>"
   ]
  },
  {
   "cell_type": "code",
   "execution_count": 7,
   "metadata": {
    "ExecuteTime": {
     "end_time": "2020-10-20T06:25:10.257469Z",
     "start_time": "2020-10-20T06:25:10.234425Z"
    }
   },
   "outputs": [
    {
     "data": {
      "text/plain": [
       "5"
      ]
     },
     "execution_count": 7,
     "metadata": {},
     "output_type": "execute_result"
    }
   ],
   "source": [
    "'''\n",
    "* 최대한 많이 텔레포트를 해야함\n",
    "* 정답에서부터 출발해서 텔레포트로 되돌아가보자\n",
    "50 -> 25 -> (-1) -> 24 -> 12 -> 6 -> 3 -> (-1) -> 2 -> 1 -> (-1) -> 0 = 3\n",
    "\n",
    "5 -> (-1) -> 4 -> 2 -> 1 -> (-1) -> 0 = 2\n",
    "\n",
    "6 -> 3 -> (-1) -> 2 -> 1 -> (-1) -> 0 = 2\n",
    "\n",
    "5000 -> 2500 -> 1250 -> 625 -> (-1) -> 624 -> 312 -> 156 -> 78 -> 39 -> (-1)\n",
    " -> 38 -> 19 -> (-1) -> 18 -> 9 -> (-1) -> 8 -> 4 -> 2 -> 1 -> (-1) -> 0 = 5\n",
    "'''\n",
    "def solution(n):\n",
    "    result = 0\n",
    "    while n:\n",
    "        if n % 2:  # 홀수\n",
    "            n -= 1\n",
    "            result += 1\n",
    "            continue\n",
    "            \n",
    "        n /= 2\n",
    "        \n",
    "    return result\n",
    "        \n",
    "n = 5000\n",
    "solution(n)"
   ]
  }
 ],
 "metadata": {
  "kernelspec": {
   "display_name": "Python 3",
   "language": "python",
   "name": "python3"
  },
  "language_info": {
   "codemirror_mode": {
    "name": "ipython",
    "version": 3
   },
   "file_extension": ".py",
   "mimetype": "text/x-python",
   "name": "python",
   "nbconvert_exporter": "python",
   "pygments_lexer": "ipython3",
   "version": "3.6.10"
  },
  "varInspector": {
   "cols": {
    "lenName": 16,
    "lenType": 16,
    "lenVar": 40
   },
   "kernels_config": {
    "python": {
     "delete_cmd_postfix": "",
     "delete_cmd_prefix": "del ",
     "library": "var_list.py",
     "varRefreshCmd": "print(var_dic_list())"
    },
    "r": {
     "delete_cmd_postfix": ") ",
     "delete_cmd_prefix": "rm(",
     "library": "var_list.r",
     "varRefreshCmd": "cat(var_dic_list()) "
    }
   },
   "types_to_exclude": [
    "module",
    "function",
    "builtin_function_or_method",
    "instance",
    "_Feature"
   ],
   "window_display": false
  }
 },
 "nbformat": 4,
 "nbformat_minor": 4
}
