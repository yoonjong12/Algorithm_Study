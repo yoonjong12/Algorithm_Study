{
 "cells": [
  {
   "attachments": {
    "image.png": {
     "image/png": "[encoded data removed]"
    }
   },
   "cell_type": "markdown",
   "metadata": {},
   "source": [
    "## 1. 록 페스티벌\n",
    "커다란 공연장을 빌려서 록 페스티벌을 개최하려고 합니다. 이 페스티벌은 여러 날 동안 진행되며, 하루에 한 팀의 밴드가 공연장에서 콘서트를 하게 됩니다. 전체 밴드를 몇 팀 섭외할 지는 아직 결정하지 않았지만, 페스티벌의 간판 스타인 L개의 팀은 이미 섭외가 끝난 상태입니다. 따라서 페스티벌은 최소 L일 이상 진행하게 됩니다.\n",
    "\n",
    "이번에 사용할 공연장은 하루 빌리는 데 드는 비용이 매일 매일 다릅니다. 때문에 공연 일정을 잘 정해서 공연장 대여 비용을 줄이려고 합니다. 앞으로 N일간의 공연장 대여 비용을 알고 있다고 합시다. 이 중 L일 이상을 연속해서 대여하되, 공연장을 하루 빌리는 데 드는 평균 비용을 최소화하려면 어떻게 공연장을 빌려야 할까요?\n",
    "\n",
    "예를 들어 앞으로 6일간 공연장을 빌리는 데 드는 비용이 각 {3, 1, 2, 3, 1, 2}라고 합시다. 이미 세 팀을 섭외했다고 하면, 3일 대신 4일 동안 공연을 진행해서 평균 비용을 더 저렴하게 할 수 있습니다. 3일 동안의 평균 대여 비용을 최소화하는 방법은 2일째부터 4일째까지 공연장을 대여하는 것인데, 이 때 하루 평균 (1+2+3)/3 = 2의 비용이 듭니다. 반면 2일째부터 5일째까지 공연장을 대여하면 평균 비용이 (1+2+3+1)/4 = 7/4밖에 되지 않습니다.\n",
    "\n",
    "#### 입력\n",
    "입력의 첫 줄에는 테스트 케이스의 수 C (C ≤ 100)가 주어집니다. 각 테스트 케이스의 첫 줄에는 공연장을 대여할 수 있는 날들의 수 N (1 ≤ N ≤ 1000)과 이미 섭외한 공연 팀의 수 L (1 ≤ L ≤ 1000, L ≤ N)이 주어집니다. 그 다음 줄에는 N개의 숫자로 공연장 대여 비용이 날짜별로 주어집니다. 모든 비용은 100 이하의 자연수입니다.\n",
    "\n",
    "#### 출력\n",
    "입력에 주어지는 각 테스트 케이스마다 한 줄에 최소의 평균 대여 비용을 출력합니다. 10-7 이하의 절대/상대 오차가 있는 답은 정답 처리됩니다.\n",
    "\n",
    "#### 예제 입력\n",
    "2<br>\n",
    "6 3<br>\n",
    "1 2 3 1 2 3 <br>\n",
    "6 2 <br>\n",
    "1 2 3 1 2 3<br>\n",
    "#### 예제 출력\n",
    "1.75000000000<br>\n",
    "1.50000000000<br>\n",
    "\n",
    "## 제출확인\n",
    "![image.png](attachment:image.png)"
   ]
  },
  {
   "cell_type": "code",
   "execution_count": 95,
   "metadata": {},
   "outputs": [
    {
     "name": "stdout",
     "output_type": "stream",
     "text": [
      "1 \n",
      "5 2\n",
      "1 2 3 2 1\n",
      "1.50000000000\n"
     ]
    }
   ],
   "source": [
    "def mean(x):\n",
    "    return sum(x)/len(x)\n",
    "def addValue(average, value, new_size):\n",
    "    return average + ( (value - average) / new_size )\n",
    "\n",
    "for _ in range(int(input())):\n",
    "    N, L = list(map(int, input().split()))\n",
    "    x = list(map(int, input().split()))\n",
    "    minValue = 100\n",
    "\n",
    "    for i in range(N-L+1):\n",
    "        days = x[i:i+L]\n",
    "        size = len(days)\n",
    "        average = mean(days)\n",
    "        if average < minValue : minValue = average\n",
    "        for j in x[i+L:]:\n",
    "            size += 1\n",
    "            average = addValue(average, j, size)\n",
    "            if average < minValue : minValue = average\n",
    "    print(format(minValue,\".11f\"))"
   ]
  },
  {
   "cell_type": "markdown",
   "metadata": {},
   "source": [
    "## 2. 소풍\n",
    "\n",
    "안드로메다 유치원 익스프레스반에서는 다음 주에 율동공원으로 소풍을 갑니다. 원석 선생님은 소풍 때 학생들을 두 명씩 짝을 지어 행동하게 하려고 합니다. 그런데 서로 친구가 아닌 학생들끼리 짝을 지어 주면 서로 싸우거나 같이 돌아다니지 않기 때문에, 항상 서로 친구인 학생들끼리만 짝을 지어 줘야 합니다.\n",
    "\n",
    "각 학생들의 쌍에 대해 이들이 서로 친구인지 여부가 주어질 때, 학생들을 짝지어줄 수 있는 방법의 수를 계산하는 프로그램을 작성하세요. 짝이 되는 학생들이 일부만 다르더라도 다른 방법이라고 봅니다. 예를 들어 다음 두 가지 방법은 서로 다른 방법입니다.\n",
    "\n",
    "(태연,제시카) (써니,티파니) (효연,유리) <br>\n",
    "(태연,제시카) (써니,유리) (효연,티파니)\n",
    " \n",
    "#### 입력\n",
    "\n",
    "입력의 첫 줄에는 테스트 케이스의 수 C (C <= 50) 가 주어집니다. 각 테스트 케이스의 첫 줄에는 학생의 수 n (2 <= n <= 10) 과 친구 쌍의 수 m (0 <= m <= n*(n-1)/2) 이 주어집니다. 그 다음 줄에 m 개의 정수 쌍으로 서로 친구인 두 학생의 번호가 주어집니다. 번호는 모두 0 부터 n-1 사이의 정수이고, 같은 쌍은 입력에 두 번 주어지지 않습니다. 학생들의 수는 짝수입니다.\n",
    "\n",
    "#### 출력\n",
    "각 테스트 케이스마다 한 줄에 모든 학생을 친구끼리만 짝지어줄 수 있는 방법의 수를 출력합니다.\n",
    "\n",
    "#### 예제 입력\n",
    "3 <br>\n",
    "2 1 <br>\n",
    "0 1 <br>\n",
    "4 6 <br>\n",
    "0 1 1 2 2 3 3 0 0 2 1 3 <br>\n",
    "6 10 <br>\n",
    "0 1 0 2 1 2 1 3 1 4 2 3 2 4 3 4 3 5 4 5 <br>\n",
    "#### 예제 출력\n",
    "1 <br>\n",
    "3<br>\n",
    "4<br>"
   ]
  },
  {
   "cell_type": "code",
   "execution_count": 577,
   "metadata": {},
   "outputs": [
    {
     "name": "stdout",
     "output_type": "stream",
     "text": [
      "3\n",
      "2 1\n",
      "0 1\n",
      "4 6\n",
      "0 1 1 2 2 3 3 0 0 2 1 3\n",
      "6 10\n",
      "0 1 0 2 1 2 1 3 1 4 2 3 2 4 3 4 3 5 4 5\n",
      "1\n",
      "3\n",
      "4\n"
     ]
    }
   ],
   "source": [
    "# 2개씩 묶기\n",
    "def group(x):\n",
    "    return [sorted([i,j]) for i,j in zip(x[::2],x[1::2])]\n",
    "# 토큰과 리스트 중복 비교\n",
    "def check(x, li):\n",
    "    for i in li:\n",
    "    # 만약 start토큰과 중복되면길이의 차이가 발생함\n",
    "        if len([j for j in x if j not in i]) == len(x):\n",
    "            # 토큰에 한 짝 추가\n",
    "            x += i\n",
    "            # whitelist에서도 중복방지를 위해 삭제\n",
    "            li.remove(i)\n",
    "    return x, li\n",
    "\n",
    "count_li = []\n",
    "for _ in range(int(input())):\n",
    "    n, m = list(map(int, input().split()))\n",
    "    total_list = sorted(group(input().split()),key=lambda x:x[0])\n",
    "    start_tokens = [i for i in total_list if i[0] == '0']\n",
    "    count = 0\n",
    "\n",
    "    for start in start_tokens:\n",
    "        whitelist = total_list[len(start_tokens):]\n",
    "\n",
    "        # 조합이 여러개일 수 있음\n",
    "        for _ in range(m):\n",
    "            # 검사\n",
    "            start, whitelist = check(start, whitelist)\n",
    "            # 조합이 완성되면 1카운트 추가\n",
    "            if len(start) == n:\n",
    "                count += 1\n",
    "            # 다시 첫 스타트로 복귀\n",
    "            start = start[:2]\n",
    "    count_li.append(count)\n",
    "\n",
    "for i in count_li:\n",
    "    print(i)"
   ]
  },
  {
   "cell_type": "markdown",
   "metadata": {},
   "source": [
    "# 3. 보드덮기\n",
    "\n",
    "H*W 크기의 게임판이 있습니다. 게임판은 검은 칸과 흰 칸으로 구성된 격자 모양을 하고 있는데 이 중 모든 흰 칸을 3칸짜리 L자 모양의 블록으로 덮고 싶습니다. 이 때 블록들은 자유롭게 회전해서 놓을 수 있지만, 서로 겹치거나, 검은 칸을 덮거나, 게임판 밖으로 나가서는 안 됩니다. 위 그림은 한 게임판과 이를 덮는 방법을 보여줍니다.\n",
    "\n",
    "게임판이 주어질 때 이를 덮는 방법의 수를 계산하는 프로그램을 작성하세요.\n",
    "\n",
    "#### 입력\n",
    "력의 첫 줄에는 테스트 케이스의 수 C (C <= 30) 가 주어집니다. 각 테스트 케이스의 첫 줄에는 2개의 정수 H, W (1 <= H,W <= 20) 가 주어집니다. 다음 H 줄에 각 W 글자로 게임판의 모양이 주어집니다. # 은 검은 칸, . 는 흰 칸을 나타냅니다. 입력에 주어지는 게임판에 있는 흰 칸의 수는 50 을 넘지 않습니다.\n",
    "\n",
    "#### 출력\n",
    "한 줄에 하나씩 흰 칸을 모두 덮는 방법의 수를 출력합니다.\n",
    "\n",
    "#### 예제 입력\n",
    "3 <br>\n",
    "3 7 <br>\n",
    "#.....# \n",
    "#.....#\n",
    "##...## \n",
    "3 7 <br>\n",
    "#.....# <br>\n",
    "#.....# <br>\n",
    "##..### <br>\n",
    "8 10 <br>\n",
    "########## <br> \n",
    "#........# <br>\n",
    "#........# <br>\n",
    "#........# <br>\n",
    "#........# <br>\n",
    "#........# <br>\n",
    "#........# <br>\n",
    "########## <br>\n",
    "#### 예제 출력\n",
    "0 <br>\n",
    "2<br>\n",
    "1514 <br>\n"
   ]
  },
  {
   "cell_type": "code",
   "execution_count": 6,
   "metadata": {},
   "outputs": [
    {
     "name": "stdout",
     "output_type": "stream",
     "text": [
      "#.....#\n",
      "#.....#\n",
      "##...## \n"
     ]
    }
   ],
   "source": [
    "#.....#\n",
    "#.....#\n",
    "##...## "
   ]
  },
  {
   "cell_type": "code",
   "execution_count": 21,
   "metadata": {},
   "outputs": [
    {
     "name": "stdout",
     "output_type": "stream",
     "text": [
      "3\n",
      "7\n"
     ]
    }
   ],
   "source": [
    "# h,w만큼 새로운 보드판 초기화\n",
    "def buildBoard(h,w):\n",
    "    board = []\n",
    "    for i in range(h):\n",
    "        row = input()\n",
    "        board.append(row)\n",
    "    return board\n",
    "\n",
    "# 맨 왼쪽 위부터 하얀색 점을 찾아서 좌표를 리턴 \n",
    "# 없다면 False\n",
    "def searchStartPoint(x):\n",
    "    for i in range(len(x)):\n",
    "        if '.' in x[i]:\n",
    "            return i, x[i].index('.')\n",
    "    return 'finished', _ # False  -> index 0 if not search -> index 0 \n",
    "\n",
    "# 하얀색인지 이미 채워진 검정색인지 판별\n",
    "def isWhite(point):\n",
    "    if point == '#':\n",
    "        return False\n",
    "    else:\n",
    "        return True\n",
    "\n",
    "\n",
    "global BLOCKTYPE\n",
    "BLOCKTYPE = [\n",
    "    [[0,1],[1,0]],# 3시, 6시 \n",
    "    [[0,1],[1,1]],# 3시, 5시 \n",
    "    [[1,1],[1,0]],# 5시, 6시 \n",
    "    [[1,1],[1,-1]],# 6시, 7시  \n",
    "]\n",
    "# board = buildBoard(3, 7)\n",
    "\n",
    "inp_board = [\n",
    "'#.....#',\n",
    "'#.....#',\n",
    "'##..###'\n",
    "]\n",
    "board = [[i for i in row] for row in inp_board]\n",
    "\n",
    "typenum= 0 \n",
    "print(len(board))\n",
    "print(len(board[0]))\n",
    "def cover(board, type_num):\n",
    "    x,y = searchStartPoint(board)\n",
    "    # True, x와 y가 보드를 넘지 않음\n",
    "    if x != 'finished' and  x <= len(board) and y <= len(board[0]):\n",
    "\n",
    "        # 보드 타입을 하나씩 확인\n",
    "        for t in range(type_num,len(BLOCKTYPE)):\n",
    "        # 색칠할 블록 방향 2개 -> a와 b\n",
    "            a_x, a_y = x+BLOCKTYPE[t][0][0], y+BLOCKTYPE[t][0][1]\n",
    "            b_x, b_y = x+BLOCKTYPE[t][1][0], y+BLOCKTYPE[t][1][1]\n",
    "            \n",
    "            # a블록과 b블록이 하얀색이고, b좌표가 -1이 아님\n",
    "            if isWhite(board[a_x][a_y]) and isWhite(board[b_x][b_y]) and b_y >= 0:\n",
    "                \n",
    "                # 기존 보드 복사\n",
    "                new_board = [[i for i in row] for row in board]\n",
    "                # 까맣게 칠하기\n",
    "                new_board[x][y] = '#'\n",
    "                new_board[a_x][a_y] = '#'\n",
    "                new_board[b_x][b_y] = '#'  \n",
    "                # 칠하고 나서 더 칠할 것이 남았나?\n",
    "                new_x, new_y = searchStartPoint(new_board)\n",
    "                if new_x == 'finished':             \n",
    "                    print('s:',x,y)\n",
    "                    print('a:',a_x,a_y)\n",
    "                    print('b:',b_x,b_y)\n",
    "                    print('old') \n",
    "                    for b in board:\n",
    "                        print(b)\n",
    "                    print('new')\n",
    "                    for b in new_board:\n",
    "                        print(b)     \n",
    "                    print('#########')                 \n",
    "                    break\n",
    "                    \n",
    "                cover(new_board,0)\n",
    "\n"
   ]
  },
  {
   "cell_type": "code",
   "execution_count": 22,
   "metadata": {
    "scrolled": false
   },
   "outputs": [
    {
     "name": "stdout",
     "output_type": "stream",
     "text": [
      "s: 1 2\n",
      "a: 2 3\n",
      "b: 2 2\n",
      "old\n",
      "['#', '#', '#', '#', '#', '#', '#']\n",
      "['#', '#', '.', '#', '#', '#', '#']\n",
      "['#', '#', '.', '.', '#', '#', '#']\n",
      "new\n",
      "['#', '#', '#', '#', '#', '#', '#']\n",
      "['#', '#', '#', '#', '#', '#', '#']\n",
      "['#', '#', '#', '#', '#', '#', '#']\n",
      "#########\n"
     ]
    }
   ],
   "source": [
    "count = 0\n",
    "cover([list(i) for i in board], 0)"
   ]
  }
 ],
 "metadata": {
  "kernelspec": {
   "display_name": "Python 3",
   "language": "python",
   "name": "python3"
  },
  "language_info": {
   "codemirror_mode": {
    "name": "ipython",
    "version": 3
   },
   "file_extension": ".py",
   "mimetype": "text/x-python",
   "name": "python",
   "nbconvert_exporter": "python",
   "pygments_lexer": "ipython3",
   "version": "3.6.9"
  }
 },
 "nbformat": 4,
 "nbformat_minor": 4
}
