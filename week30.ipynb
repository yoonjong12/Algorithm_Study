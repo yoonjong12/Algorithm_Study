{
 "cells": [
  {
   "cell_type": "markdown",
   "metadata": {},
   "source": [
    "# 가장 긴 팰린드롬\n",
    "앞뒤를 뒤집어도 똑같은 문자열을 팰린드롬(palindrome)이라고 합니다.<br>\n",
    "문자열 s가 주어질 때, s의 부분문자열(Substring)중 가장 긴 팰린드롬의 길이를 return 하는 solution 함수를 완성해 주세요.</p>\n",
    "\n",
    "<p>예를들면, 문자열 s가 <q>abcdcba</q>이면 7을 return하고 <q>abacde</q>이면 3을 return합니다.</p>\n",
    "\n",
    "<h5>제한사항</h5>\n",
    "\n",
    "<ul>\n",
    "<li>문자열 s의 길이 : 2,500 이하의 자연수</li>\n",
    "<li>문자열 s는 알파벳 소문자로만 구성</li>\n",
    "</ul>\n",
    "\n",
    "<hr>\n",
    "\n",
    "<h5>입출력 예</h5>\n",
    "<table class=\"table\">\n",
    "        <thead><tr>\n",
    "<th>s</th>\n",
    "<th>answer</th>\n",
    "</tr>\n",
    "</thead>\n",
    "        <tbody><tr>\n",
    "<td><q>abcdcba</q></td>\n",
    "<td>7</td>\n",
    "</tr>\n",
    "<tr>\n",
    "<td><q>abacde</q></td>\n",
    "<td>3</td>\n",
    "</tr>\n",
    "</tbody>\n",
    "      </table>\n",
    "<h5>입출력 예 설명</h5>\n",
    "\n",
    "<p>입출력 예 #1<br>\n",
    "4번째자리 'd'를 기준으로 문자열 s 전체가 팰린드롬이 되므로 7을 return합니다.</p>\n",
    "\n",
    "<p>입출력 예 #2<br>\n",
    "2번째자리 'b'를 기준으로 <q>aba</q>가 팰린드롬이 되므로 3을 return합니다.</p>\n",
    "</div>\n",
    "    </div>\n",
    "\n",
    "  </div>"
   ]
  },
  {
   "attachments": {
    "3.PNG": {
     "image/png": "[encoded data removed]"
    }
   },
   "cell_type": "markdown",
   "metadata": {},
   "source": [
    "![3.PNG](attachment:3.PNG)\n",
    "```\n",
    "0 -> [:len]\n",
    "1 -> [0:len-1], [1:len]\n",
    "2 -> [0:len-2], [1:len-1], [2:len]\n",
    "\n",
    "```"
   ]
  },
  {
   "cell_type": "code",
   "execution_count": 65,
   "metadata": {
    "ExecuteTime": {
     "end_time": "2020-10-05T04:55:03.093906Z",
     "start_time": "2020-10-05T04:55:03.062750Z"
    }
   },
   "outputs": [
    {
     "data": {
      "text/plain": [
       "2"
      ]
     },
     "execution_count": 65,
     "metadata": {},
     "output_type": "execute_result"
    }
   ],
   "source": [
    "'''\n",
    "IDEA: 가장 큰 window부터 시작해서 점점 좁혀나가자\n",
    "1. 현재 크기로 만들 수 있는 모든 윈도우의 리스트 windows를 만든다\n",
    "    1-1. 윈도우는 문자열 슬라이싱할 인덱스 쌍이다\n",
    "    1-2. 맨 왼쪽이 0부터 시작하고, 맨 오른쪽은 윈도우 사이즈를 의미하는 문자열 길이-이동 거리이다\n",
    "    1-3. 이동 거리만큼 왼쪽과 오른쪽 모두 1씩 증가하면서 윈도우를 하나씩 만들어나간다\n",
    "2. 모든 윈도우를 순회하면서 substring을 만들고 검사한다\n",
    "3. 매치되는 순간 해당 substring의 길이를 반환한다\n",
    "'''\n",
    "def solution(s):\n",
    "    length = len(s) + 1\n",
    "    idx = 1\n",
    "    \n",
    "    while idx < length-1:\n",
    "        windows = ([left, right] for left, right in zip(range(idx), range(length-idx, length)))\n",
    "        \n",
    "        for left, right in windows:\n",
    "            substr = s[left:right]\n",
    "            if substr == substr[::-1]:\n",
    "                return right-left\n",
    "\n",
    "        idx += 1\n",
    "        \n",
    "    return 1"
   ]
  },
  {
   "cell_type": "markdown",
   "metadata": {},
   "source": [
    "# 정수 삼각형\n",
    "<div class=\"guide-section-description\">\n",
    "      <h6 class=\"guide-section-title\">문제 설명</h6>\n",
    "      <div class=\"markdown solarized-dark\"><p><img src=\"https://grepp-programmers.s3.amazonaws.com/files/production/97ec02cc39/296a0863-a418-431d-9e8c-e57f7a9722ac.png\" title=\"\" alt=\"스크린샷 2018-09-14 오후 5.44.19.png\"></p>\n",
    "\n",
    "<p>위와 같은 삼각형의 꼭대기에서 바닥까지 이어지는 경로 중, 거쳐간 숫자의 합이 가장 큰 경우를 찾아보려고 합니다. 아래 칸으로 이동할 때는 대각선 방향으로 한 칸 오른쪽 또는 왼쪽으로만 이동 가능합니다. 예를 들어 3에서는 그 아래칸의 8 또는 1로만 이동이 가능합니다.</p>\n",
    "\n",
    "<p>삼각형의 정보가 담긴 배열 triangle이 매개변수로 주어질 때, 거쳐간 숫자의 최댓값을 return 하도록 solution 함수를 완성하세요.</p>\n",
    "\n",
    "<h5>제한사항</h5>\n",
    "\n",
    "<ul>\n",
    "<li>삼각형의 높이는 1 이상 500 이하입니다.</li>\n",
    "<li>삼각형을 이루고 있는 숫자는 0 이상 9,999 이하의 정수입니다.</li>\n",
    "</ul>\n",
    "\n",
    "<h5>입출력 예</h5>\n",
    "<table class=\"table\">\n",
    "        <thead><tr>\n",
    "<th>triangle</th>\n",
    "<th>result</th>\n",
    "</tr>\n",
    "</thead>\n",
    "        <tbody><tr>\n",
    "<td>[[7], [3, 8], [8, 1, 0], [2, 7, 4, 4], [4, 5, 2, 6, 5]]</td>\n",
    "<td>30</td>\n",
    "</tr>\n",
    "</tbody>\n",
    "      </table>\n",
    "<p><a href=\"http://stats.ioinformatics.org/countries/SWE\" target=\"_blank\" rel=\"noopener\">출처</a></p>\n",
    "</div>\n",
    "    </div>"
   ]
  },
  {
   "cell_type": "code",
   "execution_count": 2,
   "metadata": {
    "ExecuteTime": {
     "end_time": "2020-10-11T02:50:20.822078Z",
     "start_time": "2020-10-11T02:50:20.781795Z"
    }
   },
   "outputs": [
    {
     "data": {
      "text/plain": [
       "30"
      ]
     },
     "execution_count": 2,
     "metadata": {},
     "output_type": "execute_result"
    }
   ],
   "source": [
    "'''\n",
    "1. out of range 에러를 피하기 위해 가장자리에 0을 붙인다\n",
    "2. 매 층, 모든 노드를 순회하면서 해당 노드의 왼쪽 위와 오른쪽 위를 받아온다\n",
    "3. 맨 왼쪽이면 오른쪽, 맨 오른쪽이면 왼쪽으로 이 외는 둘 중 큰 수로 정한다\n",
    "4. 해당 값을 현재 triangle 노드에 저장한다 이는 현재 노드까지 만들 수 있는 가장 큰 수가 된다\n",
    "5. 마지막 층에서 max값을 리턴한다\n",
    "'''\n",
    "def solution(triangle):\n",
    "    max_height = len(triangle)\n",
    "    triangle = [[0] + x + [0] for x in triangle]\n",
    "    \n",
    "    for floor in range(max_height):\n",
    "        width = floor+2\n",
    "        \n",
    "        for idx in range(width):\n",
    "            if not floor:  # 1층\n",
    "                continue\n",
    "                \n",
    "            left = triangle[floor-1][idx-1]\n",
    "            right = triangle[floor-1][idx]\n",
    "\n",
    "            # 맨 왼쪽\n",
    "            if idx == 1: \n",
    "                triangle[floor][idx] += right\n",
    "            # 맨 오른쪽\n",
    "            elif idx == width:\n",
    "                triangle[floor][idx] += left\n",
    "            # 둘 중 큰 쪽 선택\n",
    "            else:\n",
    "                triangle[floor][idx] += max(left, right)\n",
    "                \n",
    "    return max(triangle[-1])\n",
    "                \n",
    "triangle = [[7], [3, 8], [8, 1, 0], [2, 7, 4, 4], [4, 5, 2, 6, 5]]\n",
    "# triangle = [[7]]\n",
    "# triangle = [[7], [3, 8]]\n",
    "\n",
    "solution(triangle)"
   ]
  }
 ],
 "metadata": {
  "kernelspec": {
   "display_name": "Python 3",
   "language": "python",
   "name": "python3"
  },
  "language_info": {
   "codemirror_mode": {
    "name": "ipython",
    "version": 3
   },
   "file_extension": ".py",
   "mimetype": "text/x-python",
   "name": "python",
   "nbconvert_exporter": "python",
   "pygments_lexer": "ipython3",
   "version": "3.6.10"
  },
  "varInspector": {
   "cols": {
    "lenName": 16,
    "lenType": 16,
    "lenVar": 40
   },
   "kernels_config": {
    "python": {
     "delete_cmd_postfix": "",
     "delete_cmd_prefix": "del ",
     "library": "var_list.py",
     "varRefreshCmd": "print(var_dic_list())"
    },
    "r": {
     "delete_cmd_postfix": ") ",
     "delete_cmd_prefix": "rm(",
     "library": "var_list.r",
     "varRefreshCmd": "cat(var_dic_list()) "
    }
   },
   "types_to_exclude": [
    "module",
    "function",
    "builtin_function_or_method",
    "instance",
    "_Feature"
   ],
   "window_display": false
  }
 },
 "nbformat": 4,
 "nbformat_minor": 4
}
