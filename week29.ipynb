{
 "cells": [
  {
   "cell_type": "markdown",
   "metadata": {},
   "source": [
    "# 2*n 타일링\n",
    "\n",
    "<div class=\"guide-section-description\">\n",
    "      <h6 class=\"guide-section-title\">문제 설명</h6>\n",
    "      <div class=\"markdown solarized-dark\"><p>가로 길이가 2이고 세로의 길이가 1인 직사각형모양의 타일이 있습니다. 이 직사각형 타일을 이용하여 세로의 길이가 2이고 가로의 길이가 n인 바닥을 가득 채우려고 합니다. 타일을 채울 때는 다음과 같이 2가지 방법이 있습니다.</p>\n",
    "\n",
    "<ul>\n",
    "<li>타일을 가로로 배치 하는 경우</li>\n",
    "<li>타일을 세로로 배치 하는 경우</li>\n",
    "</ul>\n",
    "\n",
    "<p>예를들어서 n이 7인 직사각형은 다음과 같이 채울 수 있습니다.</p>\n",
    "\n",
    "<p><img src=\"https://i.imgur.com/29ANX0f.png\" title=\"\" alt=\"Imgur\"></p>\n",
    "\n",
    "<p>직사각형의 가로의 길이 n이 매개변수로 주어질 때, 이 직사각형을 채우는 방법의 수를 return 하는 solution 함수를 완성해주세요.</p>\n",
    "\n",
    "<h5>제한사항</h5>\n",
    "\n",
    "<ul>\n",
    "<li>가로의 길이 n은 60,000이하의 자연수 입니다.</li>\n",
    "<li>경우의 수가 많아 질 수 있으므로, 경우의 수를 1,000,000,007으로 나눈 나머지를 return해주세요.</li>\n",
    "</ul>\n",
    "\n",
    "<hr>\n",
    "\n",
    "<h5>입출력 예</h5>\n",
    "<table class=\"table\">\n",
    "        <thead><tr>\n",
    "<th>n</th>\n",
    "<th>result</th>\n",
    "</tr>\n",
    "</thead>\n",
    "        <tbody><tr>\n",
    "<td>4</td>\n",
    "<td>5</td>\n",
    "</tr>\n",
    "</tbody>\n",
    "      </table>\n",
    "<h5>입출력 예 설명</h5>\n",
    "\n",
    "<p>입출력 예 #1<br>\n",
    "다음과 같이 5가지 방법이 있다.</p>\n",
    "\n",
    "<p><img src=\"https://i.imgur.com/keiKrD3.png\" title=\"\" alt=\"Imgur\"></p>\n",
    "\n",
    "<p><img src=\"https://i.imgur.com/O9GdTE0.png\" title=\"\" alt=\"Imgur\"></p>\n",
    "\n",
    "<p><img src=\"https://i.imgur.com/IZBmc6M.png\" title=\"\" alt=\"Imgur\"></p>\n",
    "\n",
    "<p><img src=\"https://i.imgur.com/29LWVzK.png\" title=\"\" alt=\"Imgur\"></p>\n",
    "\n",
    "<p><img src=\"https://i.imgur.com/z64JbNf.png\" title=\"\" alt=\"Imgur\"></p>\n",
    "</div>\n",
    "    </div>"
   ]
  },
  {
   "cell_type": "markdown",
   "metadata": {},
   "source": [
    "n+1, n+2\n",
    "\n",
    "1 : | \n",
    "2 : ||, =\n",
    "3 : |||, =|, |=\n",
    "4 : ||||, =||, |=|, ||=, ==\n",
    "5 : |||||, =|||, |=||, ||=|, |||=, ==|, |==\n",
    "6 : ||||||, =||||, |=|||, ||=||, |||=|, ||||=, ==||, =|=|, =||=, |=|=, ||==\n",
    "1 2 3 5 7 11\n",
    "    \n",
    "1 : | * 1  \n",
    "2 : | * 2, = * 1\n",
    "3 : | * 3, = * 1   \n",
    "4 : | * 4, = * 2\n",
    "5 : | * 5, = * 2\n",
    "    "
   ]
  },
  {
   "cell_type": "markdown",
   "metadata": {},
   "source": [
    "* 1: 1 - 세로\n",
    "* 2: 2 - 세로, 이전 거에서 빼고 가로 1개\n",
    "* 3: 3 - 세로2개, 이전 거에서 빼고 가로 \n",
    "* 4: 5 - 세로3개, 이전 거에서 빼고 가로 2개\n",
    "\n",
    "* 2칸 전에서, 1칸 전에서 올 수 있음\n",
    "\n",
    "n =  n-2 + n-1"
   ]
  },
  {
   "cell_type": "code",
   "execution_count": 4,
   "metadata": {
    "ExecuteTime": {
     "end_time": "2020-09-21T11:16:21.097785Z",
     "start_time": "2020-09-21T11:16:21.077314Z"
    }
   },
   "outputs": [
    {
     "data": {
      "text/plain": [
       "5"
      ]
     },
     "execution_count": 4,
     "metadata": {},
     "output_type": "execute_result"
    }
   ],
   "source": [
    "'''\n",
    "재귀를 쓸 때 \n",
    "\n",
    "'''\n",
    "def solution(n):\n",
    "    def recur(n):\n",
    "        if n <= 2:\n",
    "            return 1\n",
    "        \n",
    "        return recur(n-2) + recur(n-1)\n",
    "    \n",
    "    return recur(n+1) % 1000000007\n",
    "    \n",
    "solution(4)"
   ]
  },
  {
   "cell_type": "code",
   "execution_count": 19,
   "metadata": {
    "ExecuteTime": {
     "end_time": "2020-09-21T11:23:11.858175Z",
     "start_time": "2020-09-21T11:23:11.830946Z"
    }
   },
   "outputs": [
    {
     "data": {
      "text/plain": [
       "5"
      ]
     },
     "execution_count": 19,
     "metadata": {},
     "output_type": "execute_result"
    }
   ],
   "source": [
    "'''\n",
    "DP를 쓸 때\n",
    "-> 효율성을 통과 못함\n",
    "'''\n",
    "from collections import defaultdict\n",
    "\n",
    "def solution(n):\n",
    "    def dp(n):\n",
    "        if n == 1:\n",
    "            return 1\n",
    "        if n == 2:\n",
    "            return 2\n",
    "        \n",
    "        if cache[n]:\n",
    "            return cache[n]\n",
    "        \n",
    "        cache[n] = dp(n-2) + dp(n-1)\n",
    "        return cache[n]\n",
    "    \n",
    "    cache = defaultdict(int)\n",
    "    return dp(n) % 1000000007\n",
    "    \n",
    "solution(4)"
   ]
  },
  {
   "cell_type": "markdown",
   "metadata": {},
   "source": [
    "1, 1   1\n",
    " , 2   2\n",
    " , 3   3\n",
    " , 5   4 \n",
    " , 8   5\n",
    "\n"
   ]
  },
  {
   "cell_type": "code",
   "execution_count": 28,
   "metadata": {
    "ExecuteTime": {
     "end_time": "2020-09-21T11:41:57.452511Z",
     "start_time": "2020-09-21T11:41:57.430399Z"
    }
   },
   "outputs": [
    {
     "data": {
      "text/plain": [
       "5"
      ]
     },
     "execution_count": 28,
     "metadata": {},
     "output_type": "execute_result"
    }
   ],
   "source": [
    "'''\n",
    "다른 풀이\n",
    "\n",
    "'''\n",
    "def solution(n):\n",
    "    x, y = 1, 1\n",
    "    \n",
    "    for _ in range(n):\n",
    "        temp_x = x\n",
    "        temp_y = y\n",
    "        x = temp_y\n",
    "        y += temp_x\n",
    "    \n",
    "    return x % 1000000007\n",
    "\n",
    "solution(4)\n"
   ]
  },
  {
   "cell_type": "markdown",
   "metadata": {},
   "source": [
    "# 등굣길\n",
    "<div class=\"guide-section-description\">\n",
    "      <h6 class=\"guide-section-title\">문제 설명</h6>\n",
    "      <div class=\"markdown solarized-dark\"><p>계속되는 폭우로 일부 지역이 물에 잠겼습니다. 물에 잠기지 않은 지역을 통해 학교를 가려고 합니다. 집에서 학교까지 가는 길은 m x n 크기의 격자모양으로 나타낼 수 있습니다. </p>\n",
    "\n",
    "<p>아래 그림은 m = 4, n = 3 인 경우입니다.</p>\n",
    "\n",
    "<p><img src=\"https://grepp-programmers.s3.amazonaws.com/files/ybm/056f54e618/f167a3bc-e140-4fa8-a8f8-326a99e0f567.png\" title=\"\" alt=\"image0.png\"></p>\n",
    "\n",
    "<p>가장 왼쪽 위, 즉 집이 있는 곳의 좌표는 (1, 1)로 나타내고 가장 오른쪽 아래, 즉 학교가 있는 곳의 좌표는 (m, n)으로 나타냅니다. </p>\n",
    "\n",
    "<p>격자의 크기 m, n과 물이 잠긴 지역의 좌표를 담은 2차원 배열 puddles이 매개변수로 주어집니다. <strong>오른쪽과 아래쪽으로만 움직여</strong> 집에서 학교까지 갈 수 있는 최단경로의 개수를 1,000,000,007로 나눈 나머지를 return 하도록 solution 함수를 작성해주세요.</p>\n",
    "\n",
    "<h5>제한사항</h5>\n",
    "\n",
    "<ul>\n",
    "<li>격자의 크기 m, n은 1 이상 100 이하인 자연수입니다.\n",
    "\n",
    "<ul>\n",
    "<li>m과 n이 모두 1인 경우는 입력으로 주어지지 않습니다.</li>\n",
    "</ul></li>\n",
    "<li>물에 잠긴 지역은 0개 이상 10개 이하입니다.</li>\n",
    "<li>집과 학교가 물에 잠긴 경우는 입력으로 주어지지 않습니다.</li>\n",
    "</ul>\n",
    "\n",
    "<h5>입출력 예</h5>\n",
    "<table class=\"table\">\n",
    "        <thead><tr>\n",
    "<th>m</th>\n",
    "<th>n</th>\n",
    "<th>puddles</th>\n",
    "<th>return</th>\n",
    "</tr>\n",
    "</thead>\n",
    "        <tbody><tr>\n",
    "<td>4</td>\n",
    "<td>3</td>\n",
    "<td>[[2, 2]]</td>\n",
    "<td>4</td>\n",
    "</tr>\n",
    "</tbody>\n",
    "      </table>\n",
    "<h5>입출력 예 설명</h5>\n",
    "\n",
    "<p><img src=\"https://grepp-programmers.s3.amazonaws.com/files/ybm/32c67958d5/729216f3-f305-4ad1-b3b0-04c2ba0b379a.png\" title=\"\" alt=\"image1.png\"></p>\n",
    "</div>\n",
    "    </div>"
   ]
  },
  {
   "cell_type": "markdown",
   "metadata": {},
   "source": [
    "현재 지점까지 오는 경우 = 왼쪽 지점 경우 + 위쪽 지점 경우"
   ]
  },
  {
   "cell_type": "code",
   "execution_count": 28,
   "metadata": {
    "ExecuteTime": {
     "end_time": "2020-09-23T14:14:07.015163Z",
     "start_time": "2020-09-23T14:14:06.969135Z"
    }
   },
   "outputs": [
    {
     "name": "stdout",
     "output_type": "stream",
     "text": [
      "[0, 0, 0, 0, 0]\n",
      "[0, 1, 0, 0, 0]\n",
      "[0, 0, -1, 0, 0]\n",
      "[0, 0, 0, 0, 0]\n"
     ]
    },
    {
     "data": {
      "text/plain": [
       "4"
      ]
     },
     "execution_count": 28,
     "metadata": {},
     "output_type": "execute_result"
    }
   ],
   "source": [
    "def solution(m, n, puddles):\n",
    "    board = [[0] * (m+1) for _ in range(n+1)]\n",
    "    board[1][1] = 1\n",
    "    for col, row in puddles:\n",
    "        board[row][col] = -1\n",
    "        \n",
    "    for row in range(1, n+1):\n",
    "        for col in range(1, m+1):\n",
    "            # 시작지점이거나 물웅덩이면 continue\n",
    "            if (row == 1 and col == 1) or board[row][col] == -1:\n",
    "                continue\n",
    "\n",
    "            left = board[row][col-1] \n",
    "            left = left if left != -1 else 0\n",
    "            up = board[row-1][col]\n",
    "            up = up if up != -1 else 0\n",
    "\n",
    "            board[row][col] += left + up\n",
    "    \n",
    "    return board[-1][-1] % 1000000007\n",
    "\n",
    "n = 3\n",
    "m = 4\n",
    "puddles = [[1, 2]]\n",
    "solution(m, n, puddles)"
   ]
  },
  {
   "cell_type": "markdown",
   "metadata": {
    "ExecuteTime": {
     "end_time": "2020-09-25T13:53:51.623628Z",
     "start_time": "2020-09-25T13:53:51.588661Z"
    }
   },
   "source": [
    "# 3. 보드덮기\n",
    "\n",
    "H*W 크기의 게임판이 있습니다. 게임판은 검은 칸과 흰 칸으로 구성된 격자 모양을 하고 있는데 이 중 모든 흰 칸을 3칸짜리 L자 모양의 블록으로 덮고 싶습니다. 이 때 블록들은 자유롭게 회전해서 놓을 수 있지만, 서로 겹치거나, 검은 칸을 덮거나, 게임판 밖으로 나가서는 안 됩니다. 위 그림은 한 게임판과 이를 덮는 방법을 보여줍니다.\n",
    "\n",
    "게임판이 주어질 때 이를 덮는 방법의 수를 계산하는 프로그램을 작성하세요.\n",
    "\n",
    "#### 입력\n",
    "력의 첫 줄에는 테스트 케이스의 수 C (C <= 30) 가 주어집니다. 각 테스트 케이스의 첫 줄에는 2개의 정수 H, W (1 <= H,W <= 20) 가 주어집니다. 다음 H 줄에 각 W 글자로 게임판의 모양이 주어집니다. # 은 검은 칸, . 는 흰 칸을 나타냅니다. 입력에 주어지는 게임판에 있는 흰 칸의 수는 50 을 넘지 않습니다.\n",
    "\n",
    "#### 출력\n",
    "한 줄에 하나씩 흰 칸을 모두 덮는 방법의 수를 출력합니다.\n",
    "\n",
    "#### 예제 입력\n",
    "3 <br>\n",
    "3 7 <br>\n",
    "#.....# \n",
    "#.....#\n",
    "##...## \n",
    "3 7 <br>\n",
    "#.....# <br>\n",
    "#.....# <br>\n",
    "##..### <br>\n",
    "8 10 <br>\n",
    "########## <br> \n",
    "#........# <br>\n",
    "#........# <br>\n",
    "#........# <br>\n",
    "#........# <br>\n",
    "#........# <br>\n",
    "#........# <br>\n",
    "########## <br>\n",
    "#### 예제 출력\n",
    "0 <br>\n",
    "2<br>\n",
    "1514 <br>\n"
   ]
  },
  {
   "cell_type": "code",
   "execution_count": 6,
   "metadata": {
    "ExecuteTime": {
     "end_time": "2020-09-27T01:55:25.839094Z",
     "start_time": "2020-09-27T01:55:22.592973Z"
    }
   },
   "outputs": [
    {
     "name": "stdout",
     "output_type": "stream",
     "text": [
      "0\n",
      "2\n",
      "1514\n"
     ]
    }
   ],
   "source": [
    "def test_data():\n",
    "    yield '3'\n",
    "    yield '3 7'\n",
    "    yield '#.....#'\n",
    "    yield '#.....#'\n",
    "    yield '##...##'\n",
    "    yield '3 7'\n",
    "    yield '#.....#'\n",
    "    yield '#.....#'\n",
    "    yield '##..###'\n",
    "    yield '8 10'\n",
    "    yield '##########'\n",
    "    yield '#........#'\n",
    "    yield '#........#'\n",
    "    yield '#........#'\n",
    "    yield '#........#'\n",
    "    yield '#........#'\n",
    "    yield '#........#'\n",
    "    yield '##########'\n",
    "\n",
    "def input():\n",
    "    return next(G)\n",
    "G = test_data()\n",
    "\n",
    "import sys\n",
    "# input = sys.stdin.readline\n",
    "\n",
    "def get_first_blank() :\n",
    "    '''\n",
    "    첫 흰색 공백의 좌표 리턴\n",
    "    '''\n",
    "    for x in range(H) :\n",
    "        for y in range(W) :\n",
    "            if board[x][y] == '.' :\n",
    "                return x, y\n",
    "\n",
    "    return -1,-1\n",
    "\n",
    "\n",
    "def check_block(x, y, num) :\n",
    "    '''\n",
    "     x, y 좌표에서 4가지 방법 중 하나로 덮을 수 있는지 확인\n",
    "     # False 조건\n",
    "     1. x 좌표가 보드를 벗어남\n",
    "     2  y 좌표가 보드를 벗어남\n",
    "     3. 현재 좌표가 #임\n",
    "    '''\n",
    "    for dx,dy in block[num] :\n",
    "\n",
    "        nx = x + dx\n",
    "        ny = y + dy\n",
    "\n",
    "        if not (0 <= nx < H and 0 <= ny < W) or board[nx][ny] == '#':\n",
    "            return False\n",
    "        \n",
    "    return True\n",
    "\n",
    "\n",
    "def fill(x, y, num, char) :\n",
    "    '''\n",
    "    주어진 방식과 문자대로 보드를 채움\n",
    "    1. '#'을 줘서 채우기\n",
    "    2. '.'을 줘서 공백으로 비우기\n",
    "    '''\n",
    "    for dx, dy in block[num] :\n",
    "        nx = x + dx\n",
    "        ny = y + dy\n",
    "        board[nx][ny] = char\n",
    "\n",
    "\n",
    "def dfs() :\n",
    "    x, y = get_first_blank()\n",
    "    if x == -1 and y == -1 :\n",
    "        return 1\n",
    "\n",
    "    cnt = 0\n",
    "    for num in range(len(block)) :\n",
    "        if check_block(x, y, num) :\n",
    "            fill(x, y, num, '#')\n",
    "            cnt += dfs()\n",
    "            fill(x, y, num, '.')\n",
    "\n",
    "    return cnt\n",
    "\n",
    "block = [\n",
    "    [(0, 0),(0, 1),(1, 0)],  # 3시, 6시\n",
    "    [(0, 0),(0, 1),(1, 1)],  # 3시, 5시\n",
    "    [(0, 0),(1, 0),(1, 1)],  # 5시, 6시\n",
    "    [(0, 0),(1, 0),(1, -1)]  # 6시, 7시\n",
    "]\n",
    "\n",
    "for _ in range(int(input())) :\n",
    "    H,W = map(int, input().rstrip().split(' '))\n",
    "    board = []\n",
    "\n",
    "    for _ in range(H) :\n",
    "        board.append(list(input().rstrip()))\n",
    "\n",
    "    cnt =  0\n",
    "    for row in range(H) :\n",
    "        for col in range(W) :\n",
    "            if board[row][col] == '.' :\n",
    "                cnt += 1\n",
    "\n",
    "    if cnt % 3 != 0 :  # 기저: 애초에 못채움\n",
    "        print('0')\n",
    "        continue\n",
    "        \n",
    "        \n",
    "    print(dfs())  # DFS"
   ]
  }
 ],
 "metadata": {
  "kernelspec": {
   "display_name": "Python 3",
   "language": "python",
   "name": "python3"
  },
  "language_info": {
   "codemirror_mode": {
    "name": "ipython",
    "version": 3
   },
   "file_extension": ".py",
   "mimetype": "text/x-python",
   "name": "python",
   "nbconvert_exporter": "python",
   "pygments_lexer": "ipython3",
   "version": "3.6.10"
  },
  "varInspector": {
   "cols": {
    "lenName": 16,
    "lenType": 16,
    "lenVar": 40
   },
   "kernels_config": {
    "python": {
     "delete_cmd_postfix": "",
     "delete_cmd_prefix": "del ",
     "library": "var_list.py",
     "varRefreshCmd": "print(var_dic_list())"
    },
    "r": {
     "delete_cmd_postfix": ") ",
     "delete_cmd_prefix": "rm(",
     "library": "var_list.r",
     "varRefreshCmd": "cat(var_dic_list()) "
    }
   },
   "types_to_exclude": [
    "module",
    "function",
    "builtin_function_or_method",
    "instance",
    "_Feature"
   ],
   "window_display": false
  }
 },
 "nbformat": 4,
 "nbformat_minor": 4
}
