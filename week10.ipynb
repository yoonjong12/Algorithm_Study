{
 "cells": [
  {
   "cell_type": "markdown",
   "metadata": {},
   "source": [
    "# Minimum Add to Make Parentheses Valid\n",
    "\n",
    "<div><p>Given a string&nbsp;<code>S</code> of <code>'('</code> and <code>')'</code> parentheses, we add the minimum number of parentheses ( <code>'('</code> or <code>')'</code>, and in any positions ) so that the resulting parentheses string is valid.</p>\n",
    "\n",
    "<p>Formally, a parentheses string is valid if and only if:</p>\n",
    "\n",
    "<ul>\n",
    "\t<li>It is the empty string, or</li>\n",
    "\t<li>It can be written as <code>AB</code>&nbsp;(<code>A</code> concatenated with <code>B</code>), where <code>A</code> and <code>B</code> are valid strings, or</li>\n",
    "\t<li>It can be written as <code>(A)</code>, where <code>A</code> is a valid string.</li>\n",
    "</ul>\n",
    "\n",
    "<p>Given a parentheses string, return the minimum number of parentheses we must add to make the resulting string valid.</p>\n",
    "\n",
    "<p>&nbsp;</p>\n",
    "\n",
    "<p><strong>Example 1:</strong></p>\n",
    "\n",
    "<pre><strong>Input: </strong><span id=\"example-input-1-1\">\"())\"</span>\n",
    "<strong>Output: </strong><span id=\"example-output-1\">1</span>\n",
    "</pre>\n",
    "\n",
    "<div>\n",
    "<p><strong>Example 2:</strong></p>\n",
    "\n",
    "<pre><strong>Input: </strong><span id=\"example-input-2-1\">\"(((\"</span>\n",
    "<strong>Output: </strong><span id=\"example-output-2\">3</span>\n",
    "</pre>\n",
    "\n",
    "<div>\n",
    "<p><strong>Example 3:</strong></p>\n",
    "\n",
    "<pre><strong>Input: </strong><span id=\"example-input-3-1\">\"()\"</span>\n",
    "<strong>Output: </strong><span id=\"example-output-3\">0</span>\n",
    "</pre>\n",
    "\n",
    "<div>\n",
    "<p><strong>Example 4:</strong></p>\n",
    "\n",
    "<pre><strong>Input: </strong><span id=\"example-input-4-1\">\"()))((\"</span>\n",
    "<strong>Output: </strong><span id=\"example-output-4\">4</span></pre>\n",
    "\n",
    "<p>&nbsp;</p>\n",
    "</div>\n",
    "</div>\n",
    "</div>\n",
    "\n",
    "<p><strong>Note:</strong></p>\n",
    "\n",
    "<ol>\n",
    "\t<li><code>S.length &lt;= 1000</code></li>\n",
    "\t<li><code>S</code> only consists of <code>'('</code> and <code>')'</code> characters.</li>\n",
    "</ol>\n",
    "\n",
    "<div>\n",
    "<div>\n",
    "<div>\n",
    "<div>&nbsp;</div>\n",
    "</div>\n",
    "</div>\n",
    "</div></div>"
   ]
  },
  {
   "cell_type": "code",
   "execution_count": 5,
   "metadata": {},
   "outputs": [
    {
     "data": {
      "text/plain": [
       "4"
      ]
     },
     "execution_count": 5,
     "metadata": {},
     "output_type": "execute_result"
    }
   ],
   "source": [
    "S = '()))(('\n",
    "import queue\n",
    "\n",
    "class Solution:\n",
    "    def minAddToMakeValid(self, S: str) -> int:\n",
    "\n",
    "        open_queue = queue.Queue()\n",
    "        count = 0\n",
    "        for i in range(len(S)):            \n",
    "            if S[i] == '(':\n",
    "            \n",
    "                open_queue.put_nowait(i)\n",
    "\n",
    "            else:\n",
    "                if not open_queue.empty():\n",
    "                    open_queue.get_nowait()\n",
    "                else:\n",
    "                    count += 1\n",
    "\n",
    "        return count + open_queue.qsize()\n",
    "\n",
    "s = Solution()\n",
    "s.minAddToMakeValid(S)\n"
   ]
  },
  {
   "cell_type": "markdown",
   "metadata": {},
   "source": [
    "## JumpGame 1\n",
    "\n",
    "<div><p>Given an array of non-negative integers, you are initially positioned at the first index of the array.</p>\n",
    "\n",
    "<p>Each element in the array represents your maximum jump length at that position.</p>\n",
    "\n",
    "<p>Determine if you are able to reach the last index.</p>\n",
    "\n",
    "<p><strong>Example 1:</strong></p>\n",
    "\n",
    "<pre><strong>Input:</strong> [2,3,1,1,4]\n",
    "<strong>Output:</strong> true\n",
    "<strong>Explanation:</strong> Jump 1 step from index 0 to 1, then 3 steps to the last index.\n",
    "</pre>\n",
    "\n",
    "<p><strong>Example 2:</strong></p>\n",
    "\n",
    "<pre><strong>Input:</strong> [3,2,1,0,4]\n",
    "<strong>Output:</strong> false\n",
    "<strong>Explanation:</strong> You will always arrive at index 3 no matter what. Its maximum\n",
    "&nbsp;            jump length is 0, which makes it impossible to reach the last index.\n",
    "</pre>\n",
    "</div>"
   ]
  },
  {
   "cell_type": "code",
   "execution_count": 15,
   "metadata": {},
   "outputs": [],
   "source": [
    "# 1. 길이가 1이면 True\n",
    "# 2. 집합이 0하나면 False\n",
    "# 3. max_jump는 이동할 수 있는 최대 거리 (리스트의 인덱스 + 점프 거리)\n",
    "# 4. finish는 도착점 (리스트 인덱스)\n",
    "# 5. nums를 순회하면서 max_jump를 업데이트 한다.\n",
    "# 6. 만약 0을 만났고 max_jump가 현재 인덱스를 넘지 못하면 False\n",
    "\n",
    "class Solution:\n",
    "    def canJump(self, nums: List[int]) -> bool:\n",
    "        if len(nums) == 1:\n",
    "            return True\n",
    "        if set(nums) == {0}:\n",
    "            return False\n",
    "        max_jump = 0\n",
    "        finish = len(nums)-1\n",
    "        for index, jump in enumerate(nums):\n",
    "            if max_jump >= finish:\n",
    "                return True\n",
    "            \n",
    "            current_jump = index+jump\n",
    "            if jump:\n",
    "                if max_jump < current_jump: max_jump = current_jump\n",
    "            else:\n",
    "                if max_jump <= index:\n",
    "                    return False"
   ]
  },
  {
   "cell_type": "code",
   "execution_count": 16,
   "metadata": {},
   "outputs": [
    {
     "name": "stdout",
     "output_type": "stream",
     "text": [
      "0 0\n",
      "1 2\n",
      "2 4\n"
     ]
    },
    {
     "data": {
      "text/plain": [
       "True"
      ]
     },
     "execution_count": 16,
     "metadata": {},
     "output_type": "execute_result"
    }
   ],
   "source": [
    "s = Solution()\n",
    "s.jump([2,3,1,1,4])"
   ]
  },
  {
   "cell_type": "markdown",
   "metadata": {},
   "source": [
    "## Decode ways\n",
    "\n",
    "<div><p>A message containing letters from <code>A-Z</code> is being encoded to numbers using the following mapping:</p>\n",
    "\n",
    "<pre>'A' -&gt; 1\n",
    "'B' -&gt; 2\n",
    "...\n",
    "'Z' -&gt; 26\n",
    "</pre>\n",
    "\n",
    "<p>Given a <strong>non-empty</strong> string containing only digits, determine the total number of ways to decode it.</p>\n",
    "\n",
    "<p><strong>Example 1:</strong></p>\n",
    "\n",
    "<pre><strong>Input:</strong> \"12\"\n",
    "<strong>Output:</strong> 2\n",
    "<strong>Explanation:</strong>&nbsp;It could be decoded as \"AB\" (1 2) or \"L\" (12).\n",
    "</pre>\n",
    "\n",
    "<p><strong>Example 2:</strong></p>\n",
    "\n",
    "<pre><strong>Input:</strong> \"226\"\n",
    "<strong>Output:</strong> 3\n",
    "<strong>Explanation:</strong>&nbsp;It could be decoded as \"BZ\" (2 26), \"VF\" (22 6), or \"BBF\" (2 2 6).</pre>\n",
    "</div>"
   ]
  },
  {
   "cell_type": "code",
   "execution_count": 23,
   "metadata": {},
   "outputs": [
    {
     "name": "stdout",
     "output_type": "stream",
     "text": [
      "prev ways i\n",
      "1    1    2 1\n",
      "prev ways i\n",
      "1    2    2 2\n",
      "prev ways i\n",
      "2    3    6 3\n",
      "prev ways i\n",
      "3    3    1 3\n",
      "prev ways i\n",
      "3    6    2 6\n"
     ]
    },
    {
     "data": {
      "text/plain": [
       "6"
      ]
     },
     "execution_count": 23,
     "metadata": {},
     "output_type": "execute_result"
    }
   ],
   "source": [
    "'''\n",
    " prev = 이전 스텝까지의 방법 수 \n",
    " ways = 현재 업데이트 된 방법 수\n",
    " \n",
    "'''\n",
    "class Solution:\n",
    "    def numDecodings(self, s):\n",
    "        prev = 0\n",
    "        ways = 1\n",
    "        for i in range(len(s)):\n",
    "            temp = 0\n",
    "            if s[i] != '0':\n",
    "                temp = ways \n",
    "            # 1 ~ 27 사이\n",
    "            if i>0 and s[i-1] != '0' and int(s[i-1:i+1])<27:\n",
    "                temp += prev\n",
    "            prev = ways\n",
    "            ways = temp\n",
    "            print('prev', 'ways', 'i')\n",
    "            print(prev,'  ', ways,'  ', s[i])\n",
    "\n",
    "        return ways\n",
    "    \n",
    "s = Solution()\n",
    "s.numDecodings('22612')"
   ]
  }
 ],
 "metadata": {
  "kernelspec": {
   "display_name": "Python 3",
   "language": "python",
   "name": "python3"
  },
  "language_info": {
   "codemirror_mode": {
    "name": "ipython",
    "version": 3
   },
   "file_extension": ".py",
   "mimetype": "text/x-python",
   "name": "python",
   "nbconvert_exporter": "python",
   "pygments_lexer": "ipython3",
   "version": "3.6.10"
  },
  "varInspector": {
   "cols": {
    "lenName": 16,
    "lenType": 16,
    "lenVar": 40
   },
   "kernels_config": {
    "python": {
     "delete_cmd_postfix": "",
     "delete_cmd_prefix": "del ",
     "library": "var_list.py",
     "varRefreshCmd": "print(var_dic_list())"
    },
    "r": {
     "delete_cmd_postfix": ") ",
     "delete_cmd_prefix": "rm(",
     "library": "var_list.r",
     "varRefreshCmd": "cat(var_dic_list()) "
    }
   },
   "types_to_exclude": [
    "module",
    "function",
    "builtin_function_or_method",
    "instance",
    "_Feature"
   ],
   "window_display": false
  }
 },
 "nbformat": 4,
 "nbformat_minor": 2
}
