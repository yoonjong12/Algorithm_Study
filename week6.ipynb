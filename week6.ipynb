{
 "cells": [
  {
   "cell_type": "markdown",
   "metadata": {},
   "source": [
    "# 소수 찾기\n",
    "\n",
    "<div class=\"guide-section-description\">\n",
    "      <h6 class=\"guide-section-title\">문제 설명</h6>\n",
    "      <div class=\"markdown solarized-dark\"><p>한자리 숫자가 적힌 종이 조각이 흩어져있습니다. 흩어진 종이 조각을 붙여 소수를 몇 개 만들 수 있는지 알아내려 합니다.</p>\n",
    "\n",
    "<p>각 종이 조각에 적힌 숫자가 적힌 문자열 numbers가 주어졌을 때, 종이 조각으로 만들 수 있는 소수가 몇 개인지 return 하도록 solution 함수를 완성해주세요.</p>\n",
    "\n",
    "<h5>제한사항</h5>\n",
    "\n",
    "<ul>\n",
    "<li>numbers는 길이 1 이상 7 이하인 문자열입니다.</li>\n",
    "<li>numbers는 0~9까지 숫자만으로 이루어져 있습니다.</li>\n",
    "<li><q>013</q>은 0, 1, 3 숫자가 적힌 종이 조각이 흩어져있다는 의미입니다.</li>\n",
    "</ul>\n",
    "\n",
    "<h5>입출력 예</h5>\n",
    "<table class=\"table\">\n",
    "        <thead><tr>\n",
    "<th>numbers</th>\n",
    "<th>return</th>\n",
    "</tr>\n",
    "</thead>\n",
    "        <tbody><tr>\n",
    "<td><q>17</q></td>\n",
    "<td>3</td>\n",
    "</tr>\n",
    "<tr>\n",
    "<td><q>011</q></td>\n",
    "<td>2</td>\n",
    "</tr>\n",
    "</tbody>\n",
    "      </table>\n",
    "<h5>입출력 예 설명</h5>\n",
    "\n",
    "<p>예제 #1<br>\n",
    "[1, 7]으로는 소수 [7, 17, 71]를 만들 수 있습니다.</p>\n",
    "\n",
    "<p>예제 #2<br>\n",
    "[0, 1, 1]으로는 소수 [11, 101]를 만들 수 있습니다.</p>\n",
    "\n",
    "<ul>\n",
    "<li>11과 011은 같은 숫자로 취급합니다.</li>\n",
    "</ul>\n",
    "\n",
    "<p><a href=\"http://2009.nwerc.eu/results/nwerc09.pdf\" target=\"_blank\" rel=\"noopener\">출처</a></p>\n",
    "</div>\n",
    "    </div>"
   ]
  },
  {
   "cell_type": "code",
   "execution_count": 98,
   "metadata": {},
   "outputs": [
    {
     "data": {
      "text/plain": [
       "3"
      ]
     },
     "execution_count": 98,
     "metadata": {},
     "output_type": "execute_result"
    }
   ],
   "source": [
    "# 1. numbers를 list로 split한다.\n",
    "# 2. 만들 수 있는 모든 가능한 숫자 조합을 찾는다.(왼쪽 0 처리는 int로 형변환하면서 자동으로 되는듯)\n",
    "# 3. 숫자 중에서 소수인 수의 개수를 센다.\n",
    "# 3-1. 2 또는 3이면 선별\n",
    "# 3-2. 0 그리고 1이 아니어야 소수 찾는 반복문에 통과\n",
    "# 3-3. 2부터 number의 절반까지 나눠보면서 나머지가 0인 케이스가 없으면 소수로 판단 (절반 넘어가면 의미가 없다고 생각했음)\n",
    "# 4. 모든 소수 집합의 길이를 반환\n",
    "from itertools import permutations\n",
    "def solution(numbers):\n",
    "    all_sets = []\n",
    "    for n in range(1, len(numbers)+1):\n",
    "        prm_sets = list(permutations(numbers, n))\n",
    "        for i in prm_sets:\n",
    "            number = int(''.join(i))\n",
    "            \n",
    "            # 3-1\n",
    "            if number == 2 or number == 3:\n",
    "                all_sets.append(number)\n",
    "            # 3-2\n",
    "            elif number != 0 and number != 1:\n",
    "                # 3-3\n",
    "                for j in range(2, number//2+1):\n",
    "                    if number % j == 0 or number == 0 or number == 1:\n",
    "                        break\n",
    "                else:\n",
    "                    all_sets.append(number)\n",
    "    return len(set(all_sets))\n",
    "\n",
    "solution('17')"
   ]
  },
  {
   "cell_type": "markdown",
   "metadata": {},
   "source": [
    "# 타겟 넘버\n",
    "\n",
    "<div class=\"guide-section-description\">\n",
    "      <h6 class=\"guide-section-title\">문제 설명</h6>\n",
    "      <div class=\"markdown solarized-dark\"><p>n개의 음이 아닌 정수가 있습니다. 이 수를 적절히 더하거나 빼서 타겟 넘버를 만들려고 합니다. 예를 들어 [1, 1, 1, 1, 1]로 숫자 3을 만들려면 다음 다섯 방법을 쓸 수 있습니다.</p>\n",
    "<div class=\"highlight\"><pre class=\"codehilite\"><code>-1+1+1+1+1 = 3\n",
    "+1-1+1+1+1 = 3\n",
    "+1+1-1+1+1 = 3\n",
    "+1+1+1-1+1 = 3\n",
    "+1+1+1+1-1 = 3\n",
    "</code></pre></div>\n",
    "<p>사용할 수 있는 숫자가 담긴 배열 numbers, 타겟 넘버 target이 매개변수로 주어질 때 숫자를 적절히 더하고 빼서 타겟 넘버를 만드는 방법의 수를 return 하도록 solution 함수를 작성해주세요.</p>\n",
    "\n",
    "<h5>제한사항</h5>\n",
    "\n",
    "<ul>\n",
    "<li>주어지는 숫자의 개수는 2개 이상 20개 이하입니다.</li>\n",
    "<li>각 숫자는 1 이상 50 이하인 자연수입니다.</li>\n",
    "<li>타겟 넘버는 1 이상 1000 이하인 자연수입니다.</li>\n",
    "</ul>\n",
    "\n",
    "<h5>입출력 예</h5>\n",
    "<table class=\"table\">\n",
    "        <thead><tr>\n",
    "<th>numbers</th>\n",
    "<th>target</th>\n",
    "<th>return</th>\n",
    "</tr>\n",
    "</thead>\n",
    "        <tbody><tr>\n",
    "<td>[1, 1, 1, 1, 1]</td>\n",
    "<td>3</td>\n",
    "<td>5</td>\n",
    "</tr>\n",
    "</tbody>\n",
    "      </table>\n",
    "<h5>입출력 예 설명</h5>\n",
    "\n",
    "<p>문제에 나온 예와 같습니다.</p>\n",
    "</div>\n",
    "    </div>"
   ]
  },
  {
   "cell_type": "code",
   "execution_count": 171,
   "metadata": {},
   "outputs": [
    {
     "data": {
      "text/plain": [
       "1"
      ]
     },
     "execution_count": 171,
     "metadata": {},
     "output_type": "execute_result"
    }
   ],
   "source": [
    "def solution1(numbers, target):\n",
    "    answer = [0]\n",
    "    for i in numbers:\n",
    "        temp = []\n",
    "        for j in answer:\n",
    "            temp.append(j+i)\n",
    "            temp.append(j-i)\n",
    "        answer=temp\n",
    "    return answer.count(target)\n",
    "\n",
    "numbers = [1,2,3]\n",
    "target = 6\n",
    "solution(numbers, target)"
   ]
  },
  {
   "cell_type": "code",
   "execution_count": 172,
   "metadata": {},
   "outputs": [
    {
     "data": {
      "text/plain": [
       "1"
      ]
     },
     "execution_count": 172,
     "metadata": {},
     "output_type": "execute_result"
    }
   ],
   "source": [
    "# 재귀로 멋있게 풀 방법이 있을 것 같은데 안떠올라서 구글링하다가 발견한 코드\n",
    "\n",
    "# 1. (기저) num[index] 가 0또는 None이면 0 리턴\n",
    "# 1-1. (기저) 타겟도 0이면 1 리턴\n",
    "# 2. 아니면 재귀로 index+1하고 target에 +num[index]과 -num[index] 두 가지로 나눈다.\n",
    "\n",
    "def solution2(numbers, target):\n",
    "    if not numbers:\n",
    "        if target == 0 :\n",
    "            return 1\n",
    "        return 0\n",
    "    else:\n",
    "        return solution(numbers[1:], target-numbers[0]) + solution(numbers[1:], target+numbers[0])\n",
    "    \n",
    "solution(numbers, target)"
   ]
  },
  {
   "cell_type": "code",
   "execution_count": 182,
   "metadata": {},
   "outputs": [
    {
     "name": "stdout",
     "output_type": "stream",
     "text": [
      "239 ms ± 0 ns per loop (mean ± std. dev. of 1 run, 1 loop each)\n",
      "501 ms ± 0 ns per loop (mean ± std. dev. of 1 run, 1 loop each)\n"
     ]
    }
   ],
   "source": [
    "import random\n",
    "a = [random.randint(1, 50) for _ in range(20)]\n",
    "target = random.randint(1,1000)\n",
    "%timeit -n 1 -r 1 solution1(a,target)\n",
    "%timeit -n 1 -r 1 solution2(a,target)\n",
    "\n",
    "# 첫 번째가 더 빠른데?"
   ]
  },
  {
   "cell_type": "code",
   "execution_count": null,
   "metadata": {},
   "outputs": [],
   "source": []
  }
 ],
 "metadata": {
  "kernelspec": {
   "display_name": "Python 3",
   "language": "python",
   "name": "python3"
  },
  "language_info": {
   "codemirror_mode": {
    "name": "ipython",
    "version": 3
   },
   "file_extension": ".py",
   "mimetype": "text/x-python",
   "name": "python",
   "nbconvert_exporter": "python",
   "pygments_lexer": "ipython3",
   "version": "3.6.9"
  }
 },
 "nbformat": 4,
 "nbformat_minor": 2
}
